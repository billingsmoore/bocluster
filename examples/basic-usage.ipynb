{
 "cells": [
  {
   "cell_type": "markdown",
   "metadata": {},
   "source": [
    "# easy_text_clustering Example Basic Workflow\n",
    "\n",
    "Here, I've imported the libraries, loaded the dataset, and run the optimize_fit method. Once the ClusterClassifier is finished fitting, the show method will produce a visualization of the results. Setting interative to True allows the user to zoom, pan, etc. on the visualization. This will also allow the user to view the texts of points in the visualization as a tooltip when they hover over them with their mouse."
   ]
  },
  {
   "cell_type": "code",
   "execution_count": 3,
   "metadata": {},
   "outputs": [
    {
     "name": "stderr",
     "output_type": "stream",
     "text": [
      "INFO:sentence_transformers.SentenceTransformer:Load pretrained SentenceTransformer: all-MiniLM-L6-v2\n"
     ]
    },
    {
     "data": {
      "application/vnd.jupyter.widget-view+json": {
       "model_id": "8a363c4f6d4748878775753120443474",
       "version_major": 2,
       "version_minor": 0
      },
      "text/plain": [
       "Batches:   0%|          | 0/15 [00:00<?, ?it/s]"
      ]
     },
     "metadata": {},
     "output_type": "display_data"
    },
    {
     "name": "stderr",
     "output_type": "stream",
     "text": [
      "[I 2024-12-10 16:42:03,946] A new study created in memory with name: no-name-e2d63729-3d86-43ad-8ae9-e2797a404c68\n",
      "[I 2024-12-10 16:42:07,922] Trial 0 finished with value: 12.7538023076848 and parameters: {'umap_n_neighbors': 16, 'umap_min_dist': 0.004606967214701552, 'hdbscan_min_cluster_size': 74, 'cluster_selection_epsilon': 0.15380042823407247}. Best is trial 0 with value: 12.7538023076848.\n",
      "[I 2024-12-10 16:42:09,665] Trial 1 finished with value: 3.2876793651988256 and parameters: {'umap_n_neighbors': 47, 'umap_min_dist': 0.37789559750987955, 'hdbscan_min_cluster_size': 25, 'cluster_selection_epsilon': 0.09595060871064054}. Best is trial 0 with value: 12.7538023076848.\n",
      "[I 2024-12-10 16:42:11,417] Trial 2 finished with value: 2.642796690875789 and parameters: {'umap_n_neighbors': 20, 'umap_min_dist': 0.9323012382834798, 'hdbscan_min_cluster_size': 58, 'cluster_selection_epsilon': 0.053816848454125044}. Best is trial 0 with value: 12.7538023076848.\n",
      "[I 2024-12-10 16:42:13,197] Trial 3 finished with value: 2.911976120349692 and parameters: {'umap_n_neighbors': 36, 'umap_min_dist': 0.5486278442651911, 'hdbscan_min_cluster_size': 76, 'cluster_selection_epsilon': 0.6124319533806754}. Best is trial 0 with value: 12.7538023076848.\n",
      "[I 2024-12-10 16:42:15,041] Trial 4 finished with value: 2.964289745075551 and parameters: {'umap_n_neighbors': 28, 'umap_min_dist': 0.9110373603757105, 'hdbscan_min_cluster_size': 46, 'cluster_selection_epsilon': 0.11267194915961232}. Best is trial 0 with value: 12.7538023076848.\n",
      "[I 2024-12-10 16:42:16,829] Trial 5 finished with value: -1.0 and parameters: {'umap_n_neighbors': 38, 'umap_min_dist': 0.8955856818480679, 'hdbscan_min_cluster_size': 96, 'cluster_selection_epsilon': 0.5031715066373404}. Best is trial 0 with value: 12.7538023076848.\n"
     ]
    },
    {
     "name": "stdout",
     "output_type": "stream",
     "text": [
      "Number of labels is 1. Valid values are 2 to n_samples - 1 (inclusive)\n"
     ]
    },
    {
     "name": "stderr",
     "output_type": "stream",
     "text": [
      "[I 2024-12-10 16:42:18,230] Trial 6 finished with value: 2.749151149154712 and parameters: {'umap_n_neighbors': 5, 'umap_min_dist': 0.5204428821070286, 'hdbscan_min_cluster_size': 98, 'cluster_selection_epsilon': 0.6680353356232641}. Best is trial 0 with value: 12.7538023076848.\n",
      "[I 2024-12-10 16:42:20,208] Trial 7 finished with value: 15.519895527774628 and parameters: {'umap_n_neighbors': 43, 'umap_min_dist': 0.04886626415969375, 'hdbscan_min_cluster_size': 60, 'cluster_selection_epsilon': 0.8150596823487176}. Best is trial 7 with value: 15.519895527774628.\n",
      "[I 2024-12-10 16:42:21,792] Trial 8 finished with value: 2.5949037370236616 and parameters: {'umap_n_neighbors': 16, 'umap_min_dist': 0.8443088289999198, 'hdbscan_min_cluster_size': 20, 'cluster_selection_epsilon': 0.6045407534523882}. Best is trial 7 with value: 15.519895527774628.\n",
      "[I 2024-12-10 16:42:23,926] Trial 9 finished with value: 2.7710027544642117 and parameters: {'umap_n_neighbors': 47, 'umap_min_dist': 0.7717815153686178, 'hdbscan_min_cluster_size': 67, 'cluster_selection_epsilon': 0.49646083943093133}. Best is trial 7 with value: 15.519895527774628.\n",
      "[I 2024-12-10 16:42:25,995] Trial 10 finished with value: 17.591715667659468 and parameters: {'umap_n_neighbors': 36, 'umap_min_dist': 0.02083922519274284, 'hdbscan_min_cluster_size': 37, 'cluster_selection_epsilon': 0.9833850833245525}. Best is trial 10 with value: 17.591715667659468.\n",
      "[I 2024-12-10 16:42:28,180] Trial 11 finished with value: 22.677805881863055 and parameters: {'umap_n_neighbors': 37, 'umap_min_dist': 0.00011533589007498707, 'hdbscan_min_cluster_size': 38, 'cluster_selection_epsilon': 0.9723202772175958}. Best is trial 11 with value: 22.677805881863055.\n",
      "[I 2024-12-10 16:42:30,130] Trial 12 finished with value: 10.411241438156237 and parameters: {'umap_n_neighbors': 32, 'umap_min_dist': 0.19603767693469396, 'hdbscan_min_cluster_size': 38, 'cluster_selection_epsilon': 0.9979426847610781}. Best is trial 11 with value: 22.677805881863055.\n",
      "[I 2024-12-10 16:42:32,661] Trial 13 finished with value: 7.319190163736665 and parameters: {'umap_n_neighbors': 39, 'umap_min_dist': 0.1981765198755042, 'hdbscan_min_cluster_size': 6, 'cluster_selection_epsilon': 0.9853364237487334}. Best is trial 11 with value: 22.677805881863055.\n",
      "[I 2024-12-10 16:42:34,387] Trial 14 finished with value: 9.634368175711074 and parameters: {'umap_n_neighbors': 24, 'umap_min_dist': 0.19940702429547966, 'hdbscan_min_cluster_size': 35, 'cluster_selection_epsilon': 0.8472403885989123}. Best is trial 11 with value: 22.677805881863055.\n",
      "[I 2024-12-10 16:42:36,312] Trial 15 finished with value: 15.077492133762417 and parameters: {'umap_n_neighbors': 31, 'umap_min_dist': 0.09619115389770333, 'hdbscan_min_cluster_size': 21, 'cluster_selection_epsilon': 0.8353545206926971}. Best is trial 11 with value: 22.677805881863055.\n",
      "[I 2024-12-10 16:42:38,298] Trial 16 finished with value: 5.50746792006316 and parameters: {'umap_n_neighbors': 42, 'umap_min_dist': 0.36436584333191685, 'hdbscan_min_cluster_size': 49, 'cluster_selection_epsilon': 0.2847121142349678}. Best is trial 11 with value: 22.677805881863055.\n",
      "[I 2024-12-10 16:42:40,202] Trial 17 finished with value: 6.356424419313676 and parameters: {'umap_n_neighbors': 33, 'umap_min_dist': 0.3588871793566632, 'hdbscan_min_cluster_size': 34, 'cluster_selection_epsilon': 0.7589070876478164}. Best is trial 11 with value: 22.677805881863055.\n",
      "[I 2024-12-10 16:42:42,431] Trial 18 finished with value: 3.4189511601678557 and parameters: {'umap_n_neighbors': 50, 'umap_min_dist': 0.6965126505738537, 'hdbscan_min_cluster_size': 10, 'cluster_selection_epsilon': 0.9030923466263364}. Best is trial 11 with value: 22.677805881863055.\n",
      "[I 2024-12-10 16:42:44,312] Trial 19 finished with value: 11.384440529211782 and parameters: {'umap_n_neighbors': 25, 'umap_min_dist': 0.15279976650055704, 'hdbscan_min_cluster_size': 43, 'cluster_selection_epsilon': 0.7315083389827897}. Best is trial 11 with value: 22.677805881863055.\n",
      "INFO:root:Using precomputed embeddings...\n",
      "INFO:root:Building FAISS index...\n",
      "INFO:root:Projecting with umap...\n",
      "INFO:root:Clustering...\n",
      "INFO:root:Summarizing cluster centers...\n"
     ]
    },
    {
     "name": "stdout",
     "output_type": "stream",
     "text": [
      "Using HDBSCAN params={'cluster_selection_method': 'leaf', 'min_cluster_size': 38, 'metric': 'euclidean', 'cluster_selection_epsilon': 0.9723202772175958}\n",
      "Request:\n",
      "<s>[INST]Example 1:\n",
      "The crowd chanted loudly, supporting their football team in the final moments.\n",
      "\n",
      "Example 2:\n",
      "The power forward’s dunk electrified the crowd and energized his team.\n",
      "\n",
      "Example 3:\n",
      "The crowd cheered as the point guard sank a buzzer-beater shot.\n",
      "\n",
      "Example 4:\n",
      "The defensive end forced a fumble that changed the momentum of the game.\n",
      "\n",
      "Example 5:\n",
      "The basketball team celebrated their championship win with confetti showers.\n",
      "\n",
      "Example 6:\n",
      "Dribbling skills are essential for success in basketball.\n",
      "\n",
      "Example 7:\n",
      "The basketball swished cleanly through the hoop, earning two points.\n",
      "\n",
      "Example 8:\n",
      "The power forward’s dunk electrified the crowd and energized his team.\n",
      "\n",
      "Example 9:\n",
      "The crowd erupted as the small forward nailed a clutch three-pointer.\n",
      "\n",
      "Example 10:\n",
      "The wide receiver’s toe-tap catch near the sideline was a thing of beauty.\n",
      "\n",
      "Use three words total (comma separated)to describe general topics in above texts. Under no circumstances use enumeration. Example format: Tree, Cat, Fireman[/INST]\n",
      "Number of clusters is 10\n"
     ]
    },
    {
     "data": {
      "application/vnd.plotly.v1+json": {
       "config": {
        "plotlyServerURL": "https://plot.ly"
       },
       "data": [
        {
         "customdata": [
          [
           "The pickup truck was loaded with heavy construction materials."
          ],
          [
           "The sports car accelerated down the highway at an incredible\nspeed."
          ],
          [
           "Trucks are commonly used to transport goods across long\ndistances."
          ],
          [
           "The electric car is becoming more popular due to its eco-\nfriendliness."
          ],
          [
           "SUVs are great for families who need extra space for passengers\nand cargo."
          ],
          [
           "The semi-truck carried a full load of fresh produce to the city\nmarket."
          ],
          [
           "The convertible's roof folded down as the driver enjoyed the\nsunny day."
          ],
          [
           "Diesel trucks are known for their power and durability."
          ],
          [
           "The compact car is perfect for navigating busy urban streets."
          ],
          [
           "The tow truck arrived to assist with the broken-down vehicle."
          ],
          [
           "Hybrid cars combine a gasoline engine with an electric motor for\nefficiency."
          ],
          [
           "Monster trucks are a popular attraction at motorsport events."
          ],
          [
           "The truck driver stopped at a rest area to take a break."
          ],
          [
           "A new sedan model was launched with advanced safety features."
          ],
          [
           "Pickup trucks often come with four-wheel drive for off-road\ncapability."
          ],
          [
           "Electric trucks are starting to compete with traditional diesel\nmodels."
          ],
          [
           "Luxury cars are equipped with premium materials and cutting-edge\ntechnology."
          ],
          [
           "The delivery truck brought a shipment of electronics to the\nstore."
          ],
          [
           "Muscle cars are known for their powerful engines and classic\ndesigns."
          ],
          [
           "Fire trucks are equipped with hoses, ladders, and rescue tools."
          ],
          [
           "The compact SUV offers great fuel economy and a comfortable\nride."
          ],
          [
           "Refrigerated trucks are essential for transporting perishable\ngoods."
          ],
          [
           "The race car zoomed past the finish line, claiming victory."
          ],
          [
           "Box trucks are commonly used for moving furniture and other\nlarge items."
          ],
          [
           "The sports utility truck is a blend of a pickup and an SUV."
          ],
          [
           "The minivan offers plenty of seating for large families."
          ],
          [
           "Flatbed trucks are ideal for hauling oversized loads."
          ],
          [
           "The concept car at the auto show showcased futuristic\ntechnology."
          ],
          [
           "Dump trucks are essential for construction and roadwork\nprojects."
          ],
          [
           "The police car chased the speeding vehicle through the city\nstreets."
          ],
          [
           "Self-driving trucks are being tested on highways for automated\ndelivery."
          ],
          [
           "The hatchback is a practical choice for small families."
          ],
          [
           "The heavy-duty truck was used to tow a stranded RV."
          ],
          [
           "Fuel-efficient cars are increasingly in demand as gas prices\nrise."
          ],
          [
           "Box trucks are often rented by individuals moving to a new home."
          ],
          [
           "The luxury SUV combines off-road capability with upscale\nfeatures."
          ],
          [
           "Off-road trucks are equipped with rugged tires and suspension\nsystems."
          ],
          [
           "The electric truck has a range of 300 miles on a full charge."
          ],
          [
           "The sports car featured a sleek, aerodynamic design."
          ],
          [
           "The 18-wheeler transported goods to warehouses across the\ncountry."
          ],
          [
           "Compact cars are easier to park in crowded urban areas."
          ],
          [
           "The fire truck sped to the scene of the emergency with sirens\nblaring."
          ],
          [
           "A classic car show displayed vintage vehicles from the 1960s."
          ],
          [
           "Delivery trucks are critical for e-commerce businesses."
          ],
          [
           "The hybrid SUV offers an excellent balance between power and\nefficiency."
          ],
          [
           "Semi-trucks require special licenses to operate due to their\nsize."
          ],
          [
           "The coupe is a stylish two-door car often preferred by young\ndrivers."
          ],
          [
           "Garbage trucks collect and transport waste to landfills or\nrecycling centers."
          ],
          [
           "The sports car's engine roared as it sped along the race track."
          ],
          [
           "Luxury sedans are known for their smooth ride and quiet cabins."
          ],
          [
           "Tank trucks are used to transport liquids like fuel and\nchemicals."
          ],
          [
           "The roadster is a fun, open-top car ideal for summer drives."
          ],
          [
           "Tow trucks play a vital role in removing disabled vehicles from\nroads."
          ],
          [
           "Cargo trucks are essential for international trade and\nlogistics."
          ],
          [
           "Police SUVs are increasingly used for their versatility and\nstorage capacity."
          ],
          [
           "Electric vehicles are revolutionizing the automotive industry."
          ],
          [
           "The supercar set a new record for the fastest lap time."
          ],
          [
           "Heavy-duty trucks are designed to handle the toughest jobs."
          ],
          [
           "Vintage cars often attract collectors and enthusiasts."
          ],
          [
           "Many modern cars come equipped with advanced driver-assistance\nsystems."
          ],
          [
           "The dump truck unloaded a pile of gravel at the construction\nsite."
          ],
          [
           "Trucks with all-wheel drive can handle snow and ice with ease."
          ],
          [
           "The classic pickup truck is a symbol of rugged reliability."
          ],
          [
           "The electric sports car combines speed with sustainability."
          ],
          [
           "Fleet trucks are used by companies for large-scale operations."
          ],
          [
           "The convertible offers a unique open-air driving experience."
          ],
          [
           "A new law requires stricter emissions standards for diesel\ntrucks."
          ],
          [
           "Car dealerships often have a wide selection of sedans and\ntrucks."
          ],
          [
           "Truck drivers are essential for maintaining supply chains."
          ],
          [
           "The crossover combines the benefits of a car and an SUV."
          ],
          [
           "Custom trucks often feature unique paint jobs and accessories."
          ],
          [
           "The smart car is designed for efficiency and city driving."
          ],
          [
           "Long-haul trucks are equipped with sleeping cabins for drivers."
          ],
          [
           "The classic muscle car is a favorite among collectors."
          ],
          [
           "Pickup trucks are frequently used for camping trips and outdoor\nadventures."
          ],
          [
           "Luxury electric cars are gaining popularity among\nenvironmentally conscious buyers."
          ],
          [
           "Many trucks now feature advanced navigation and telematics\nsystems."
          ],
          [
           "The hatchback's rear seats fold down to create more cargo space."
          ],
          [
           "Large SUVs are popular among drivers who tow boats or trailers."
          ],
          [
           "Classic trucks are often restored and showcased at auto shows."
          ],
          [
           "Emergency vehicles like fire trucks require quick access to\nwater supplies."
          ],
          [
           "Electric vans are being adopted for urban delivery routes."
          ],
          [
           "The luxury coupe offered a smooth and powerful driving\nexperience."
          ],
          [
           "Modern trucks often have turbocharged engines for better\nperformance."
          ],
          [
           "The autonomous car navigated city streets without any human\nintervention."
          ],
          [
           "Motorcycle enthusiasts often admire the design of custom trucks."
          ],
          [
           "The station wagon offers the practicality of a minivan in a\nsmaller package."
          ],
          [
           "The electric semi-truck is expected to lower operating costs for\nlogistics companies."
          ],
          [
           "The compact car's affordability makes it an excellent choice for\nstudents."
          ],
          [
           "Pickup trucks are a staple in rural areas for their utility and\ndurability."
          ],
          [
           "Race trucks are modified for speed and performance on dirt\ntracks."
          ],
          [
           "Vintage fire trucks are often displayed in parades and museums."
          ],
          [
           "The hybrid car seamlessly switches between gas and electric\npower."
          ],
          [
           "Many cars now feature touchscreen infotainment systems."
          ],
          [
           "The heavy-duty tow truck could handle the largest vehicles."
          ],
          [
           "Automotive enthusiasts often modify cars to improve performance."
          ],
          [
           "The refrigerated truck kept the food cold during transport."
          ],
          [
           "Truck stops provide rest and amenities for long-haul drivers."
          ],
          [
           "The cat curled up on the windowsill to enjoy the sunlight."
          ],
          [
           "Dogs are known for their loyalty and companionship."
          ],
          [
           "The kitten chased a ball of yarn across the floor."
          ],
          [
           "Golden Retrievers are one of the most popular dog breeds in the\nworld."
          ],
          [
           "The stray cat was rescued and given a warm home."
          ],
          [
           "Small dog breeds like Chihuahuas are perfect for apartment\nliving."
          ],
          [
           "The cat stretched lazily and yawned before falling asleep again."
          ],
          [
           "The dog wagged its tail excitedly when its owner came home."
          ],
          [
           "Siamese cats are known for their vocal and affectionate nature."
          ],
          [
           "German Shepherds are often used as police and service dogs."
          ],
          [
           "The puppy chewed on a new toy to relieve its teething\ndiscomfort."
          ],
          [
           "The cat's fur was soft and silky after being brushed."
          ],
          [
           "Labrador Retrievers are great with children and make excellent\nfamily pets."
          ],
          [
           "The black cat darted across the street and disappeared into an\nalley."
          ],
          [
           "The dog's bark alerted the family to a visitor at the door."
          ],
          [
           "Persian cats have long, luxurious fur and calm personalities."
          ],
          [
           "Huskies are known for their stunning blue eyes and high energy."
          ],
          [
           "The kitten climbed onto the couch and nestled into a cozy\nblanket."
          ],
          [
           "The dog chased its tail in playful circles."
          ],
          [
           "The calico cat's colorful coat made it stand out in the\nneighborhood."
          ],
          [
           "Border Collies are highly intelligent and excel at herding\nsheep."
          ],
          [
           "The tabby cat watched birds outside the window with keen\ninterest."
          ],
          [
           "The dog fetched the stick and returned it to its owner."
          ],
          [
           "Ragdoll cats are known for their relaxed and affectionate\ndemeanor."
          ],
          [
           "Beagles are often used as scent detection dogs due to their keen\nsense of smell."
          ],
          [
           "The kitten purred loudly as it was stroked under its chin."
          ],
          [
           "The dog slept soundly after a long day at the park."
          ],
          [
           "The ginger cat leapt gracefully onto the fence."
          ],
          [
           "Bulldogs are known for their stocky build and gentle\ntemperament."
          ],
          [
           "The stray dog found shelter in an animal rescue center."
          ],
          [
           "The cat's eyes gleamed in the darkness as it prowled the house\nat night."
          ],
          [
           "The dog's floppy ears bounced as it ran through the field."
          ],
          [
           "The Maine Coon is one of the largest domesticated cat breeds."
          ],
          [
           "Poodles are intelligent dogs that come in standard, miniature,\nand toy sizes."
          ],
          [
           "The playful kitten batted at a feather dangling from a string."
          ],
          [
           "The dog eagerly waited for its owner to throw the frisbee."
          ],
          [
           "Sphynx cats are unique for their lack of fur and need for\nwarmth."
          ],
          [
           "The Dalmatian's spotted coat is instantly recognizable."
          ],
          [
           "The cat balanced on the edge of the bookshelf with perfect\npoise."
          ],
          [
           "The dog whined softly, asking for a treat."
          ],
          [
           "The Bengal cat's coat resembled that of a wild leopard."
          ],
          [
           "Corgis are famous for their short legs and adorable\npersonalities."
          ],
          [
           "The kitten pounced on a toy mouse with uncontainable energy."
          ],
          [
           "The dog's nose twitched as it sniffed the fresh scent of grass."
          ],
          [
           "The Himalayan cat is a mix between Persian and Siamese breeds."
          ],
          [
           "The puppy's tail wagged furiously when it saw its favorite toy."
          ],
          [
           "The tuxedo cat's black-and-white coat made it look like it was\nwearing a suit."
          ],
          [
           "The Labrador helped its owner carry groceries into the house."
          ],
          [
           "The kitten hid under the bed during a thunderstorm."
          ],
          [
           "The dog splashed in the pond, chasing after a floating stick."
          ],
          [
           "The Russian Blue cat is known for its silvery coat and emerald-\ngreen eyes."
          ],
          [
           "The dog's loud bark scared away the intruder."
          ],
          [
           "The kitten explored every nook and cranny of its new home."
          ],
          [
           "The Saint Bernard is a gentle giant often associated with alpine\nrescues."
          ],
          [
           "The fluffy Persian cat lounged on a velvet cushion."
          ],
          [
           "The Border Collie guided the flock of sheep with remarkable\nprecision."
          ],
          [
           "The Siamese cat meowed insistently, demanding attention."
          ],
          [
           "The Dalmatian wagged its tail as children petted it at the park."
          ],
          [
           "The kitten's tiny claws got caught in the fabric of the\ncurtains."
          ],
          [
           "The dog rolled over, begging for a belly rub."
          ],
          [
           "The Abyssinian cat's short coat gleamed in the sunlight."
          ],
          [
           "The dog's eyes lit up at the sight of its leash, ready for a\nwalk."
          ],
          [
           "The tabby cat purred contentedly as it lay on its owner's lap."
          ],
          [
           "The Doberman stood alert, guarding the house."
          ],
          [
           "The playful puppy chased after butterflies in the garden."
          ],
          [
           "The Scottish Fold cat's folded ears gave it an adorable\nexpression."
          ],
          [
           "The dog dug a hole in the backyard to bury its bone."
          ],
          [
           "The kitten's playful antics brought laughter to the whole\nfamily."
          ],
          [
           "The Shih Tzu's long hair was tied up in a neat topknot."
          ],
          [
           "The alley cat scavenged for scraps behind the restaurant."
          ],
          [
           "The Great Dane towered over the smaller breeds at the dog park."
          ],
          [
           "The cat's sharp claws made quick work of the scratching post."
          ],
          [
           "The Jack Russell Terrier leapt high into the air to catch a\nball."
          ],
          [
           "The kitten's wide eyes sparkled as it discovered a new toy."
          ],
          [
           "The Golden Retriever swam across the lake with ease."
          ],
          [
           "The Burmese cat followed its owner from room to room."
          ],
          [
           "The pug snored loudly while napping on the couch."
          ],
          [
           "The fluffy kitten climbed the curtains, leaving tiny claw marks."
          ],
          [
           "The energetic puppy loved playing tug-of-war with a rope toy."
          ],
          [
           "The Norwegian Forest Cat's thick fur kept it warm in the winter."
          ],
          [
           "The puppy barked joyfully as it splashed through puddles."
          ],
          [
           "The kitten nibbled on a corner of its owner's book."
          ],
          [
           "The Akita Inu is a loyal and protective dog breed from Japan."
          ],
          [
           "The cat rubbed against its owner's legs, asking for food."
          ],
          [
           "The playful dachshund burrowed under a blanket."
          ],
          [
           "The Burmese cat's large, expressive eyes captivated everyone."
          ],
          [
           "The dog eagerly wagged its tail at the sound of the doorbell."
          ],
          [
           "The kitten tumbled over itself while learning to walk."
          ],
          [
           "The German Shepherd stood proudly during obedience training."
          ],
          [
           "The tabby cat watched fish swimming in the aquarium with\nfascination."
          ],
          [
           "The Border Terrier dug energetically in the garden."
          ],
          [
           "The Persian cat's long fur needed daily grooming."
          ],
          [
           "The dog barked happily as it ran along the beach."
          ],
          [
           "The condo overlooks the city skyline, offering a stunning view."
          ],
          [
           "The house has a spacious backyard perfect for hosting barbecues."
          ],
          [
           "Living in a condo often includes access to amenities like pools\nand gyms."
          ],
          [
           "The family moved into a charming two-story house in the suburbs."
          ],
          [
           "The modern condo features sleek designs and floor-to-ceiling\nwindows."
          ],
          [
           "The house was built with a wraparound porch, ideal for relaxing\nevenings."
          ],
          [
           "Condos are popular in urban areas for their convenience and\nlocation."
          ],
          [
           "The house came with a detached garage and a long driveway."
          ],
          [
           "The high-rise condo offers a breathtaking view of the ocean."
          ],
          [
           "The house was painted a cheerful yellow with white trim."
          ],
          [
           "Condo living often involves a homeowners' association and\nmonthly fees."
          ],
          [
           "The bungalow-style house had a cozy and welcoming feel."
          ],
          [
           "The downtown condo is close to restaurants, shops, and\nentertainment venues."
          ],
          [
           "The Victorian house features intricate woodwork and stained\nglass windows."
          ],
          [
           "The condo's rooftop terrace is perfect for evening gatherings."
          ],
          [
           "The ranch-style house has all its rooms on one level for easy\naccessibility."
          ],
          [
           "The condo's open floor plan makes the space feel larger than it\nis."
          ],
          [
           "The house has a fireplace in the living room, adding warmth and\ncharm."
          ],
          [
           "Many condos are designed with energy efficiency in mind."
          ],
          [
           "The house sits on a large lot with plenty of space for a garden."
          ],
          [
           "The condo complex has a secure entry and 24-hour surveillance."
          ],
          [
           "The colonial-style house boasts tall columns and a grand\nentrance."
          ],
          [
           "The condo's balcony is the perfect spot for enjoying morning\ncoffee."
          ],
          [
           "The house includes a finished basement that can serve as a\nrecreation room."
          ],
          [
           "Many condos come fully furnished for buyers' convenience."
          ],
          [
           "The house's attic was converted into a cozy home office."
          ],
          [
           "The luxury condo has a concierge service and private parking."
          ],
          [
           "The house is surrounded by mature trees, providing plenty of\nshade."
          ],
          [
           "The condo features granite countertops and stainless steel\nappliances."
          ],
          [
           "The house's front yard is beautifully landscaped with seasonal\nflowers."
          ],
          [
           "The condo building has a fitness center and a sauna for\nresidents."
          ],
          [
           "The house has a formal dining room with a crystal chandelier."
          ],
          [
           "Studio condos are ideal for singles or young professionals."
          ],
          [
           "The house's open-concept kitchen connects seamlessly to the\nliving area."
          ],
          [
           "The condo offers a maintenance-free lifestyle, appealing to\nretirees."
          ],
          [
           "The house is located in a quiet neighborhood with tree-lined\nstreets."
          ],
          [
           "The penthouse condo comes with a private elevator and panoramic\nviews."
          ],
          [
           "The house includes a mudroom, perfect for storing coats and\nshoes."
          ],
          [
           "The condo has large windows that let in plenty of natural light."
          ],
          [
           "The house's backyard has a swing set and a small vegetable\ngarden."
          ],
          [
           "Condos are often equipped with modern security systems."
          ],
          [
           "The house's front porch is the perfect place to enjoy a sunset."
          ],
          [
           "Some condos have shared laundry facilities, while others have\nin-unit washers and dryers."
          ],
          [
           "The house has a rustic charm with its exposed wooden beams."
          ],
          [
           "The condo's location near public transportation makes commuting\neasy."
          ],
          [
           "The house features a spacious master suite with a walk-in\ncloset."
          ],
          [
           "Condos in downtown areas often come with spectacular city views."
          ],
          [
           "The house has a screened-in porch, ideal for enjoying summer\nevenings."
          ],
          [
           "Condo owners typically have less responsibility for exterior\nmaintenance."
          ],
          [
           "The house's large windows frame picturesque views of the\nmountains."
          ],
          [
           "The condo community organizes social events for residents."
          ],
          [
           "The house includes a guest bedroom with its own private\nbathroom."
          ],
          [
           "The condo's pool area is a popular spot during the summer\nmonths."
          ],
          [
           "The house's kitchen was recently remodeled with custom\ncabinetry."
          ],
          [
           "Some condos allow short-term rentals, making them a great\ninvestment option."
          ],
          [
           "The house has a charming picket fence and a stone pathway\nleading to the door."
          ],
          [
           "Luxury condos often include private rooftop pools and\nentertainment areas."
          ],
          [
           "The house features a sunroom with large glass panels for year-\nround enjoyment."
          ],
          [
           "The condo's HOA fees cover water, electricity, and common area\nmaintenance."
          ],
          [
           "The house has a home theater system installed in the basement."
          ],
          [
           "The condo's central location makes it easy to access the city's\nattractions."
          ],
          [
           "The house's large deck overlooks a serene wooded area."
          ],
          [
           "Many condos include covered parking or underground garages."
          ],
          [
           "The house was designed with energy-efficient windows and\ninsulation."
          ],
          [
           "Condo residents often share amenities like tennis courts and\nbarbecue areas."
          ],
          [
           "The house has a historic charm, complete with original hardwood\nfloors."
          ],
          [
           "The condo is pet-friendly, with a designated dog park on the\nproperty."
          ],
          [
           "The house's kitchen has a large island, perfect for meal prep\nand entertaining."
          ],
          [
           "The condo's shared rooftop garden is a unique feature for urban\ndwellers."
          ],
          [
           "The house's driveway is long enough to accommodate multiple\nvehicles."
          ],
          [
           "Some condos come with built-in smart home systems for added\nconvenience."
          ],
          [
           "The house has a large pantry for storing kitchen essentials."
          ],
          [
           "The condo's sleek design includes minimalist decor and modern\nlighting."
          ],
          [
           "The house's backyard is fully fenced, making it safe for pets."
          ],
          [
           "Condo fees often include snow removal and landscaping services."
          ],
          [
           "The house has a walk-out basement that opens to a patio."
          ],
          [
           "The condo has a communal lounge that residents can reserve for\nprivate events."
          ],
          [
           "The house's fireplace is the focal point of the cozy living\nroom."
          ],
          [
           "Condos near the waterfront are highly sought after for their\nscenic views."
          ],
          [
           "The house features a large bay window that fills the room with\nsunlight."
          ],
          [
           "The condo's high ceilings give the space an airy and open feel."
          ],
          [
           "The house has an attached two-car garage with extra storage\nspace."
          ],
          [
           "The condo's kitchen is equipped with top-of-the-line appliances."
          ],
          [
           "The house was recently upgraded with solar panels for energy\nefficiency."
          ],
          [
           "Condos often appeal to busy professionals due to their low-\nmaintenance lifestyle."
          ],
          [
           "The house's formal entryway opens into a grand staircase."
          ],
          [
           "The condo complex offers a private theater room for residents."
          ],
          [
           "The house has a fenced backyard with a pergola and outdoor\nseating."
          ],
          [
           "The condo's shared courtyard is beautifully landscaped with\nfountains."
          ],
          [
           "The house is situated near a top-rated school, making it ideal\nfor families."
          ],
          [
           "The condo offers breathtaking sunset views from its west-facing\nbalcony."
          ],
          [
           "The mallard duck swam gracefully across the calm pond."
          ],
          [
           "Songbirds filled the morning air with their cheerful melodies."
          ],
          [
           "The mother duck led her ducklings in a perfect single file."
          ],
          [
           "The robin perched on a branch, singing its familiar tune."
          ],
          [
           "Ducks are often seen dabbling in shallow water for food."
          ],
          [
           "Songbirds like finches and sparrows are common visitors to\nbackyard feeders."
          ],
          [
           "The wood duck’s colorful plumage is strikingly beautiful."
          ],
          [
           "The warbler’s rapid trills echoed through the forest canopy."
          ],
          [
           "The duck flapped its wings and took off from the water’s\nsurface."
          ],
          [
           "A flock of songbirds darted playfully through the garden."
          ],
          [
           "The duck quacked loudly, signaling to its nearby companions."
          ],
          [
           "The cardinal’s bright red feathers stood out against the green\nleaves."
          ],
          [
           "The duck paddled near the reeds, searching for aquatic plants."
          ],
          [
           "A blue jay swooped down to snatch a peanut from the feeder."
          ],
          [
           "The mallards rested on the riverbank, preening their feathers."
          ],
          [
           "The nightingale’s song was enchanting under the moonlight."
          ],
          [
           "Ducks often migrate in V-shaped formations during the winter."
          ],
          [
           "The sparrow hopped along the ground, searching for crumbs."
          ],
          [
           "The wood duck nested in a hollow tree near the water’s edge."
          ],
          [
           "The blackbird’s song signaled the start of a new day."
          ],
          [
           "The ducklings followed their mother into the cool shade of the\nreeds."
          ],
          [
           "The goldfinch nibbled on thistle seeds at the edge of the\nmeadow."
          ],
          [
           "The male duck displayed vibrant green head feathers during\nmating season."
          ],
          [
           "The lark soared high, filling the sky with its cascading notes."
          ],
          [
           "The duck waddled across the park, amusing nearby children."
          ],
          [
           "The wren’s energetic song filled the hedgerow with life."
          ],
          [
           "The duck dove underwater to catch a small fish."
          ],
          [
           "The oriole built a hanging nest from thin strands of grass."
          ],
          [
           "Ducks are known for their waterproof feathers and webbed feet."
          ],
          [
           "The canary’s sweet song brightened the atmosphere of the living\nroom."
          ],
          [
           "The mother duck protected her young from a curious predator."
          ],
          [
           "The chickadee flitted from branch to branch, chirping softly."
          ],
          [
           "The mallard pair gracefully glided across the pond’s surface."
          ],
          [
           "The swallow performed acrobatic maneuvers to catch flying\ninsects."
          ],
          [
           "The wood duck perched on a fallen log near the riverbank."
          ],
          [
           "The robin searched for worms in the freshly tilled soil."
          ],
          [
           "The ducklings huddled together to stay warm on a chilly evening."
          ],
          [
           "The mockingbird imitated the calls of several other birds in the\narea."
          ],
          [
           "The teal duck’s iridescent feathers shimmered in the sunlight."
          ],
          [
           "The meadowlark’s melodic song drifted across the open field."
          ],
          [
           "The duck’s webbed feet propelled it quickly through the water."
          ],
          [
           "The nuthatch clung to the bark of a tree, foraging for insects."
          ],
          [
           "The mandarin duck is one of the most exotic-looking waterfowl."
          ],
          [
           "The starling gathered twigs to build a nest in a tree cavity."
          ],
          [
           "The mallard’s distinctive green head gleamed in the afternoon\nsun."
          ],
          [
           "The kingfisher darted into the stream, catching a small fish."
          ],
          [
           "The ducklings’ soft downy feathers were a pale yellow color."
          ],
          [
           "The song thrush repeated its sweet, fluting phrases from a high\nperch."
          ],
          [
           "A pair of ducks rested near the pond, basking in the sun."
          ],
          [
           "The finch’s lively chirping created a delightful background\ntune."
          ],
          [
           "The wood duck carefully observed its surroundings for any\nthreats."
          ],
          [
           "The skylark’s song spiraled upward as it ascended into the sky."
          ],
          [
           "The mallard flock gathered at the lake during the cooler months."
          ],
          [
           "The robin built its nest in the fork of a sturdy tree."
          ],
          [
           "The duck waddled through the tall grass, searching for a safe\nplace to rest."
          ],
          [
           "The bluebird’s vibrant plumage mirrored the bright sky above."
          ],
          [
           "The ducklings splashed playfully in the shallow water near the\nshore."
          ],
          [
           "The cardinal’s call echoed across the quiet woodland."
          ],
          [
           "The mother duck guarded her eggs carefully until they hatched."
          ],
          [
           "The sparrow chirped cheerfully from the edge of the roof."
          ],
          [
           "The duck dipped its head underwater, emerging with a small\ninsect."
          ],
          [
           "The hummingbird hovered near the flowers, sipping nectar with\nits long beak."
          ],
          [
           "The mallard’s tail feathers wagged as it paddled away."
          ],
          [
           "The swallow’s long, forked tail helped it maneuver with agility."
          ],
          [
           "The wood duck pair nested in a secluded area by the stream."
          ],
          [
           "The blackbird fluffed its feathers while perched on a telephone\nwire."
          ],
          [
           "The duck glided across the pond, leaving a gentle ripple in its\nwake."
          ],
          [
           "The robin’s orange breast made it easy to spot among the trees."
          ],
          [
           "The duck quacked softly as it nibbled on the floating\nvegetation."
          ],
          [
           "The finch hopped energetically between branches, foraging for\nseeds."
          ],
          [
           "The mallard ducklings learned to swim shortly after hatching."
          ],
          [
           "The goldfinch perched delicately on a sunflower, pecking at the\nseeds."
          ],
          [
           "The duck rested on the grassy bank, basking in the warmth of the\nsun."
          ],
          [
           "The songbird’s intricate notes carried over the morning dew."
          ],
          [
           "The duck’s brown feathers helped it blend into the marshy\nsurroundings."
          ],
          [
           "The wren darted into a birdhouse tucked under the eaves."
          ],
          [
           "The duck family waddled through the park, delighting passersby."
          ],
          [
           "The mockingbird perched boldly, mimicking the calls of other\nbirds."
          ],
          [
           "The teal duck’s small size made it one of the more agile\nswimmers."
          ],
          [
           "The robin’s nest was carefully constructed with twigs and soft\nmoss."
          ],
          [
           "The ducklings followed their mother’s every move, staying close\nfor protection."
          ],
          [
           "The sparrow flitted from the ground to the feeder in quick\nbursts."
          ],
          [
           "The mallard pair stayed together through the mating season."
          ],
          [
           "The lark’s clear song rang out from the meadow’s tall grasses."
          ],
          [
           "The duck’s bright orange bill stood out against its brown\nfeathers."
          ],
          [
           "The chickadee’s quick movements made it a joy to watch in the\ngarden."
          ],
          [
           "The mother duck sheltered her ducklings under her wings as night\nfell."
          ],
          [
           "The robin’s cheery song heralded the arrival of spring."
          ],
          [
           "The wood duck carefully climbed into its nest high in a tree."
          ],
          [
           "The songbird’s early morning call was a welcome sound to the\nsleepy neighborhood."
          ],
          [
           "The crisp apple snapped satisfyingly with each bite."
          ],
          [
           "The orange was juicy and sweet, perfect for a summer day."
          ],
          [
           "Apples come in a variety of colors, including red, green, and\nyellow."
          ],
          [
           "Oranges are an excellent source of vitamin C."
          ],
          [
           "The apple orchard was filled with rows of trees heavy with\nfruit."
          ],
          [
           "The orange groves stretched for miles under the warm sun."
          ],
          [
           "A freshly baked apple pie filled the kitchen with a delicious\naroma."
          ],
          [
           "Freshly squeezed orange juice is a breakfast favorite."
          ],
          [
           "The apple tree in the backyard provides shade and fruit every\nfall."
          ],
          [
           "The orange's bright peel stood out against the green foliage."
          ],
          [
           "Granny Smith apples are known for their tart flavor."
          ],
          [
           "The navel orange is seedless and easy to peel."
          ],
          [
           "The kids picked apples during their visit to the farm."
          ],
          [
           "The orange blossoms filled the air with a fragrant scent."
          ],
          [
           "Dried apple slices make a healthy and portable snack."
          ],
          [
           "Orange zest is often used to add flavor to baked goods."
          ],
          [
           "The apple cider was warm and spiced perfectly for the chilly\nevening."
          ],
          [
           "A bowl of oranges added a pop of color to the kitchen table."
          ],
          [
           "The apple's natural sweetness made it a great addition to the\nsalad."
          ],
          [
           "Oranges are often used in refreshing summer beverages."
          ],
          [
           "The farmer harvested bushels of apples to sell at the market."
          ],
          [
           "The orange tree was covered in small, round fruits ready to\nripen."
          ],
          [
           "Apple butter spread on toast is a cozy morning treat."
          ],
          [
           "Slices of orange garnished the fancy dessert plates."
          ],
          [
           "The apple peel curled as it was removed in one long strip."
          ],
          [
           "The orange's segments separated cleanly with little effort."
          ],
          [
           "Apple picking is a popular autumn activity for families."
          ],
          [
           "The orange's thick skin protected the fruit inside from damage."
          ],
          [
           "Caramel apples are a classic treat at fall festivals."
          ],
          [
           "Orange marmalade pairs wonderfully with buttery croissants."
          ],
          [
           "The apple was so shiny it reflected the sunlight."
          ],
          [
           "The juice from the orange dripped down her hand as she ate it."
          ],
          [
           "The apple's crisp texture made it perfect for baking into pies."
          ],
          [
           "Oranges thrive in warm, tropical climates."
          ],
          [
           "The teacher placed a shiny red apple on her desk."
          ],
          [
           "Orange slices were served as a refreshing snack during halftime."
          ],
          [
           "The apple's core was filled with tiny brown seeds."
          ],
          [
           "The orange's juice was squeezed into a glass and enjoyed\nimmediately."
          ],
          [
           "Apple trees blossom with pink and white flowers in the spring."
          ],
          [
           "Orange trees are evergreen, providing year-round beauty."
          ],
          [
           "Apple slices were arranged neatly on the fruit platter."
          ],
          [
           "The smell of oranges always reminds me of winter holidays."
          ],
          [
           "The apple's tart flavor balanced the sweetness of the caramel\nsauce."
          ],
          [
           "The orange was peeled and sectioned into bite-sized pieces."
          ],
          [
           "A basket of fresh apples was placed on the porch for guests."
          ],
          [
           "The orange's rind was grated into a fragrant zest for the\nrecipe."
          ],
          [
           "Applesauce is a versatile ingredient in both sweet and savory\ndishes."
          ],
          [
           "Orange juice is a popular base for tropical cocktails."
          ],
          [
           "The apple orchard offered hayrides and hot cider for visitors."
          ],
          [
           "The orange grove was buzzing with the sound of bees among the\nblossoms."
          ],
          [
           "Baking apples release a delicious aroma that fills the house."
          ],
          [
           "Oranges are often given as gifts during the Lunar New Year."
          ],
          [
           "The apple's natural sugars caramelized beautifully when baked."
          ],
          [
           "A squeeze of orange juice brightened up the salad dressing."
          ],
          [
           "The kids enjoyed bobbing for apples at the fall festival."
          ],
          [
           "The orange's bright color made it a cheerful addition to the\nfruit bowl."
          ],
          [
           "A variety of apples were displayed at the farmers' market."
          ],
          [
           "The orange's segments popped out cleanly with a gentle pull."
          ],
          [
           "Apple slices dipped in peanut butter make a quick and healthy\nsnack."
          ],
          [
           "The orange's juice was tart and refreshing on a hot day."
          ],
          [
           "The old apple tree in the yard still produced fruit every year."
          ],
          [
           "Orange peels were dried and used to make potpourri."
          ],
          [
           "The apple pie was served with a scoop of vanilla ice cream."
          ],
          [
           "The orange's fragrance lingered on her hands after peeling it."
          ],
          [
           "Cider donuts were made fresh from the apples picked that\nmorning."
          ],
          [
           "Orange-flavored chocolate bars are a unique and delicious treat."
          ],
          [
           "Apple chips were packed into lunchboxes for a crunchy snack."
          ],
          [
           "The orange's thick rind was perfect for making candied peels."
          ],
          [
           "The apple's smooth skin glowed under the sunlight."
          ],
          [
           "The orange's juicy flesh was bursting with flavor."
          ],
          [
           "The apple tart was a hit at the dinner party."
          ],
          [
           "Oranges were stacked high in a pyramid at the grocery store."
          ],
          [
           "The apple's sweetness made it ideal for snacking."
          ],
          [
           "The orange's tangy flavor paired well with the spicy dish."
          ],
          [
           "Apples can be stored for months in a cool, dry place."
          ],
          [
           "Orange trees often produce fruit in clusters for easy\nharvesting."
          ],
          [
           "The apple variety was known for its firm and crisp texture."
          ],
          [
           "The orange juice was freshly squeezed and served with breakfast."
          ],
          [
           "The apple orchard was a popular spot for weekend outings."
          ],
          [
           "Oranges were used to make a vibrant and zesty salad dressing."
          ],
          [
           "The apple was a deep, rich red that looked almost unreal."
          ],
          [
           "The orange grove was a peaceful place to walk during sunset."
          ],
          [
           "The apple's tartness complemented the sweetness of the other\nfruits in the salad."
          ],
          [
           "The orange's juice was used to marinate the chicken."
          ],
          [
           "The apple tree's branches were heavy with ripe fruit."
          ],
          [
           "The orange's peel was thick and slightly rough to the touch."
          ],
          [
           "The apple festival featured everything from cider to caramel\napples."
          ],
          [
           "Orange sorbet was a refreshing end to the meal."
          ],
          [
           "The apple core was tossed to the compost pile."
          ],
          [
           "The orange's pulp was strained out to make clear juice."
          ],
          [
           "The apple cider donuts were a fall favorite."
          ],
          [
           "Orange slices added a pop of color to the holiday table."
          ],
          [
           "Prayer is a common practice in many religions around the world."
          ],
          [
           "Meditation helps deepen one's sense of spirituality and inner\npeace."
          ],
          [
           "The church bells rang out, calling the congregation to worship."
          ],
          [
           "Many people turn to spiritual practices to find meaning in life."
          ],
          [
           "The sacred texts of various religions contain teachings and\nwisdom."
          ],
          [
           "A pilgrimage to a holy site is a spiritual journey for many\nbelievers."
          ],
          [
           "The temple was adorned with intricate carvings and symbols of\nfaith."
          ],
          [
           "Spirituality often involves a personal connection to the divine."
          ],
          [
           "Religious festivals are celebrated with joy and devotion across\ncultures."
          ],
          [
           "The monk sat in quiet contemplation in the serene monastery\ngarden."
          ],
          [
           "The Bible is a central text in Christianity, guiding the faith\nof millions."
          ],
          [
           "Chanting is a spiritual practice in many traditions, including\nBuddhism."
          ],
          [
           "Many religions teach the importance of compassion and kindness."
          ],
          [
           "A sacred space can be a temple, mosque, church, or even a quiet\ncorner."
          ],
          [
           "Pilgrims walked for miles to reach the holy shrine in the\nmountains."
          ],
          [
           "Spiritual awakening is often described as a profound inner\ntransformation."
          ],
          [
           "The Quran is revered as the holy book of Islam."
          ],
          [
           "Yoga combines physical postures with spiritual mindfulness and\nbreathing."
          ],
          [
           "The synagogue was filled with the sounds of prayer and song."
          ],
          [
           "Many spiritual paths emphasize the importance of gratitude and\nhumility."
          ],
          [
           "The priest led the congregation in a solemn prayer of\nthanksgiving."
          ],
          [
           "Nature often inspires feelings of spirituality and awe in many\npeople."
          ],
          [
           "The Bhagavad Gita is a spiritual guide for millions of Hindus."
          ],
          [
           "Meditative silence can bring clarity and a sense of connection\nto the divine."
          ],
          [
           "Religious rituals often mark important life events such as birth\nand marriage."
          ],
          [
           "The candlelight illuminated the sacred symbols on the altar."
          ],
          [
           "Many people seek spiritual guidance through mentorship or\nteachings."
          ],
          [
           "The teachings of Buddha emphasize mindfulness and liberation\nfrom suffering."
          ],
          [
           "The mosque was beautifully decorated for the holy month of\nRamadan."
          ],
          [
           "Spiritual growth often involves self-reflection and personal\ntransformation."
          ],
          [
           "The guru shared wisdom with disciples who gathered in the\nashram."
          ],
          [
           "The cross is a central symbol of Christianity and its teachings\nof salvation."
          ],
          [
           "Some find spirituality in the rhythms of the ocean or the\nvastness of the stars."
          ],
          [
           "The Vedas are ancient scriptures that form the foundation of\nHinduism."
          ],
          [
           "Many spiritual traditions include fasting as a way to purify the\nsoul."
          ],
          [
           "The rabbi delivered an inspiring sermon during the Sabbath\nservice."
          ],
          [
           "Some describe spirituality as a journey inward to discover one’s\ntrue self."
          ],
          [
           "The mandala is a spiritual symbol representing the universe in\nmany cultures."
          ],
          [
           "Many spiritual practices emphasize the interconnectedness of all\nlife."
          ],
          [
           "The choir sang hymns that lifted the spirits of the\ncongregation."
          ],
          [
           "Spiritual retreats offer a chance to step away from daily life\nand reflect."
          ],
          [
           "The Ten Commandments are a moral guide in Judaism and\nChristianity."
          ],
          [
           "The sound of the gong signaled the beginning of the meditation\nsession."
          ],
          [
           "Religious icons and statues are often used in devotion and\nprayer."
          ],
          [
           "The teachings of Rumi inspire people seeking spiritual insight\nthrough poetry."
          ],
          [
           "The incense filled the room with a calming and sacred fragrance."
          ],
          [
           "Many spiritual paths encourage acts of service as a form of\nworship."
          ],
          [
           "The sacred river is a place of purification for millions of\ndevotees."
          ],
          [
           "The rosary beads were used in prayer, one bead for each\ndevotion."
          ],
          [
           "The Dalai Lama is a global spiritual leader and advocate for\npeace."
          ],
          [
           "Spirituality can be found in the stillness of the heart and\nmind."
          ],
          [
           "The Torah is central to Jewish religious practice and study."
          ],
          [
           "Spiritual seekers often explore different traditions to find\ntheir path."
          ],
          [
           "The holy relic was housed in an ornate shrine for pilgrims to\nview."
          ],
          [
           "Many spiritual teachings stress the importance of living in the\npresent moment."
          ],
          [
           "The cathedral's stained glass windows depicted scenes from\nreligious stories."
          ],
          [
           "The chanting of mantras is a key practice in many spiritual\ntraditions."
          ],
          [
           "The holy mountain is considered sacred and attracts pilgrims\nfrom far and wide."
          ],
          [
           "The teachings of Jesus emphasize love, forgiveness, and\nhumility."
          ],
          [
           "The spiritual mentor guided students in their quest for\nenlightenment."
          ],
          [
           "The zen garden was designed for contemplation and spiritual\nbalance."
          ],
          [
           "The Star of David is an important symbol in Jewish spirituality."
          ],
          [
           "Many people find spiritual meaning through art, music, and\ncreative expression."
          ],
          [
           "The sacred flame burned continuously in the temple’s inner\nsanctum."
          ],
          [
           "Pilgrimages are undertaken as acts of devotion and spiritual\nrenewal."
          ],
          [
           "Many religions have a tradition of singing as an expression of\nfaith."
          ],
          [
           "The prophet's words were recorded and cherished as sacred\nscripture."
          ],
          [
           "The spiritual practice of mindfulness focuses on awareness and\npresence."
          ],
          [
           "The altar was adorned with offerings of flowers and incense."
          ],
          [
           "The Golden Rule is a universal principle found in many religious\nteachings."
          ],
          [
           "The sound of the bell marked the beginning of the evening\nprayer."
          ],
          [
           "Spiritual experiences are often described as moments of profound\nconnection."
          ],
          [
           "The temple’s architecture was designed to inspire reverence and\nawe."
          ],
          [
           "The holy text was carefully recited during the evening service."
          ],
          [
           "Pilgrims climbed the steep steps to the ancient monastery high\non the hill."
          ],
          [
           "The lotus is a symbol of spiritual awakening and purity in many\ntraditions."
          ],
          [
           "The hymns echoed through the chapel, filling it with a sense of\npeace."
          ],
          [
           "Spirituality can involve a connection to something greater than\noneself."
          ],
          [
           "The psalms are sung in many religious ceremonies as expressions\nof devotion."
          ],
          [
           "The sacred drumbeat resonated through the circle, uniting\neveryone in prayer."
          ],
          [
           "The philosopher explored the intersection of spirituality and\nscience."
          ],
          [
           "The chapel provided a quiet place for reflection and prayer."
          ],
          [
           "The concept of karma is central to many spiritual and religious\nbeliefs."
          ],
          [
           "The priest anointed the child during the baptism ceremony."
          ],
          [
           "Spiritual leaders often provide guidance during times of\nhardship."
          ],
          [
           "The holy scripture was kept in an ornate cover to preserve its\nsanctity."
          ],
          [
           "The meditation retreat offered silence and space for spiritual\ngrowth."
          ],
          [
           "The crescent moon is a symbol of faith in Islam."
          ],
          [
           "The spiritual journey is often described as one of self-\ndiscovery and love."
          ],
          [
           "The sacred chant was repeated in a rhythmic pattern during the\nritual."
          ],
          [
           "Many religious teachings focus on the pursuit of inner peace."
          ],
          [
           "The holy well was believed to have healing properties for the\nfaithful."
          ],
          [
           "Spiritual practices often foster a sense of unity and harmony."
          ],
          [
           "Yoga helps improve flexibility and balance through various\nposes."
          ],
          [
           "Meditation encourages mindfulness and a calm state of mind."
          ],
          [
           "Downward Dog is a fundamental pose in many yoga practices."
          ],
          [
           "Deep breathing is central to both yoga and meditation practices."
          ],
          [
           "Meditation helps reduce stress and improve mental clarity."
          ],
          [
           "The yoga mat was unrolled in a quiet corner of the room."
          ],
          [
           "The sound of a gong signaled the start of the meditation\nsession."
          ],
          [
           "Yoga integrates physical postures, breathing exercises, and\nmindfulness."
          ],
          [
           "The lotus position is a common posture for meditation."
          ],
          [
           "Meditation can help increase focus and awareness in daily life."
          ],
          [
           "The teacher guided the class through a series of sun\nsalutations."
          ],
          [
           "Mindful breathing is a cornerstone of effective meditation\npractice."
          ],
          [
           "Yoga can enhance strength, flexibility, and mental well-being."
          ],
          [
           "Meditation often begins with focusing on the breath."
          ],
          [
           "The tranquil studio was perfect for an evening yoga session."
          ],
          [
           "Guided meditation can help beginners learn to focus their\nthoughts."
          ],
          [
           "Yoga poses, or asanas, are designed to stretch and strengthen\nthe body."
          ],
          [
           "Meditation helps quiet the mind and bring clarity to thoughts."
          ],
          [
           "The yoga class began with a brief meditation to set intentions."
          ],
          [
           "A candle was lit to create a calming atmosphere for meditation."
          ],
          [
           "Yoga nidra is a deep relaxation technique often practiced at the\nend of a session."
          ],
          [
           "Meditation cushions provide support for longer periods of\nsitting."
          ],
          [
           "Practicing yoga outdoors connects the body to the natural\nenvironment."
          ],
          [
           "A mantra can be repeated during meditation to focus the mind."
          ],
          [
           "Yoga blocks and straps assist in achieving proper alignment in\nposes."
          ],
          [
           "Silent meditation retreats offer a chance to disconnect and\nreflect."
          ],
          [
           "Yoga classes often end with savasana, or corpse pose, for\nrelaxation."
          ],
          [
           "Meditation apps provide guided sessions for beginners and\nadvanced practitioners."
          ],
          [
           "The warrior pose builds strength and stability in the legs."
          ],
          [
           "Meditation can help cultivate compassion and self-awareness."
          ],
          [
           "Practicing yoga regularly can help alleviate back pain."
          ],
          [
           "Mindfulness meditation involves observing thoughts without\njudgment."
          ],
          [
           "Hot yoga sessions challenge both the body and the mind."
          ],
          [
           "Loving-kindness meditation promotes feelings of goodwill and\nempathy."
          ],
          [
           "The child’s pose in yoga provides a gentle stretch and rest."
          ],
          [
           "Meditation often involves focusing on a single point of\nawareness."
          ],
          [
           "Yoga studios often provide a peaceful environment for practice."
          ],
          [
           "Body scan meditation helps release tension and promotes\nrelaxation."
          ],
          [
           "Yoga retreats offer an immersive experience to deepen practice."
          ],
          [
           "Meditation can improve sleep quality and reduce insomnia."
          ],
          [
           "The tree pose helps improve balance and concentration."
          ],
          [
           "Meditation can be practiced sitting, lying down, or even\nwalking."
          ],
          [
           "Yoga encourages connecting breath with movement for mindfulness."
          ],
          [
           "Mindful meditation can help manage anxiety and stress."
          ],
          [
           "The triangle pose stretches the side body and strengthens the\nlegs."
          ],
          [
           "Meditation can create a sense of inner peace and harmony."
          ],
          [
           "Yoga sequences are often designed to target specific areas of\nthe body."
          ],
          [
           "Breath-focused meditation helps anchor attention in the present\nmoment."
          ],
          [
           "The cobra pose opens the chest and strengthens the back muscles."
          ],
          [
           "The chanting of “Om” is often used in yoga and meditation."
          ],
          [
           "Chair yoga is an accessible option for people with limited\nmobility."
          ],
          [
           "Meditation can enhance emotional resilience and mental clarity."
          ],
          [
           "The bridge pose strengthens the core and opens the hips."
          ],
          [
           "Meditation often involves observing the sensations in the body."
          ],
          [
           "Yoga classes often incorporate elements of mindfulness\nmeditation."
          ],
          [
           "Meditation can help develop a sense of gratitude and\ncontentment."
          ],
          [
           "The plank pose builds strength in the arms, shoulders, and core."
          ],
          [
           "Mindful walking combines meditation with gentle movement."
          ],
          [
           "Prenatal yoga helps expectant mothers prepare for childbirth."
          ],
          [
           "Meditation often includes moments of stillness and quiet\nreflection."
          ],
          [
           "The pigeon pose deeply stretches the hips and lower back."
          ],
          [
           "Mindful eating is a form of meditation focused on food\nawareness."
          ],
          [
           "Restorative yoga focuses on relaxation and stress relief."
          ],
          [
           "Meditation can help create space for self-reflection and growth."
          ],
          [
           "The eagle pose challenges balance and opens the shoulders."
          ],
          [
           "Meditation often involves cultivating awareness of thoughts and\nemotions."
          ],
          [
           "Power yoga offers a vigorous workout alongside mindfulness\nbenefits."
          ],
          [
           "Meditation can be enhanced with calming music or nature sounds."
          ],
          [
           "The cat-cow stretch warms up the spine for deeper yoga poses."
          ],
          [
           "Mindful visualization is a technique used to create positive\nmental images."
          ],
          [
           "Yoga helps improve posture and reduce muscle tension."
          ],
          [
           "Meditation in nature can deepen the sense of connection to the\nworld."
          ],
          [
           "The upward-facing dog pose strengthens the upper body and spine."
          ],
          [
           "Meditation often includes moments of gratitude and intention-\nsetting."
          ],
          [
           "Yoga classes sometimes include pranayama, or breath control\nexercises."
          ],
          [
           "Meditation journals can help track progress and insights."
          ],
          [
           "The half-moon pose improves stability and strengthens the legs."
          ],
          [
           "Meditation can be as simple as sitting quietly for a few minutes\na day."
          ],
          [
           "Yoga encourages a harmonious connection between mind, body, and\nspirit."
          ],
          [
           "Meditation in a group can create a shared sense of calm and\nfocus."
          ],
          [
           "The crow pose challenges strength and balance in the arms."
          ],
          [
           "Guided meditations often involve focusing on positive\naffirmations."
          ],
          [
           "Yoga flows combine poses in a seamless and mindful sequence."
          ],
          [
           "Meditation can help reduce symptoms of depression and anxiety."
          ],
          [
           "The hero pose stretches the thighs and opens the hips."
          ],
          [
           "Meditation often focuses on cultivating a sense of presence."
          ],
          [
           "Yoga can complement other forms of exercise for a balanced\nroutine."
          ],
          [
           "The butterfly pose gently opens the hips and stretches the inner\nthighs."
          ],
          [
           "Meditation can help shift perspective and create mental clarity."
          ],
          [
           "Yoga philosophy often emphasizes the union of mind and body."
          ],
          [
           "Meditation spaces can be created with candles, cushions, and\nincense."
          ],
          [
           "The dancer pose improves flexibility and balance with elegance."
          ],
          [
           "Meditation encourages letting go of distractions and being in\nthe moment."
          ],
          [
           "The quarterback threw a perfect pass to the wide receiver."
          ],
          [
           "The basketball bounced across the court as the players scrambled\nfor it."
          ],
          [
           "Football games are often played in outdoor stadiums under the\nopen sky."
          ],
          [
           "The basketball team practiced their three-point shots before the\nbig game."
          ],
          [
           "The running back dodged the defenders and sprinted toward the\nend zone."
          ],
          [
           "The crowd cheered as the point guard sank a buzzer-beater shot."
          ],
          [
           "The defensive line held strong, preventing the opposing team\nfrom scoring."
          ],
          [
           "Dribbling skills are essential for success in basketball."
          ],
          [
           "Football helmets and pads are crucial for player safety during\ntackles."
          ],
          [
           "The basketball swished cleanly through the hoop, earning two\npoints."
          ],
          [
           "The kicker lined up to attempt a 50-yard field goal."
          ],
          [
           "The center passed the ball to the shooting guard for a fast\nbreak."
          ],
          [
           "The referee threw a penalty flag for a foul on the field."
          ],
          [
           "The basketball player executed a flawless slam dunk."
          ],
          [
           "Football teams often rely on strong teamwork to succeed in tough\ngames."
          ],
          [
           "The small forward drove through the defense and scored a layup."
          ],
          [
           "The coach called a timeout to discuss the next play in the\nfootball game."
          ],
          [
           "The basketball game went into overtime after a tie in the fourth\nquarter."
          ],
          [
           "The wide receiver made an incredible one-handed catch in the end\nzone."
          ],
          [
           "The power forward grabbed the rebound and passed it to the point\nguard."
          ],
          [
           "The defensive back intercepted the ball and ran it back for a\ntouchdown."
          ],
          [
           "The shooting guard hit a clutch three-pointer in the final\nseconds of the game."
          ],
          [
           "The football fans braved the rain to support their favorite\nteam."
          ],
          [
           "The basketball court was packed with fans cheering for their\nhome team."
          ],
          [
           "The linebacker tackled the running back behind the line of\nscrimmage."
          ],
          [
           "The team celebrated after the center made a game-winning basket."
          ],
          [
           "The football game was intense, with both teams trading scores in\nthe final minutes."
          ],
          [
           "The basketball player broke away and scored on a fast break."
          ],
          [
           "The quarterback was sacked by a blitzing linebacker in the\nsecond quarter."
          ],
          [
           "The point guard orchestrated the offense, setting up plays for\nteammates."
          ],
          [
           "Football games often end with a dramatic final drive to decide\nthe winner."
          ],
          [
           "The crowd roared as the basketball player dunked over two\ndefenders."
          ],
          [
           "The tight end caught a short pass and powered through for a\nfirst down."
          ],
          [
           "The basketball team celebrated their win with a victory lap\naround the court."
          ],
          [
           "The punter sent the football sailing high into the air for a\ntouchback."
          ],
          [
           "The shooting guard displayed incredible accuracy from the free-\nthrow line."
          ],
          [
           "Football rivalries bring intense energy to every matchup between\nthe teams."
          ],
          [
           "The small forward executed a perfect spin move to evade the\ndefender."
          ],
          [
           "The running back leaped over the defensive line for a touchdown."
          ],
          [
           "The basketball players warmed up with layup drills before the\ngame started."
          ],
          [
           "The offensive line created a pocket, giving the quarterback time\nto throw."
          ],
          [
           "The power forward blocked the opponent’s shot with authority."
          ],
          [
           "The halftime show at the football game included a marching band\nperformance."
          ],
          [
           "The basketball game was fast-paced, with both teams scoring\nquickly."
          ],
          [
           "The cornerback made a critical interception to seal the football\ngame."
          ],
          [
           "The shooting guard scored 30 points in an impressive individual\nperformance."
          ],
          [
           "Football games often feature strategic play-calling to exploit\nweaknesses."
          ],
          [
           "The point guard dished out 10 assists in a strong playmaking\neffort."
          ],
          [
           "The wide receiver outran the defense and caught a deep touchdown\npass."
          ],
          [
           "The basketball player displayed incredible agility, weaving\nthrough defenders."
          ],
          [
           "The kicker made a game-winning field goal as time expired."
          ],
          [
           "The center posted a double-double with 15 points and 12\nrebounds."
          ],
          [
           "The football coach emphasized discipline and execution in\npractice."
          ],
          [
           "The basketball team worked on their defensive rotations to\nimprove their play."
          ],
          [
           "The quarterback’s leadership inspired the team during a tough\nfourth quarter."
          ],
          [
           "The crowd erupted as the small forward nailed a clutch three-\npointer."
          ],
          [
           "The defensive end forced a fumble that changed the momentum of\nthe game."
          ],
          [
           "The basketball team celebrated their championship win with\nconfetti showers."
          ],
          [
           "The running back broke multiple tackles on his way to a long\ntouchdown run."
          ],
          [
           "The shooting guard’s crossover dribble left the defender off\nbalance."
          ],
          [
           "The football game was a defensive battle, with neither team\nscoring much."
          ],
          [
           "The basketball player’s slam dunk brought the fans to their\nfeet."
          ],
          [
           "The quarterback read the defense and audibled to a successful\nplay."
          ],
          [
           "The power forward dominated the paint with strong rebounding and\nscoring."
          ],
          [
           "The crowd chanted loudly, supporting their football team in the\nfinal moments."
          ],
          [
           "The basketball team executed a perfect pick-and-roll play for an\neasy basket."
          ],
          [
           "The wide receiver’s speed made him a constant threat in the\nfootball game."
          ],
          [
           "The small forward showed great versatility, contributing in all\naspects of the game."
          ],
          [
           "The linebacker’s hit jarred the ball loose, resulting in a\nturnover."
          ],
          [
           "The point guard displayed excellent court vision, finding open\nteammates."
          ],
          [
           "The football team celebrated their victory with the traditional\nGatorade shower."
          ],
          [
           "The basketball player’s fadeaway jumper was nearly impossible to\ndefend."
          ],
          [
           "The defensive back made a diving interception to save a\ntouchdown."
          ],
          [
           "The basketball coach emphasized ball movement to create open\nshots."
          ],
          [
           "The quarterback threw a perfect spiral that landed in the\nreceiver’s hands."
          ],
          [
           "The basketball team’s defensive pressure forced multiple\nturnovers."
          ],
          [
           "The kicker practiced long field goals during pregame warmups."
          ],
          [
           "The small forward’s hustle on defense earned him several steals."
          ],
          [
           "The football team’s offensive line dominated the trenches all\ngame long."
          ],
          [
           "The basketball player’s spin move dazzled the crowd and scored\npoints."
          ],
          [
           "The wide receiver’s toe-tap catch near the sideline was a thing\nof beauty."
          ],
          [
           "The center’s dominant rebounding helped secure the basketball\nteam’s win."
          ],
          [
           "The running back celebrated his touchdown with a unique end-zone\ndance."
          ],
          [
           "The shooting guard led the fast break with speed and precision."
          ],
          [
           "The quarterback’s composure under pressure was key to the team’s\nvictory."
          ],
          [
           "The basketball player’s behind-the-back pass amazed everyone in\nthe arena."
          ],
          [
           "The football team’s defense held strong during a critical\nfourth-down stop."
          ],
          [
           "The basketball player’s long-range shooting was the difference\nin the game."
          ],
          [
           "The linebacker’s sack ended the quarterback’s hopes of a\ncomeback drive."
          ],
          [
           "The power forward’s dunk electrified the crowd and energized his\nteam."
          ],
          [
           "Watering plants regularly is essential for healthy growth."
          ],
          [
           "A well-maintained garden can transform any backyard into a\npeaceful retreat."
          ],
          [
           "Sunlight is crucial for most plants to perform photosynthesis."
          ],
          [
           "Pruning helps plants grow in a healthy and structured way."
          ],
          [
           "Adding compost to the soil enriches it with nutrients for\ngardening."
          ],
          [
           "Succulents are popular for their low-maintenance and drought-\nresistant nature."
          ],
          [
           "Raised garden beds are great for growing vegetables and herbs."
          ],
          [
           "A variety of flowers can add vibrant colors to your garden."
          ],
          [
           "Mulching helps retain soil moisture and reduce weed growth."
          ],
          [
           "Cacti thrive in dry climates and require minimal watering."
          ],
          [
           "Planting perennials ensures blooms that return year after year."
          ],
          [
           "Aromatic herbs like basil and mint are easy to grow in pots."
          ],
          [
           "Proper drainage prevents overwatering and root rot in plants."
          ],
          [
           "Gardening gloves protect your hands while working with soil and\nplants."
          ],
          [
           "Indoor plants like ferns and pothos improve air quality in your\nhome."
          ],
          [
           "Gardening tools like trowels and spades are essential for\nplanting."
          ],
          [
           "Seasonal plants bring diversity to your garden throughout the\nyear."
          ],
          [
           "Composting kitchen scraps can reduce waste and benefit your\ngarden."
          ],
          [
           "Climbing plants like ivy and jasmine can add vertical beauty to\na space."
          ],
          [
           "Proper spacing between plants prevents overcrowding and promotes\ngrowth."
          ],
          [
           "Ornamental grasses can add texture and movement to a garden\nlandscape."
          ],
          [
           "Seedlings need careful attention and proper sunlight to thrive."
          ],
          [
           "A water sprinkler system can make garden maintenance easier."
          ],
          [
           "Using organic fertilizers promotes sustainable gardening\npractices."
          ],
          [
           "Hanging baskets are a great way to display flowering plants."
          ],
          [
           "Annuals like marigolds bloom brightly but need to be replanted\neach year."
          ],
          [
           "Trimming dead leaves and branches helps plants stay healthy."
          ],
          [
           "Pollinators like bees and butterflies benefit from flowering\nplants."
          ],
          [
           "Gardening can be a relaxing and therapeutic hobby for many\npeople."
          ],
          [
           "Succulents require well-draining soil to prevent waterlogged\nroots."
          ],
          [
           "Vegetable gardens are a rewarding way to grow your own food."
          ],
          [
           "Shade-loving plants like hostas thrive in low-light areas of the\ngarden."
          ],
          [
           "Gardening in containers allows flexibility for small spaces or\npatios."
          ],
          [
           "Fertilizers rich in nitrogen promote lush, green foliage in\nplants."
          ],
          [
           "A greenhouse provides a controlled environment for growing\nsensitive plants."
          ],
          [
           "Using native plants in your garden supports local ecosystems."
          ],
          [
           "Planting flowers in succession ensures continuous blooms\nthroughout the season."
          ],
          [
           "Weeding regularly keeps the garden tidy and reduces competition\nfor nutrients."
          ],
          [
           "Hydrangeas change color based on the pH level of the soil."
          ],
          [
           "Drip irrigation systems deliver water directly to plant roots\nefficiently."
          ],
          [
           "Gardening in the early morning or evening avoids the harsh\nmidday sun."
          ],
          [
           "Herbs like rosemary and thyme thrive in well-drained soil with\nfull sun."
          ],
          [
           "Trellises provide support for climbing plants like tomatoes and\nbeans."
          ],
          [
           "Proper soil testing helps determine the best amendments for your\ngarden."
          ],
          [
           "Gardening requires patience, as plants take time to grow and\nbloom."
          ],
          [
           "Spring is the ideal season to plant most flowers and vegetables."
          ],
          [
           "Indoor plants like snake plants and peace lilies are hardy and\ndecorative."
          ],
          [
           "Adding earthworms to your garden improves soil aeration and\nfertility."
          ],
          [
           "Pests like aphids can be managed with natural remedies or\ninsecticidal soaps."
          ],
          [
           "Regularly rotating crops prevents soil depletion in vegetable\ngardens."
          ],
          [
           "The scent of lavender can add a calming atmosphere to any\ngarden."
          ],
          [
           "Rain barrels collect water that can be used for eco-friendly\nirrigation."
          ],
          [
           "Garden paths made of stone or wood chips enhance the aesthetics\nof the space."
          ],
          [
           "Hardy plants like marigolds are resistant to pests and diseases."
          ],
          [
           "Repotting is necessary when plants outgrow their containers."
          ],
          [
           "Shade cloths protect delicate plants from excessive heat and\nsunlight."
          ],
          [
           "Adding decorative pots can elevate the look of your indoor\nplants."
          ],
          [
           "Deadheading flowers encourages new blooms and prolongs the\nflowering season."
          ],
          [
           "Gardening with children can be an educational and fun activity."
          ],
          [
           "Planting marigolds near vegetables helps deter harmful insects."
          ],
          [
           "Herb gardens can thrive indoors with adequate sunlight and care."
          ],
          [
           "Rain gardens are designed to absorb and filter rainwater\neffectively."
          ],
          [
           "Vertical gardening is ideal for maximizing space in urban areas."
          ],
          [
           "Aquatic plants like water lilies beautify garden ponds and\nsupport wildlife."
          ],
          [
           "Bulbs like tulips and daffodils should be planted in the fall\nfor spring blooms."
          ],
          [
           "Using a garden hoe makes it easier to remove stubborn weeds."
          ],
          [
           "Hummingbirds are often attracted to red and orange flowering\nplants."
          ],
          [
           "Gardening journals can help track plant growth and seasonal\npatterns."
          ],
          [
           "Terrariums create miniature ecosystems for small indoor plants."
          ],
          [
           "Aphid infestations can be controlled with ladybugs or neem oil."
          ],
          [
           "Flower beds with mixed colors create eye-catching visual appeal."
          ],
          [
           "Rocks and pebbles can be used to improve soil drainage in pots."
          ],
          [
           "Proper plant labeling prevents confusion, especially in\nvegetable gardens."
          ],
          [
           "Gardening workshops offer valuable tips for beginners and\nexperts alike."
          ],
          [
           "Winterizing your garden prepares plants for cold temperatures."
          ],
          [
           "Growing sunflowers can attract beneficial insects and brighten\nyour garden."
          ],
          [
           "Seed starting indoors gives plants a head start before outdoor\nplanting."
          ],
          [
           "Aromatic plants like lemongrass can naturally repel mosquitoes."
          ],
          [
           "Installing bird feeders can bring more life and activity to your\ngarden."
          ],
          [
           "Landscaping with drought-tolerant plants saves water in dry\nclimates."
          ],
          [
           "Harvesting vegetables at the right time ensures the best flavor\nand quality."
          ],
          [
           "Garden benches provide a place to relax and enjoy the\nsurroundings."
          ],
          [
           "Rose bushes require regular pruning to maintain their shape and\nhealth."
          ],
          [
           "Terracotta pots are a classic choice for container gardening."
          ],
          [
           "Seasonal garden decor can enhance the atmosphere of your outdoor\nspace."
          ],
          [
           "Covering plants with frost cloths protects them during cold\nsnaps."
          ],
          [
           "Growing tomatoes requires staking or caging for proper support."
          ],
          [
           "Perennials like peonies can become more vibrant with each\npassing year."
          ],
          [
           "Aromatic herbs can be dried and used for teas or culinary\npurposes."
          ],
          [
           "Sunflower seeds can be harvested and enjoyed as a healthy snack."
          ],
          [
           "Gardening requires dedication and rewards with beauty and fresh\nproduce."
          ],
          [
           "Planting companion plants can improve growth and deter pests\nnaturally."
          ],
          [
           "Cooking at home allows you to control the ingredients in your\nmeals."
          ],
          [
           "French cuisine is famous for its delicate pastries and rich\nsauces."
          ],
          [
           "Adding fresh herbs enhances the flavor of any dish."
          ],
          [
           "Cooking pasta al dente ensures the perfect texture for your\nmeal."
          ],
          [
           "Italian cuisine is well-known for its pizzas and pasta dishes."
          ],
          [
           "Sautéing vegetables in olive oil brings out their natural\nsweetness."
          ],
          [
           "Indian curries are renowned for their bold spices and aromatic\nflavors."
          ],
          [
           "Using a slow cooker is a convenient way to prepare tender stews."
          ],
          [
           "Japanese cuisine features sushi, sashimi, and tempura as\nstaples."
          ],
          [
           "Marinating meat overnight infuses it with flavor before cooking."
          ],
          [
           "Mexican cuisine offers a variety of vibrant dishes like tacos\nand enchiladas."
          ],
          [
           "A sharp knife is essential for precise and efficient food\npreparation."
          ],
          [
           "Baking bread from scratch fills the kitchen with a comforting\naroma."
          ],
          [
           "Thai cuisine combines sweet, sour, salty, and spicy flavors in\nharmony."
          ],
          [
           "Grilling meat gives it a smoky flavor and beautiful sear marks."
          ],
          [
           "Chinese stir-fries are quick to make and packed with fresh\ningredients."
          ],
          [
           "Simmering a soup allows the flavors to meld beautifully over\ntime."
          ],
          [
           "Middle Eastern cuisine includes dishes like hummus, falafel, and\ntabbouleh."
          ],
          [
           "Making homemade pasta can be a rewarding culinary experience."
          ],
          [
           "Korean cuisine is known for its spicy kimchi and hearty\nbibimbap."
          ],
          [
           "Roasting vegetables caramelizes their natural sugars for a rich\ntaste."
          ],
          [
           "Spanish cuisine features tapas, paella, and churros as popular\nchoices."
          ],
          [
           "Whisking eggs thoroughly ensures a fluffy texture in omelets."
          ],
          [
           "Vietnamese pho is a comforting noodle soup with a flavorful\nbroth."
          ],
          [
           "Broiling is a quick method to cook food with high heat from\nabove."
          ],
          [
           "Greek cuisine highlights ingredients like olive oil, feta, and\noregano."
          ],
          [
           "Kneading dough develops gluten, giving bread its structure and\nchewiness."
          ],
          [
           "Using a cast iron skillet adds depth of flavor to seared dishes."
          ],
          [
           "Moroccan tagines are slow-cooked stews made with a mix of sweet\nand savory."
          ],
          [
           "Braising tough cuts of meat results in tender and flavorful\ndishes."
          ],
          [
           "Learning to balance spices is a key skill in Indian cooking."
          ],
          [
           "A food processor can make chopping and blending ingredients much\neasier."
          ],
          [
           "French onion soup is topped with melted cheese and a crusty\nbaguette."
          ],
          [
           "Sous vide cooking ensures perfectly even doneness for proteins."
          ],
          [
           "Italian risotto requires constant stirring to achieve its creamy\ntexture."
          ],
          [
           "Caramelizing onions takes time but adds depth to many recipes."
          ],
          [
           "Japanese ramen combines broth, noodles, and toppings into a\ncomforting dish."
          ],
          [
           "Grating fresh Parmesan over pasta adds a delicious finishing\ntouch."
          ],
          [
           "Korean barbecue involves grilling meat at the table with a\nvariety of sides."
          ],
          [
           "Preparing a homemade vinaigrette is simple and elevates any\nsalad."
          ],
          [
           "Mexican mole sauce combines chocolate and spices for a rich,\ncomplex flavor."
          ],
          [
           "Pan-searing scallops creates a golden crust while keeping them\ntender."
          ],
          [
           "Fresh seafood is a cornerstone of Mediterranean cuisine."
          ],
          [
           "Steaming vegetables preserves their nutrients and vibrant\ncolors."
          ],
          [
           "French béchamel sauce serves as the base for many creamy dishes."
          ],
          [
           "Stirring constantly prevents lumps when making a roux for\nthickening."
          ],
          [
           "Using a mandoline slicer ensures uniform cuts for vegetables and\nfruits."
          ],
          [
           "Indian naan bread pairs perfectly with spicy curries."
          ],
          [
           "Cooking steak to the right temperature ensures juiciness and\nflavor."
          ],
          [
           "Making homemade ice cream allows for endless flavor\ncustomizations."
          ],
          [
           "Asian dumplings can be steamed, boiled, or pan-fried for\ndifferent textures."
          ],
          [
           "Barbecuing over charcoal adds a distinct smoky aroma to meats."
          ],
          [
           "Roasting garlic mellows its flavor, making it sweet and\nspreadable."
          ],
          [
           "French crème brûlée features a creamy custard with a caramelized\nsugar crust."
          ],
          [
           "Indian biryani combines fragrant rice with spices and tender\nmeat or vegetables."
          ],
          [
           "Using a pressure cooker can dramatically reduce cooking times."
          ],
          [
           "Sushi rolls often include ingredients like rice, seaweed, and\nfresh fish."
          ],
          [
           "A pinch of salt can enhance the sweetness of desserts."
          ],
          [
           "Kneading dough until smooth ensures evenly baked bread."
          ],
          [
           "The Maillard reaction gives browned foods their distinctive\nflavor."
          ],
          [
           "A blender is essential for making smoothies, soups, and sauces."
          ],
          [
           "Stuffed bell peppers make a colorful and hearty meal option."
          ],
          [
           "Stirring risotto frequently helps release starch for a creamy\nconsistency."
          ],
          [
           "Cooking meat on a grill imparts a delicious smoky flavor."
          ],
          [
           "Using fresh citrus juice adds brightness to savory and sweet\ndishes."
          ],
          [
           "Middle Eastern baklava is made with layers of phyllo dough and\nhoneyed nuts."
          ],
          [
           "Making fluffy pancakes requires not overmixing the batter."
          ],
          [
           "Indian samosas are deep-fried pastries filled with spiced\npotatoes and peas."
          ],
          [
           "Tempering chocolate gives it a shiny finish and perfect snap."
          ],
          [
           "Fresh basil is a must-have herb for making classic pesto sauce."
          ],
          [
           "Baking requires precise measurements for consistent results."
          ],
          [
           "Adding a dash of vinegar can brighten the flavors in a dish."
          ],
          [
           "French ratatouille combines zucchini, eggplant, and tomatoes in\na flavorful stew."
          ],
          [
           "Poaching eggs in simmering water creates a soft, runny yolk."
          ],
          [
           "Stirring hot cocoa with a cinnamon stick adds extra warmth and\nspice."
          ],
          [
           "Indian chai tea is brewed with milk, spices, and black tea\nleaves."
          ],
          [
           "Chopping ingredients uniformly ensures even cooking in recipes."
          ],
          [
           "Spanish flan is a creamy caramel dessert that's rich and smooth."
          ],
          [
           "Roasting a whole chicken creates a meal with crispy skin and\njuicy meat."
          ],
          [
           "Blanching vegetables before freezing helps retain their texture\nand color."
          ],
          [
           "Using parchment paper prevents baked goods from sticking to the\npan."
          ],
          [
           "Grating nutmeg adds a warm, aromatic flavor to sweet and savory\ndishes."
          ],
          [
           "Making a stir-fry is a quick way to prepare a healthy, balanced\nmeal."
          ],
          [
           "Baking a cake from scratch allows for endless flavor and\ndecoration options."
          ],
          [
           "Cooking with wine adds depth and complexity to sauces and stews."
          ],
          [
           "Homemade pizza dough is a fun and customizable base for\ntoppings."
          ],
          [
           "Vietnamese spring rolls are light and refreshing, filled with\nfresh herbs."
          ],
          [
           "Spatchcocking a chicken ensures even cooking and crispy skin."
          ],
          [
           "Fermenting vegetables like sauerkraut enhances their flavor and\nshelf life."
          ],
          [
           "Cooking seafood requires precision to avoid overcooking and\ndrying out."
          ],
          [
           "French croissants are a labor of love, with buttery, flaky\nlayers."
          ],
          [
           "Using a meat thermometer ensures proteins are cooked to safe\ntemperatures."
          ],
          [
           "A cast iron Dutch oven is perfect for baking bread or slow-\ncooking stews."
          ]
         ],
         "hovertemplate": "%{customdata[0]}<extra></extra>",
         "legendgroup": "",
         "marker": {
          "color": [
           3,
           3,
           3,
           3,
           3,
           3,
           3,
           3,
           3,
           3,
           3,
           3,
           3,
           3,
           3,
           3,
           3,
           3,
           3,
           3,
           3,
           3,
           3,
           3,
           3,
           3,
           3,
           3,
           3,
           3,
           3,
           3,
           3,
           3,
           3,
           3,
           3,
           3,
           3,
           3,
           3,
           3,
           3,
           3,
           3,
           3,
           3,
           3,
           3,
           3,
           3,
           3,
           3,
           3,
           3,
           3,
           3,
           3,
           3,
           3,
           3,
           3,
           3,
           3,
           3,
           3,
           3,
           3,
           3,
           3,
           3,
           3,
           3,
           3,
           3,
           3,
           3,
           3,
           3,
           3,
           3,
           3,
           3,
           3,
           3,
           3,
           3,
           3,
           3,
           3,
           3,
           3,
           3,
           3,
           3,
           3,
           3,
           3,
           8,
           8,
           8,
           8,
           8,
           8,
           8,
           8,
           8,
           8,
           8,
           8,
           8,
           8,
           8,
           8,
           8,
           8,
           8,
           8,
           8,
           8,
           8,
           8,
           8,
           8,
           8,
           8,
           8,
           8,
           8,
           8,
           8,
           8,
           8,
           8,
           8,
           8,
           8,
           8,
           8,
           8,
           8,
           8,
           8,
           8,
           8,
           8,
           8,
           -1,
           8,
           8,
           8,
           8,
           8,
           8,
           8,
           8,
           8,
           8,
           8,
           8,
           8,
           8,
           8,
           8,
           8,
           8,
           8,
           8,
           8,
           8,
           8,
           8,
           7,
           8,
           8,
           8,
           8,
           8,
           8,
           8,
           8,
           8,
           8,
           8,
           8,
           8,
           8,
           8,
           8,
           8,
           8,
           5,
           5,
           5,
           5,
           5,
           5,
           5,
           5,
           5,
           5,
           5,
           5,
           5,
           5,
           5,
           5,
           5,
           5,
           5,
           5,
           5,
           5,
           5,
           5,
           5,
           5,
           5,
           5,
           5,
           6,
           5,
           5,
           5,
           5,
           5,
           5,
           5,
           5,
           5,
           5,
           5,
           5,
           5,
           5,
           5,
           5,
           5,
           5,
           5,
           5,
           5,
           5,
           5,
           5,
           5,
           5,
           5,
           5,
           5,
           5,
           5,
           5,
           5,
           5,
           5,
           5,
           8,
           5,
           5,
           3,
           5,
           5,
           5,
           8,
           5,
           5,
           5,
           5,
           5,
           5,
           5,
           5,
           5,
           5,
           5,
           5,
           5,
           5,
           5,
           5,
           5,
           7,
           7,
           7,
           7,
           7,
           7,
           7,
           7,
           7,
           7,
           7,
           7,
           7,
           7,
           7,
           7,
           7,
           7,
           7,
           7,
           7,
           7,
           7,
           7,
           7,
           7,
           7,
           7,
           7,
           7,
           7,
           7,
           7,
           7,
           7,
           7,
           7,
           7,
           7,
           7,
           7,
           7,
           7,
           7,
           7,
           7,
           7,
           7,
           7,
           7,
           7,
           7,
           7,
           7,
           7,
           7,
           7,
           7,
           7,
           7,
           7,
           7,
           7,
           7,
           7,
           7,
           7,
           7,
           7,
           7,
           7,
           7,
           7,
           7,
           7,
           7,
           7,
           7,
           7,
           7,
           7,
           7,
           7,
           7,
           7,
           7,
           7,
           7,
           7,
           7,
           4,
           4,
           4,
           4,
           4,
           4,
           4,
           4,
           4,
           4,
           4,
           4,
           4,
           4,
           4,
           4,
           4,
           4,
           4,
           4,
           4,
           4,
           4,
           4,
           4,
           4,
           4,
           4,
           4,
           4,
           4,
           4,
           4,
           4,
           4,
           4,
           4,
           4,
           4,
           4,
           4,
           4,
           4,
           4,
           4,
           4,
           4,
           4,
           4,
           4,
           4,
           4,
           4,
           4,
           4,
           4,
           4,
           4,
           4,
           4,
           4,
           4,
           4,
           4,
           4,
           4,
           4,
           4,
           4,
           4,
           4,
           4,
           4,
           4,
           4,
           4,
           4,
           4,
           4,
           4,
           4,
           4,
           4,
           4,
           4,
           4,
           4,
           4,
           4,
           4,
           4,
           4,
           2,
           2,
           2,
           2,
           2,
           2,
           2,
           2,
           2,
           2,
           2,
           2,
           2,
           2,
           2,
           2,
           2,
           1,
           2,
           2,
           2,
           2,
           2,
           2,
           2,
           2,
           2,
           2,
           2,
           2,
           2,
           2,
           2,
           2,
           2,
           2,
           2,
           2,
           2,
           2,
           2,
           2,
           2,
           2,
           2,
           2,
           2,
           2,
           2,
           2,
           2,
           2,
           2,
           2,
           2,
           2,
           2,
           2,
           2,
           2,
           2,
           2,
           2,
           2,
           2,
           2,
           2,
           2,
           2,
           2,
           2,
           2,
           2,
           2,
           2,
           2,
           2,
           2,
           2,
           2,
           2,
           2,
           2,
           2,
           2,
           2,
           2,
           2,
           2,
           2,
           2,
           2,
           2,
           1,
           2,
           1,
           1,
           2,
           1,
           2,
           1,
           2,
           2,
           1,
           2,
           1,
           2,
           1,
           2,
           1,
           2,
           1,
           2,
           1,
           2,
           1,
           2,
           1,
           2,
           1,
           2,
           1,
           2,
           1,
           2,
           1,
           2,
           1,
           2,
           1,
           2,
           1,
           2,
           1,
           2,
           1,
           2,
           1,
           2,
           1,
           2,
           1,
           2,
           1,
           2,
           1,
           2,
           1,
           2,
           1,
           2,
           1,
           2,
           1,
           2,
           1,
           2,
           1,
           2,
           1,
           2,
           1,
           2,
           1,
           2,
           1,
           2,
           1,
           2,
           1,
           2,
           1,
           2,
           1,
           2,
           1,
           2,
           1,
           2,
           1,
           1,
           2,
           1,
           2,
           1,
           2,
           0,
           0,
           0,
           0,
           0,
           0,
           0,
           0,
           0,
           0,
           0,
           0,
           0,
           0,
           0,
           0,
           0,
           0,
           0,
           0,
           0,
           0,
           0,
           0,
           0,
           0,
           0,
           0,
           0,
           0,
           0,
           0,
           0,
           0,
           0,
           0,
           0,
           0,
           0,
           0,
           0,
           0,
           0,
           0,
           0,
           0,
           0,
           0,
           0,
           0,
           0,
           0,
           0,
           0,
           0,
           0,
           0,
           0,
           0,
           0,
           0,
           0,
           0,
           0,
           0,
           0,
           0,
           0,
           0,
           0,
           0,
           0,
           0,
           0,
           0,
           0,
           0,
           0,
           0,
           0,
           0,
           0,
           0,
           0,
           0,
           0,
           0,
           0,
           0,
           0,
           6,
           6,
           6,
           6,
           6,
           6,
           6,
           6,
           6,
           6,
           6,
           4,
           6,
           6,
           6,
           6,
           6,
           6,
           6,
           6,
           6,
           6,
           6,
           6,
           6,
           6,
           6,
           6,
           6,
           6,
           6,
           6,
           6,
           6,
           6,
           6,
           6,
           6,
           6,
           6,
           6,
           6,
           6,
           6,
           6,
           6,
           6,
           6,
           6,
           6,
           6,
           6,
           6,
           6,
           6,
           6,
           6,
           6,
           6,
           6,
           6,
           6,
           6,
           6,
           6,
           6,
           7,
           6,
           6,
           6,
           6,
           6,
           6,
           6,
           6,
           6,
           6,
           6,
           7,
           6,
           4,
           6,
           6,
           6,
           6,
           6,
           6,
           6,
           4,
           6,
           6,
           6,
           4,
           4,
           4,
           4,
           4,
           4,
           4,
           4,
           4,
           4,
           4,
           4,
           4,
           4,
           4,
           4,
           4,
           4,
           4,
           4,
           4,
           4,
           4,
           4,
           4,
           4,
           4,
           4,
           4,
           4,
           4,
           4,
           4,
           4,
           4,
           4,
           4,
           4,
           4,
           4,
           4,
           4,
           4,
           4,
           4,
           4,
           4,
           4,
           4,
           4,
           4,
           4,
           4,
           4,
           4,
           4,
           4,
           4,
           4,
           4,
           4,
           4,
           4,
           4,
           4,
           4,
           4,
           4,
           4,
           4,
           4,
           4,
           4,
           7,
           4,
           4,
           4,
           4,
           4,
           4,
           4,
           4,
           4,
           4,
           4,
           4,
           4,
           4,
           4,
           4,
           4,
           4,
           4
          ],
          "coloraxis": "coloraxis",
          "opacity": 0.8,
          "size": 1,
          "symbol": "circle"
         },
         "mode": "markers",
         "name": "",
         "orientation": "v",
         "showlegend": false,
         "type": "scatter",
         "x": [
          -5.295314788818359,
          -6.441539764404297,
          -5.613987445831299,
          -6.371162414550781,
          -5.6605448722839355,
          -5.371578693389893,
          -5.677000999450684,
          -5.826340675354004,
          -5.873174667358398,
          -5.199470043182373,
          -6.371291160583496,
          -5.978972911834717,
          -5.381600856781006,
          -6.01369047164917,
          -5.521024703979492,
          -6.0119147300720215,
          -6.230035305023193,
          -5.406861305236816,
          -6.219501495361328,
          -5.505630016326904,
          -5.778847694396973,
          -5.4709272384643555,
          -6.440950393676758,
          -5.374887943267822,
          -5.5873026847839355,
          -5.641096115112305,
          -5.453785419464111,
          -6.1401262283325195,
          -5.327895641326904,
          -6.373953342437744,
          -5.66149377822876,
          -5.607128143310547,
          -5.270412921905518,
          -6.40466833114624,
          -5.5888214111328125,
          -5.785018444061279,
          -5.538058280944824,
          -5.838313102722168,
          -6.429503917694092,
          -5.521537780761719,
          -5.79532527923584,
          -5.442147254943848,
          -6.052515029907227,
          -5.566332817077637,
          -5.88332986831665,
          -5.737151622772217,
          -5.930959701538086,
          -5.32243013381958,
          -6.463571071624756,
          -5.983314514160156,
          -5.523049831390381,
          -5.854744911193848,
          -5.216930866241455,
          -5.526874542236328,
          -5.641778945922852,
          -6.426682472229004,
          -6.411660194396973,
          -5.685435771942139,
          -6.056096076965332,
          -6.071324825286865,
          -5.235767364501953,
          -5.629762649536133,
          -5.561359405517578,
          -6.414288520812988,
          -5.519179344177246,
          -5.804375648498535,
          -5.933199405670166,
          -5.803950786590576,
          -5.573732852935791,
          -5.847522258758545,
          -5.805523872375488,
          -6.328493595123291,
          -5.3808274269104,
          -6.215453624725342,
          -5.410901069641113,
          -6.412104606628418,
          -5.841087818145752,
          -5.655123233795166,
          -5.591833591461182,
          -5.904892921447754,
          -5.406716346740723,
          -5.901360511779785,
          -5.965161323547363,
          -6.018544673919678,
          -6.162964820861816,
          -5.863615989685059,
          -5.693192958831787,
          -5.699958324432373,
          -5.946325778961182,
          -5.388638973236084,
          -5.965416431427002,
          -5.915131568908691,
          -6.337953567504883,
          -6.087502956390381,
          -5.357175827026367,
          -6.192961692810059,
          -5.4322309494018555,
          -5.414666652679443,
          4.2348809242248535,
          4.651979923248291,
          3.970940351486206,
          4.605877876281738,
          4.150999546051025,
          4.5447916984558105,
          4.234560489654541,
          5.268045425415039,
          4.41314172744751,
          4.71235990524292,
          5.2862677574157715,
          4.492429256439209,
          4.571386814117432,
          4.006288528442383,
          5.1248779296875,
          4.547775745391846,
          4.562436580657959,
          4.055455684661865,
          5.307847023010254,
          4.461310863494873,
          4.652940273284912,
          4.172688007354736,
          5.276033401489258,
          4.490644454956055,
          5.062248229980469,
          4.087926864624023,
          5.224035739898682,
          4.125467300415039,
          4.62900972366333,
          4.778171539306641,
          4.201143741607666,
          5.43951940536499,
          4.388071537017822,
          4.71693229675293,
          3.9722726345062256,
          5.304309368133545,
          4.425907135009766,
          4.65437126159668,
          4.155243396759033,
          5.258676528930664,
          4.4626030921936035,
          4.76346492767334,
          4.0475664138793945,
          5.24119758605957,
          4.437555313110352,
          5.301762104034424,
          4.491116523742676,
          4.5958123207092285,
          4.0570454597473145,
          5.608528137207031,
          4.476119041442871,
          5.151365280151367,
          4.00151252746582,
          4.746809482574463,
          4.425222873687744,
          4.779474258422852,
          4.35291862487793,
          4.980224609375,
          4.113629341125488,
          5.283078193664551,
          4.522989273071289,
          5.192911148071289,
          4.19068717956543,
          4.928163528442383,
          5.366605281829834,
          4.1807861328125,
          5.157033920288086,
          3.965447425842285,
          4.945398330688477,
          4.047122001647949,
          4.580169200897217,
          4.196944236755371,
          5.433601379394531,
          4.002965927124023,
          5.840508460998535,
          4.295527935028076,
          4.332632541656494,
          4.157380104064941,
          5.315986633300781,
          4.482196807861328,
          5.383244514465332,
          4.044363021850586,
          4.611644744873047,
          4.200660705566406,
          5.096197128295898,
          4.302952766418457,
          5.370092868804932,
          4.011044025421143,
          4.938795566558838,
          4.121784687042236,
          5.103531360626221,
          4.52107048034668,
          5.4098992347717285,
          0.7433964610099792,
          1.632765769958496,
          0.3986016511917114,
          1.646078109741211,
          0.8566399216651917,
          1.611564040184021,
          0.5152458548545837,
          1.342373013496399,
          0.7641420960426331,
          1.7561763525009155,
          0.28581422567367554,
          1.663726806640625,
          0.4818088412284851,
          1.5412684679031372,
          0.8117427825927734,
          1.5190690755844116,
          0.7472561597824097,
          1.6153035163879395,
          0.7023912668228149,
          1.9003281593322754,
          0.5667229294776917,
          1.601026177406311,
          0.7935467958450317,
          1.5800129175186157,
          0.40366557240486145,
          1.6146084070205688,
          0.3945968449115753,
          1.7301931381225586,
          0.8174329996109009,
          3.8461854457855225,
          0.5062391757965088,
          1.5229116678237915,
          0.3463823199272156,
          1.4389435052871704,
          0.31752651929855347,
          1.6976619958877563,
          0.6998305916786194,
          1.5117783546447754,
          1.0261540412902832,
          2.07963228225708,
          0.5507432222366333,
          1.5326887369155884,
          0.41729235649108887,
          1.6409955024719238,
          0.5626896023750305,
          1.4876610040664673,
          0.7154525518417358,
          1.5909591913223267,
          0.3024742007255554,
          1.391920566558838,
          0.4378141760826111,
          1.4332492351531982,
          0.3579299747943878,
          1.3499444723129272,
          0.2897968590259552,
          1.8218653202056885,
          0.40134966373443604,
          1.4997224807739258,
          0.29759836196899414,
          1.5462111234664917,
          0.6040443181991577,
          1.6724604368209839,
          0.2636535167694092,
          1.281292200088501,
          0.5007472634315491,
          1.5230200290679932,
          4.515241622924805,
          1.5777565240859985,
          0.628313422203064,
          -5.393815994262695,
          0.7488200664520264,
          1.4757637977600098,
          0.7531270384788513,
          4.660717010498047,
          0.25386306643486023,
          1.703721523284912,
          0.4771167039871216,
          1.632083535194397,
          0.754195511341095,
          1.4550758600234985,
          0.7744902968406677,
          1.3291360139846802,
          1.0140600204467773,
          1.282348394393921,
          0.3182885944843292,
          1.6033865213394165,
          0.5351490378379822,
          2.181489944458008,
          0.6917043924331665,
          1.665635585784912,
          0.8599659204483032,
          6.24075174331665,
          6.546097278594971,
          6.683350563049316,
          6.34591007232666,
          6.512435436248779,
          6.238002300262451,
          6.783498764038086,
          6.30680513381958,
          6.331702709197998,
          6.25704288482666,
          6.502492427825928,
          6.748242378234863,
          6.335421085357666,
          6.010005474090576,
          6.3179402351379395,
          6.703013896942139,
          6.742398262023926,
          6.111425399780273,
          6.296915531158447,
          6.703845024108887,
          6.732126235961914,
          6.135721206665039,
          6.790287017822266,
          6.569831371307373,
          6.475306034088135,
          6.667494773864746,
          6.22008752822876,
          6.022206783294678,
          6.555052757263184,
          6.637669563293457,
          6.68712043762207,
          6.345220565795898,
          6.30634069442749,
          6.049937725067139,
          6.377306938171387,
          6.114023685455322,
          6.770487308502197,
          6.471974849700928,
          6.817784309387207,
          6.664881229400635,
          6.3058977127075195,
          5.998682498931885,
          6.542839527130127,
          6.034714221954346,
          6.378638744354248,
          6.020191669464111,
          6.830197811126709,
          6.672749996185303,
          6.660957336425781,
          6.450028419494629,
          6.421914100646973,
          6.6423139572143555,
          6.365808010101318,
          6.1540350914001465,
          6.415867328643799,
          6.615272521972656,
          6.3829779624938965,
          6.525357246398926,
          6.739103317260742,
          6.243786334991455,
          6.31247615814209,
          6.2459845542907715,
          6.2879228591918945,
          6.1032257080078125,
          6.366183280944824,
          6.547446250915527,
          6.3089213371276855,
          6.176751613616943,
          6.467109680175781,
          6.0529303550720215,
          6.341873645782471,
          6.14525842666626,
          6.697958469390869,
          6.568202495574951,
          6.708287715911865,
          6.280084133148193,
          6.5278825759887695,
          6.499682903289795,
          6.161050319671631,
          6.111219882965088,
          6.734535217285156,
          6.129335880279541,
          6.344771385192871,
          6.630187511444092,
          6.758274078369141,
          6.300853729248047,
          6.685966968536377,
          6.674148082733154,
          6.2781548500061035,
          6.668713569641113,
          7.530884742736816,
          5.574703216552734,
          8.113375663757324,
          5.428004264831543,
          8.15329360961914,
          5.443268299102783,
          7.44925594329834,
          5.536057949066162,
          8.238971710205078,
          5.990357398986816,
          7.577964782714844,
          6.031494140625,
          8.221940994262695,
          5.440935134887695,
          7.569153785705566,
          5.721089839935303,
          7.885707855224609,
          5.760735988616943,
          7.373828887939453,
          5.446186542510986,
          8.209929466247559,
          5.719062805175781,
          7.2824249267578125,
          5.877904415130615,
          7.693227767944336,
          5.9597649574279785,
          8.241765975952148,
          5.8452067375183105,
          7.938391208648682,
          5.8527140617370605,
          8.064949035644531,
          5.712526321411133,
          7.30511999130249,
          5.430381774902344,
          8.05458927154541,
          5.832681179046631,
          7.923158645629883,
          5.684781074523926,
          8.257286071777344,
          5.453911781311035,
          7.6581501960754395,
          5.391445636749268,
          7.620946407318115,
          5.944934368133545,
          8.119205474853516,
          5.697519302368164,
          7.421494007110596,
          5.494263648986816,
          8.044045448303223,
          5.382791519165039,
          7.526877403259277,
          5.3886399269104,
          7.413923740386963,
          5.670823097229004,
          8.151097297668457,
          5.656779766082764,
          8.206731796264648,
          6.011924743652344,
          7.485691070556641,
          5.603736400604248,
          8.217403411865234,
          6.052250862121582,
          7.491400241851807,
          5.914706707000732,
          7.909153461456299,
          5.5194411277771,
          7.645111083984375,
          6.029837131500244,
          8.011279106140137,
          5.706855773925781,
          7.691752910614014,
          5.659638404846191,
          7.455028057098389,
          5.552580833435059,
          8.097433090209961,
          5.52960205078125,
          7.789989471435547,
          5.590090274810791,
          8.198230743408203,
          5.613394260406494,
          8.063797950744629,
          5.397154331207275,
          7.508153438568115,
          5.536742210388184,
          8.158365249633789,
          5.992166042327881,
          7.958486080169678,
          5.765961647033691,
          8.029813766479492,
          5.6625776290893555,
          7.866191387176514,
          5.800269603729248,
          11.61246109008789,
          12.639887809753418,
          11.196588516235352,
          11.923091888427734,
          11.660426139831543,
          11.251260757446289,
          11.193830490112305,
          12.137740135192871,
          11.431499481201172,
          12.116522789001465,
          11.617919921875,
          11.574057579040527,
          12.246061325073242,
          11.599039077758789,
          11.053786277770996,
          12.12679672241211,
          11.270689964294434,
          11.8855562210083,
          11.280561447143555,
          12.169342041015625,
          11.135056495666504,
          12.098016738891602,
          11.695590019226074,
          12.415250778198242,
          11.601914405822754,
          11.163270950317383,
          11.895441055297852,
          12.668763160705566,
          11.04747486114502,
          12.094127655029297,
          11.710532188415527,
          11.333746910095215,
          12.225481986999512,
          11.597465515136719,
          11.950796127319336,
          11.217686653137207,
          12.077068328857422,
          11.484034538269043,
          11.97081470489502,
          11.260110855102539,
          12.252278327941895,
          11.889826774597168,
          11.987892150878906,
          11.254316329956055,
          11.93618392944336,
          11.95160961151123,
          11.755858421325684,
          11.345789909362793,
          11.319864273071289,
          12.297569274902344,
          12.231889724731445,
          11.651626586914062,
          11.957040786743164,
          11.033082008361816,
          12.027915000915527,
          11.057594299316406,
          11.524699211120605,
          11.035446166992188,
          11.963805198669434,
          11.879362106323242,
          12.276168823242188,
          11.262001991271973,
          11.994686126708984,
          11.167143821716309,
          11.343518257141113,
          11.414214134216309,
          11.279746055603027,
          12.565396308898926,
          11.14464282989502,
          11.852601051330566,
          11.43166732788086,
          12.15261459350586,
          11.129929542541504,
          11.118363380432129,
          11.020112037658691,
          11.579436302185059,
          11.227264404296875,
          12.096834182739258,
          11.286694526672363,
          11.383038520812988,
          12.106191635131836,
          11.843388557434082,
          12.017169952392578,
          11.110302925109863,
          11.918416023254395,
          11.122637748718262,
          12.215996742248535,
          11.164828300476074,
          12.003335952758789,
          11.397466659545898,
          12.227052688598633,
          11.209220886230469,
          12.00776481628418,
          11.804407119750977,
          12.687788009643555,
          11.664552688598633,
          12.057525634765625,
          12.9515380859375,
          11.885004997253418,
          12.063620567321777,
          11.927722930908203,
          12.220563888549805,
          12.7857084274292,
          11.793438911437988,
          12.592589378356934,
          11.855842590332031,
          12.550763130187988,
          11.9718599319458,
          12.81214714050293,
          11.758938789367676,
          12.818368911743164,
          11.86636734008789,
          12.038784980773926,
          11.845305442810059,
          12.321415901184082,
          11.79700756072998,
          12.326555252075195,
          11.75227165222168,
          12.341978073120117,
          11.915472030639648,
          12.807721138000488,
          11.651541709899902,
          12.642362594604492,
          11.809183120727539,
          12.610116958618164,
          11.926977157592773,
          12.605266571044922,
          11.694687843322754,
          12.634659767150879,
          11.869577407836914,
          12.66860580444336,
          11.857312202453613,
          12.947921752929688,
          11.627042770385742,
          12.405580520629883,
          11.972750663757324,
          12.894073486328125,
          11.631670951843262,
          12.445751190185547,
          11.79175090789795,
          12.703727722167969,
          11.676684379577637,
          11.63941478729248,
          11.785868644714355,
          12.877313613891602,
          11.61681842803955,
          12.49461841583252,
          11.88608169555664,
          12.610025405883789,
          11.691741943359375,
          12.52420711517334,
          11.807891845703125,
          12.49545955657959,
          11.678129196166992,
          12.626252174377441,
          11.78573226928711,
          12.592926979064941,
          11.65831470489502,
          12.611063003540039,
          11.836592674255371,
          12.465264320373535,
          11.729140281677246,
          12.62882137298584,
          11.758145332336426,
          12.526285171508789,
          11.670433044433594,
          12.629011154174805,
          11.809806823730469,
          12.748127937316895,
          11.640604972839355,
          12.490872383117676,
          11.881387710571289,
          12.670656204223633,
          11.648589134216309,
          12.80226993560791,
          11.91505241394043,
          12.951132774353027,
          11.70258903503418,
          12.54013729095459,
          11.768678665161133,
          11.740799903869629,
          12.862129211425781,
          11.876455307006836,
          12.210299491882324,
          11.662724494934082,
          12.744658470153809,
          -6.861555099487305,
          -5.964443206787109,
          -6.938629150390625,
          -6.069876194000244,
          -6.478425025939941,
          -5.951118469238281,
          -6.587437629699707,
          -5.8074870109558105,
          -6.8994669914245605,
          -5.944787979125977,
          -6.557411193847656,
          -5.887673854827881,
          -6.529872417449951,
          -5.8578009605407715,
          -6.920794486999512,
          -6.260982036590576,
          -6.870883941650391,
          -6.07562780380249,
          -6.831846714019775,
          -5.9489970207214355,
          -6.632370948791504,
          -5.935810089111328,
          -6.800436019897461,
          -6.214845657348633,
          -6.601530075073242,
          -6.125185966491699,
          -6.877051830291748,
          -5.921874046325684,
          -6.835034370422363,
          -5.779685020446777,
          -6.933913230895996,
          -5.873630523681641,
          -6.658092975616455,
          -6.123002052307129,
          -6.647885799407959,
          -5.750768661499023,
          -6.943619251251221,
          -6.123341083526611,
          -6.710930824279785,
          -6.078230381011963,
          -6.887381553649902,
          -6.019991397857666,
          -6.729436874389648,
          -6.109162330627441,
          -6.8226141929626465,
          -5.813231945037842,
          -6.937541961669922,
          -5.780177116394043,
          -6.858508586883545,
          -5.776327133178711,
          -6.579591274261475,
          -5.882018566131592,
          -6.791947364807129,
          -6.050486087799072,
          -6.889337539672852,
          -5.9452033042907715,
          -6.70881986618042,
          -6.297835350036621,
          -6.7052435874938965,
          -5.886685848236084,
          -6.804732322692871,
          -5.885910987854004,
          -6.886542320251465,
          -5.898158550262451,
          -6.782109260559082,
          -5.9740729331970215,
          -6.804649353027344,
          -5.980386257171631,
          -6.65887975692749,
          -5.757849216461182,
          -6.6258134841918945,
          -5.907747268676758,
          -6.725566864013672,
          -6.083532333374023,
          -6.899639129638672,
          -6.1677045822143555,
          -6.530485153198242,
          -5.943296432495117,
          -6.852756500244141,
          -5.793547630310059,
          -6.739462375640869,
          -5.905386924743652,
          -6.7615532875061035,
          -5.83504056930542,
          -6.897266864776611,
          -5.802335262298584,
          -6.813016414642334,
          -5.893757343292236,
          -6.869468688964844,
          -5.766706943511963,
          5.182953357696533,
          4.276515007019043,
          4.690290927886963,
          4.875075817108154,
          5.0043253898620605,
          5.063603401184082,
          4.544672012329102,
          4.1298508644104,
          5.189659118652344,
          5.08725643157959,
          4.051969528198242,
          5.280307292938232,
          5.193844795227051,
          4.717964172363281,
          4.464913368225098,
          4.7685041427612305,
          4.180313587188721,
          4.9985857009887695,
          4.459264278411865,
          4.867106914520264,
          4.2498273849487305,
          4.854282855987549,
          5.333105087280273,
          5.024707317352295,
          4.063721656799316,
          4.1051506996154785,
          5.064481258392334,
          4.205667495727539,
          4.564001560211182,
          5.157315254211426,
          4.8155694007873535,
          4.478407382965088,
          4.587800025939941,
          4.978466987609863,
          4.679854869842529,
          4.699350357055664,
          4.137495517730713,
          5.116969108581543,
          5.0063066482543945,
          5.347497940063477,
          4.5594353675842285,
          4.382106304168701,
          4.6671013832092285,
          4.968095779418945,
          4.810969829559326,
          4.044192790985107,
          4.5207037925720215,
          4.974669933319092,
          4.507726192474365,
          5.001832008361816,
          4.185949802398682,
          5.386628150939941,
          4.207029819488525,
          4.27808952331543,
          4.962340354919434,
          4.664459705352783,
          4.460331916809082,
          4.051768779754639,
          4.577371120452881,
          4.389891624450684,
          4.395903587341309,
          5.301529407501221,
          4.5725789070129395,
          5.105225563049316,
          4.007656097412109,
          5.135284423828125,
          6.072559356689453,
          4.384519100189209,
          4.584525108337402,
          4.504477024078369,
          4.100521087646484,
          5.067081451416016,
          4.88016414642334,
          4.628615856170654,
          4.581877708435059,
          4.307075500488281,
          4.672992706298828,
          4.535719871520996,
          6.032174110412598,
          5.184560298919678,
          6.455282211303711,
          4.152514457702637,
          4.696772575378418,
          4.610710620880127,
          4.018906116485596,
          4.746764183044434,
          4.87257194519043,
          4.105846405029297,
          5.243188858032227,
          4.706330299377441,
          4.792108535766602,
          4.678136825561523,
          5.908816814422607,
          5.767359256744385,
          5.73448371887207,
          6.237946510314941,
          5.90339469909668,
          6.460464954376221,
          5.176260471343994,
          5.903158187866211,
          5.348808288574219,
          5.80063533782959,
          5.56281852722168,
          6.14150333404541,
          6.75391149520874,
          5.1753082275390625,
          5.815703868865967,
          5.4259114265441895,
          5.965961456298828,
          5.631268501281738,
          6.264791488647461,
          5.3435492515563965,
          6.503304481506348,
          5.6607346534729,
          7.060669422149658,
          5.398314476013184,
          5.903791427612305,
          5.7541656494140625,
          6.7167463302612305,
          5.907123565673828,
          5.672554016113281,
          5.85007905960083,
          5.187902450561523,
          6.132681369781494,
          5.727562427520752,
          6.025178909301758,
          6.300666332244873,
          6.500116348266602,
          5.319765567779541,
          6.2635416984558105,
          5.45417594909668,
          5.686072826385498,
          5.587222576141357,
          6.092108726501465,
          5.662967681884766,
          6.44551944732666,
          5.90878438949585,
          6.452271461486816,
          6.323552131652832,
          5.209728717803955,
          5.851328372955322,
          7.07479190826416,
          5.441060543060303,
          5.623035430908203,
          6.30703067779541,
          6.0715861320495605,
          5.130167007446289,
          5.998602867126465,
          5.303863525390625,
          7.0286126136779785,
          6.829759120941162,
          6.483580112457275,
          6.009309768676758,
          5.413153648376465,
          6.399937629699707,
          5.785665035247803,
          5.788626194000244,
          5.757636547088623,
          6.95469856262207,
          5.172399044036865,
          6.801817893981934,
          5.378476142883301,
          6.819186687469482,
          5.939199447631836,
          5.792797088623047,
          6.617189884185791,
          6.892084121704102,
          5.106450080871582,
          6.231734275817871,
          5.760162353515625,
          5.904164791107178,
          6.44974422454834,
          6.854620456695557,
          6.482669830322266,
          5.775708198547363,
          7.016419887542725,
          5.783137321472168,
          6.483151435852051,
          5.307589530944824,
          5.918136119842529,
          6.426368713378906,
          6.08638858795166,
          5.917013645172119,
          5.939457893371582,
          6.303561210632324
         ],
         "xaxis": "x",
         "y": [
          -3.102914810180664,
          -1.78699791431427,
          -3.3555285930633545,
          -2.152357339859009,
          -2.116689443588257,
          -3.3041136264801025,
          -1.7173415422439575,
          -3.1876308917999268,
          -1.8017504215240479,
          -3.061180591583252,
          -2.1398184299468994,
          -2.928346872329712,
          -3.1092755794525146,
          -2.0694966316223145,
          -3.264251947402954,
          -3.1538357734680176,
          -2.0583693981170654,
          -3.339855670928955,
          -2.2325422763824463,
          -2.9621505737304688,
          -1.8294769525527954,
          -3.373258113861084,
          -1.6403945684432983,
          -3.2415530681610107,
          -2.719162940979004,
          -2.009671449661255,
          -3.243776798248291,
          -2.2451441287994385,
          -3.2529897689819336,
          -1.709102749824524,
          -3.336099863052368,
          -2.0110323429107666,
          -3.0164220333099365,
          -2.1271719932556152,
          -3.3439035415649414,
          -2.021864891052246,
          -3.126492500305176,
          -3.1816859245300293,
          -1.8315504789352417,
          -3.4685966968536377,
          -1.9174613952636719,
          -3.0869252681732178,
          -2.4074857234954834,
          -3.4851629734039307,
          -2.0028116703033447,
          -3.350957155227661,
          -1.9138455390930176,
          -3.353226900100708,
          -1.7440541982650757,
          -1.8761122226715088,
          -3.3223459720611572,
          -1.763525128364563,
          -3.0199685096740723,
          -3.509573459625244,
          -2.2650861740112305,
          -2.185657501220703,
          -1.7062828540802002,
          -3.100374221801758,
          -2.2937841415405273,
          -2.2593271732330322,
          -3.2042932510375977,
          -3.185086727142334,
          -3.0689828395843506,
          -2.01853609085083,
          -3.387572765350342,
          -1.7967886924743652,
          -3.2829947471618652,
          -2.305826425552368,
          -3.482435941696167,
          -2.1091384887695312,
          -2.8184781074523926,
          -2.0590875148773193,
          -3.1633636951446533,
          -2.1426339149475098,
          -3.206395149230957,
          -2.075336217880249,
          -2.805910348892212,
          -1.9944968223571777,
          -2.3193447589874268,
          -2.72892427444458,
          -3.134925127029419,
          -3.006497383117676,
          -1.8653005361557007,
          -3.1309258937835693,
          -1.8243635892868042,
          -2.7379536628723145,
          -1.9858179092407227,
          -3.4426825046539307,
          -1.8762943744659424,
          -3.2288689613342285,
          -3.0103235244750977,
          -2.6354260444641113,
          -2.0977823734283447,
          -2.2741079330444336,
          -2.8203952312469482,
          -2.2530341148376465,
          -3.292055606842041,
          -3.160508871078491,
          7.7856926918029785,
          6.6558308601379395,
          8.235947608947754,
          6.515632629394531,
          7.738220691680908,
          6.51462984085083,
          7.807131767272949,
          6.598011016845703,
          7.551667213439941,
          6.545491695404053,
          6.887838840484619,
          7.640751838684082,
          6.621247291564941,
          7.770519256591797,
          6.531162261962891,
          7.627809047698975,
          6.918891429901123,
          8.186049461364746,
          6.65739107131958,
          7.595600605010986,
          6.833214282989502,
          7.675736427307129,
          6.551560878753662,
          7.576998710632324,
          6.670819282531738,
          8.11041259765625,
          6.691951274871826,
          7.8725690841674805,
          6.808047771453857,
          6.657792568206787,
          7.774063587188721,
          6.764459609985352,
          7.635060787200928,
          6.648244857788086,
          8.24323844909668,
          6.61245059967041,
          7.565544128417969,
          7.2844157218933105,
          7.790261745452881,
          6.73600959777832,
          7.476459503173828,
          6.938668251037598,
          8.182600021362305,
          6.66558837890625,
          7.594174385070801,
          6.838624000549316,
          7.5782246589660645,
          6.553372383117676,
          8.166275024414062,
          6.254368305206299,
          7.338581085205078,
          6.472228050231934,
          8.20067024230957,
          6.453831672668457,
          7.73354434967041,
          6.665007591247559,
          7.598276138305664,
          6.989238739013672,
          8.119353294372559,
          6.765317916870117,
          7.6483588218688965,
          6.5533576011657715,
          7.8074116706848145,
          6.405729293823242,
          6.8094964027404785,
          7.883314609527588,
          6.831328392028809,
          8.276039123535156,
          7.175317764282227,
          7.731041431427002,
          6.465405464172363,
          7.877326965332031,
          6.808990001678467,
          8.220473289489746,
          5.64650297164917,
          7.594035625457764,
          7.9684157371521,
          8.119732856750488,
          6.968108177185059,
          7.631645202636719,
          6.675103187561035,
          8.165549278259277,
          6.641765594482422,
          7.744394779205322,
          6.889284610748291,
          7.605034828186035,
          6.562277317047119,
          8.21481990814209,
          6.471746921539307,
          7.505462169647217,
          6.808162689208984,
          7.61854887008667,
          6.6745147705078125,
          1.1322739124298096,
          1.7490006685256958,
          1.4809410572052002,
          1.6243866682052612,
          1.230293869972229,
          1.2115027904510498,
          1.4877816438674927,
          2.03007435798645,
          1.0666849613189697,
          1.3986759185791016,
          1.5928462743759155,
          1.614427924156189,
          1.4153703451156616,
          1.2896230220794678,
          1.0654535293579102,
          1.808036208152771,
          1.357400894165039,
          1.5299144983291626,
          1.4688386917114258,
          1.7457096576690674,
          1.5628063678741455,
          1.7185606956481934,
          1.0494780540466309,
          1.8331812620162964,
          1.5722534656524658,
          1.5383048057556152,
          1.4005606174468994,
          1.2191625833511353,
          1.6896096467971802,
          0.9885416030883789,
          1.4439970254898071,
          1.4797152280807495,
          1.5454905033111572,
          1.8916897773742676,
          1.6439474821090698,
          1.5645283460617065,
          1.1056478023529053,
          1.8093552589416504,
          1.2418584823608398,
          1.7676985263824463,
          1.6170482635498047,
          1.0851376056671143,
          1.6704459190368652,
          1.4860820770263672,
          1.606034517288208,
          1.7882846593856812,
          1.18825101852417,
          1.2342528104782104,
          1.6308742761611938,
          1.064298391342163,
          1.4417022466659546,
          1.6999130249023438,
          1.4478710889816284,
          1.8577919006347656,
          1.670455813407898,
          1.7019469738006592,
          1.345239520072937,
          1.1313509941101074,
          1.5766501426696777,
          1.7770507335662842,
          1.4491389989852905,
          1.2537269592285156,
          1.3937267065048218,
          1.3165477514266968,
          1.4728069305419922,
          1.620374321937561,
          6.318906307220459,
          1.9092528820037842,
          1.1553547382354736,
          -2.377906322479248,
          1.6069095134735107,
          1.9154483079910278,
          1.3475117683410645,
          6.299805164337158,
          1.5823324918746948,
          1.8160380125045776,
          1.3771896362304688,
          1.5091770887374878,
          1.1105701923370361,
          1.1778714656829834,
          1.409271001815796,
          2.030857563018799,
          1.8147238492965698,
          1.1962270736694336,
          1.6167329549789429,
          1.750308871269226,
          1.3695131540298462,
          1.639373540878296,
          1.072126030921936,
          1.6590776443481445,
          1.025252103805542,
          5.423274040222168,
          3.56931209564209,
          5.269717693328857,
          3.862675666809082,
          4.954973220825195,
          3.575672149658203,
          4.546864032745361,
          3.730065107345581,
          5.13486385345459,
          3.6211166381835938,
          5.093873500823975,
          4.264527797698975,
          4.959645748138428,
          3.7425687313079834,
          5.492159843444824,
          3.423098087310791,
          4.894787788391113,
          3.9242300987243652,
          4.829209804534912,
          3.4915401935577393,
          5.2336883544921875,
          3.568181037902832,
          4.759154319763184,
          3.5866143703460693,
          5.217647552490234,
          3.3735082149505615,
          5.025883197784424,
          3.989898920059204,
          4.854544639587402,
          3.4603383541107178,
          5.249052047729492,
          3.7052366733551025,
          5.5239458084106445,
          4.924901962280273,
          4.849752902984619,
          4.1395673751831055,
          5.051456928253174,
          3.6963212490081787,
          4.659843444824219,
          3.401369571685791,
          4.9929423332214355,
          3.8514907360076904,
          4.8622212409973145,
          4.125400543212891,
          5.503781318664551,
          5.248727321624756,
          4.594397068023682,
          3.363539695739746,
          5.003182888031006,
          3.583803176879883,
          4.972304344177246,
          3.4459214210510254,
          5.535720348358154,
          4.090174674987793,
          5.028907775878906,
          3.9815070629119873,
          5.1330671310424805,
          3.9337055683135986,
          5.293087005615234,
          3.7277793884277344,
          5.063143730163574,
          3.5962369441986084,
          5.4507880210876465,
          5.001974105834961,
          4.9177470207214355,
          3.8175101280212402,
          5.121729850769043,
          4.012886047363281,
          5.018088340759277,
          3.752744197845459,
          5.470935344696045,
          3.64994740486145,
          5.062958717346191,
          3.5919578075408936,
          4.773055553436279,
          4.30806827545166,
          5.171711444854736,
          3.836249589920044,
          5.100160598754883,
          4.092777729034424,
          5.237051963806152,
          3.7610924243927,
          5.5325026512146,
          3.402484655380249,
          4.5727057456970215,
          3.4990248680114746,
          5.231749534606934,
          3.4800989627838135,
          4.750638008117676,
          3.5774896144866943,
          -4.081076145172119,
          -4.653684139251709,
          -4.148380279541016,
          -4.442127704620361,
          -4.0589985847473145,
          -4.887863636016846,
          -3.6937942504882812,
          -4.288014888763428,
          -4.034128189086914,
          -4.908408164978027,
          -3.768968343734741,
          -4.888534069061279,
          -3.9271841049194336,
          -4.81889533996582,
          -3.970209836959839,
          -4.35178804397583,
          -3.778998851776123,
          -4.571789264678955,
          -3.852978229522705,
          -4.526575088500977,
          -4.035580635070801,
          -4.8742876052856445,
          -3.7410531044006348,
          -4.357217788696289,
          -4.254065990447998,
          -4.811553955078125,
          -3.924044370651245,
          -4.883890628814697,
          -3.710218906402588,
          -3.7351202964782715,
          -4.222498416900635,
          -4.67958402633667,
          -3.573824405670166,
          -4.781261920928955,
          -4.238438606262207,
          -4.378614902496338,
          -4.1655802726745605,
          -4.531560897827148,
          -4.149965286254883,
          -4.8794379234313965,
          -3.9984090328216553,
          -4.790583610534668,
          -3.7156946659088135,
          -4.793552875518799,
          -3.9810574054718018,
          -4.516892433166504,
          -3.7972917556762695,
          -4.271625995635986,
          -3.868955135345459,
          -4.797786712646484,
          -3.6627418994903564,
          -4.788138389587402,
          -3.692918062210083,
          -4.270658016204834,
          -3.804713249206543,
          -4.529250621795654,
          -3.9498775005340576,
          -4.839373588562012,
          -3.900674343109131,
          -4.533924579620361,
          -4.087081432342529,
          -4.746455192565918,
          -3.6833858489990234,
          -4.8458380699157715,
          -3.839874029159546,
          -4.392809867858887,
          -3.9697329998016357,
          -4.796049118041992,
          -4.213625907897949,
          -4.574554443359375,
          -3.7263858318328857,
          -4.84655237197876,
          -3.8772363662719727,
          -4.13192892074585,
          -4.021068572998047,
          -4.836334228515625,
          -4.009659290313721,
          -4.454752445220947,
          -3.9710257053375244,
          -4.288574695587158,
          -4.246128082275391,
          -4.876729488372803,
          -3.837878465652466,
          -4.34010648727417,
          -4.2088303565979,
          -4.865203857421875,
          -3.7166199684143066,
          -4.464226722717285,
          -4.214385509490967,
          -4.616796493530273,
          -3.7492740154266357,
          -4.589980125427246,
          15.403585433959961,
          15.130712509155273,
          15.137674331665039,
          16.3243350982666,
          16.105329513549805,
          16.10042381286621,
          15.743780136108398,
          16.41974639892578,
          16.115474700927734,
          15.114801406860352,
          15.990918159484863,
          15.24721622467041,
          15.633889198303223,
          15.476736068725586,
          16.038347244262695,
          16.516904830932617,
          15.921175956726074,
          12.314537048339844,
          15.201410293579102,
          15.883476257324219,
          15.277947425842285,
          16.281911849975586,
          16.292022705078125,
          15.042810440063477,
          16.14911460876465,
          15.580394744873047,
          16.499380111694336,
          15.099909782409668,
          15.801783561706543,
          16.51177215576172,
          16.45362091064453,
          15.863008499145508,
          16.282007217407227,
          16.054813385009766,
          16.362451553344727,
          15.350431442260742,
          16.488744735717773,
          15.89737606048584,
          16.30694580078125,
          15.192509651184082,
          15.566183090209961,
          15.922566413879395,
          14.93200969696045,
          15.652546882629395,
          16.44984245300293,
          14.898870468139648,
          16.082000732421875,
          15.99847412109375,
          15.495180130004883,
          15.785202026367188,
          16.322742462158203,
          15.947297096252441,
          16.42923927307129,
          15.870415687561035,
          16.395538330078125,
          15.67666244506836,
          15.314469337463379,
          16.023143768310547,
          15.899249076843262,
          16.482027053833008,
          15.389653205871582,
          15.778934478759766,
          16.397323608398438,
          15.569069862365723,
          16.12877655029297,
          15.299180030822754,
          15.701498031616211,
          14.950776100158691,
          15.592883110046387,
          16.05368423461914,
          15.045987129211426,
          16.517986297607422,
          15.606541633605957,
          15.376204490661621,
          16.075855255126953,
          15.584245681762695,
          15.29753303527832,
          16.44646453857422,
          15.316898345947266,
          15.22963809967041,
          16.486835479736328,
          15.229121208190918,
          16.25492286682129,
          15.37435245513916,
          16.41543960571289,
          15.71424388885498,
          15.093473434448242,
          15.758692741394043,
          16.553422927856445,
          15.271267890930176,
          15.823648452758789,
          15.903120994567871,
          16.241846084594727,
          11.980226516723633,
          14.864266395568848,
          11.639307022094727,
          12.75419807434082,
          14.924640655517578,
          12.32486629486084,
          14.885321617126465,
          12.358748435974121,
          14.676005363464355,
          15.012643814086914,
          12.705639839172363,
          14.46782398223877,
          12.19740104675293,
          14.543791770935059,
          12.333843231201172,
          14.671463966369629,
          11.978856086730957,
          14.814349174499512,
          12.579607009887695,
          14.897257804870605,
          12.34252643585205,
          14.653592109680176,
          12.265297889709473,
          14.83009147644043,
          11.952879905700684,
          15.098240852355957,
          12.391170501708984,
          14.776816368103027,
          11.352968215942383,
          15.115195274353027,
          12.188076972961426,
          14.808197975158691,
          12.39280891418457,
          15.311691284179688,
          11.898226737976074,
          14.706073760986328,
          12.320575714111328,
          14.763971328735352,
          12.292771339416504,
          14.904500961303711,
          11.416553497314453,
          14.6774263381958,
          12.500782012939453,
          14.888935089111328,
          11.335562705993652,
          15.233339309692383,
          12.203577041625977,
          14.586456298828125,
          11.32882308959961,
          15.08479118347168,
          12.151965141296387,
          15.01626968383789,
          11.314837455749512,
          14.691880226135254,
          12.444643020629883,
          15.302301406860352,
          11.385886192321777,
          14.726980209350586,
          12.256546974182129,
          14.696553230285645,
          11.318123817443848,
          14.787300109863281,
          12.169893264770508,
          15.100334167480469,
          11.237346649169922,
          14.877424240112305,
          12.304346084594727,
          15.065930366516113,
          11.925190925598145,
          14.880877494812012,
          12.133682250976562,
          15.19449234008789,
          11.320658683776855,
          15.197751998901367,
          12.297050476074219,
          14.928376197814941,
          11.32547378540039,
          14.717111587524414,
          12.334668159484863,
          14.886653900146484,
          11.237869262695312,
          15.010354995727539,
          12.189007759094238,
          15.000797271728516,
          11.35941219329834,
          14.809453010559082,
          12.180869102478027,
          11.372184753417969,
          14.882643699645996,
          12.333301544189453,
          14.821730613708496,
          11.415993690490723,
          14.78964900970459,
          6.1286940574646,
          7.137643814086914,
          6.834691524505615,
          7.135709285736084,
          6.056026935577393,
          7.23950719833374,
          6.55322790145874,
          6.919128894805908,
          6.5716962814331055,
          7.218522071838379,
          5.971257209777832,
          6.665263652801514,
          6.158242702484131,
          7.148333549499512,
          6.762424945831299,
          6.307982444763184,
          6.436052322387695,
          7.168530464172363,
          6.073416233062744,
          6.584515571594238,
          6.117672443389893,
          6.700870513916016,
          6.987215995788574,
          7.416198253631592,
          6.00279426574707,
          7.298659324645996,
          6.8682427406311035,
          7.011788368225098,
          6.067974090576172,
          6.675429821014404,
          6.834794521331787,
          7.277779579162598,
          6.1982808113098145,
          7.334373950958252,
          6.054861068725586,
          6.696576118469238,
          6.908438682556152,
          6.367514610290527,
          5.9871296882629395,
          6.954042911529541,
          6.333338260650635,
          6.488086223602295,
          6.83080530166626,
          7.133636951446533,
          6.150871753692627,
          6.69247579574585,
          6.798250198364258,
          6.665696620941162,
          6.091085910797119,
          7.03051233291626,
          5.989456653594971,
          6.9658355712890625,
          6.721429347991943,
          7.034384250640869,
          6.420864105224609,
          6.633504390716553,
          6.3010969161987305,
          7.356480121612549,
          5.958321571350098,
          6.631008625030518,
          6.655498027801514,
          7.278213977813721,
          6.19470739364624,
          6.670303821563721,
          6.968528747558594,
          7.212096691131592,
          6.060929775238037,
          6.459693908691406,
          6.136755466461182,
          6.741896629333496,
          7.131111145019531,
          6.789018154144287,
          6.107054710388184,
          7.089888095855713,
          6.188492774963379,
          6.992490291595459,
          6.009097099304199,
          6.509313106536865,
          6.631485462188721,
          7.180574893951416,
          6.100909233093262,
          6.933296203613281,
          5.970251560211182,
          6.593673229217529,
          6.404943466186523,
          7.050838947296143,
          6.550127983093262,
          6.845736026763916,
          6.110650062561035,
          7.099032402038574,
          0.8275948166847229,
          1.383555293083191,
          0.7434493899345398,
          0.8997422456741333,
          1.3749850988388062,
          0.6844494938850403,
          1.297658920288086,
          1.0432292222976685,
          1.1500639915466309,
          0.8421363234519958,
          0.7186583280563354,
          -2.86330246925354,
          0.8872837424278259,
          0.6807599067687988,
          0.9999544620513916,
          1.236053228378296,
          0.8486239910125732,
          1.374151349067688,
          1.1449590921401978,
          0.9669907689094543,
          1.2816755771636963,
          0.777275800704956,
          0.9619958400726318,
          1.4296283721923828,
          1.0225480794906616,
          0.6721274852752686,
          0.9843522310256958,
          0.9072047472000122,
          1.3789657354354858,
          0.80219566822052,
          1.490026831626892,
          0.8651923537254333,
          1.2056218385696411,
          1.1879264116287231,
          0.8293581008911133,
          0.9064086675643921,
          0.7910100221633911,
          1.2429267168045044,
          1.0487357378005981,
          0.8980864882469177,
          0.9898144006729126,
          0.7774206399917603,
          1.159636378288269,
          1.371707558631897,
          0.9670141935348511,
          0.7798094749450684,
          0.918881356716156,
          1.3456443548202515,
          0.42594411969184875,
          1.450114369392395,
          1.146985411643982,
          0.9168446660041809,
          1.4208447933197021,
          0.6456512808799744,
          0.8961606621742249,
          0.6763571500778198,
          0.9670644402503967,
          0.7159184217453003,
          1.3825796842575073,
          0.5330595970153809,
          1.0401307344436646,
          0.9058060646057129,
          1.33328115940094,
          0.7871546745300293,
          0.6838299036026001,
          1.2694774866104126,
          3.43033766746521,
          0.9154009819030762,
          1.045587420463562,
          0.4642097055912018,
          1.0784446001052856,
          1.178396224975586,
          1.3849105834960938,
          1.3064582347869873,
          0.7586474418640137,
          0.9185543060302734,
          0.8786810636520386,
          0.33260872960090637,
          3.284815788269043,
          0.8190186619758606,
          -2.6931755542755127,
          1.394691824913025,
          0.830730676651001,
          1.1794666051864624,
          1.2212212085723877,
          0.5827139616012573,
          1.1004077196121216,
          0.7272235155105591,
          -2.9290926456451416,
          1.50459623336792,
          1.1732594966888428,
          0.7073385715484619,
          -2.6864826679229736,
          -3.4460811614990234,
          -3.079190254211426,
          -3.3400261402130127,
          -3.431608200073242,
          -3.003351926803589,
          -3.343740701675415,
          -2.6993002891540527,
          -3.4506211280822754,
          -2.6599037647247314,
          -3.688739061355591,
          -2.6183648109436035,
          -3.2729666233062744,
          -3.4114797115325928,
          -2.560718536376953,
          -3.2863481044769287,
          -3.0543079376220703,
          -3.296666383743286,
          -3.3181562423706055,
          -3.4508402347564697,
          -2.9424288272857666,
          -3.567246675491333,
          -3.0762112140655518,
          -3.3312747478485107,
          -2.6514673233032227,
          -3.1951406002044678,
          -3.2624335289001465,
          -2.820425033569336,
          -3.1069211959838867,
          -2.520294666290283,
          -3.2625982761383057,
          -2.7741618156433105,
          -3.42051100730896,
          -2.493605136871338,
          -3.3644728660583496,
          -2.9457480907440186,
          -3.3550846576690674,
          -3.3207263946533203,
          -2.8967697620391846,
          -3.3714497089385986,
          -3.642815351486206,
          -3.0243465900421143,
          -3.233290910720825,
          -2.871345281600952,
          -3.572657823562622,
          -3.343842029571533,
          -2.6975221633911133,
          -3.360947370529175,
          -2.5420286655426025,
          -3.6108620166778564,
          -3.25008487701416,
          -2.6505401134490967,
          -3.1761844158172607,
          -3.5831892490386963,
          -3.3796603679656982,
          -2.658041000366211,
          -3.3217437267303467,
          -3.630892515182495,
          -3.1747727394104004,
          -3.260378360748291,
          -3.0548079013824463,
          -3.816169261932373,
          -3.4158754348754883,
          -2.509746789932251,
          -3.9713988304138184,
          -3.444207191467285,
          -3.1088099479675293,
          -3.3618505001068115,
          -3.628034830093384,
          -2.9845221042633057,
          -3.085447311401367,
          -3.3363122940063477,
          -3.4305756092071533,
          4.82746696472168,
          -3.687859058380127,
          -3.228060722351074,
          -2.693187713623047,
          -3.752164363861084,
          -2.4944658279418945,
          -2.743605613708496,
          -3.1369004249572754,
          -3.2477025985717773,
          -2.931421995162964,
          -3.4132580757141113,
          -2.790250301361084,
          -3.402156352996826,
          -3.16898250579834,
          -2.528231382369995,
          -2.9070017337799072,
          -2.6013975143432617,
          -3.532642364501953,
          -2.515157461166382,
          -2.9182488918304443
         ],
         "yaxis": "y"
        }
       ],
       "layout": {
        "annotations": [
         {
          "showarrow": false,
          "text": "Cheering crowds, basketball plays, game events",
          "x": -6.3614583015441895,
          "y": 6.641392230987549,
          "yshift": 0
         },
         {
          "showarrow": false,
          "text": "Yoga pose, Physical benefits, Studio",
          "x": 11.788375854492188,
          "y": 11.986640930175781,
          "yshift": 0
         },
         {
          "showarrow": false,
          "text": "Prayer, Meditation, Spirituality",
          "x": 11.976712226867676,
          "y": 15.503621101379395,
          "yshift": 0
         },
         {
          "showarrow": false,
          "text": "Vintage cars, Trucks, Vehicle features",
          "x": -5.796058177947998,
          "y": -2.620692729949951,
          "yshift": 0
         },
         {
          "showarrow": false,
          "text": "Orange, Culinary Uses, Food Preparation",
          "x": 6.363293647766113,
          "y": -3.6963229179382324,
          "yshift": 0
         },
         {
          "showarrow": false,
          "text": "Covered parking, smart home systems, accessibility",
          "x": 1.0617657899856567,
          "y": 1.4941978454589844,
          "yshift": 0
         },
         {
          "showarrow": false,
          "text": "Gardening, Plants, Outdoor Spaces",
          "x": 4.647665023803711,
          "y": 0.9975658655166626,
          "yshift": 0
         },
         {
          "showarrow": false,
          "text": "Duck, Bird, Flight",
          "x": 6.417098522186279,
          "y": 4.440333366394043,
          "yshift": 0
         },
         {
          "showarrow": false,
          "text": "Dogs, Cats, Border Collies",
          "x": 4.618424892425537,
          "y": 7.24934720993042,
          "yshift": 0
         }
        ],
        "coloraxis": {
         "colorbar": {
          "title": {
           "text": "labels"
          }
         },
         "colorscale": [
          [
           0,
           "#ff0000"
          ],
          [
           0.1111111111111111,
           "#ffa700"
          ],
          [
           0.2222222222222222,
           "#afff00"
          ],
          [
           0.3333333333333333,
           "#08ff00"
          ],
          [
           0.4444444444444444,
           "#00ff9f"
          ],
          [
           0.5555555555555556,
           "#00b7ff"
          ],
          [
           0.6666666666666666,
           "#0010ff"
          ],
          [
           0.7777777777777778,
           "#9700ff"
          ],
          [
           0.8888888888888888,
           "#ff00bf"
          ],
          [
           1,
           "#ff0000"
          ]
         ]
        },
        "height": 800,
        "legend": {
         "tracegroupgap": 0
        },
        "margin": {
         "t": 60
        },
        "template": {
         "data": {
          "bar": [
           {
            "error_x": {
             "color": "#f2f5fa"
            },
            "error_y": {
             "color": "#f2f5fa"
            },
            "marker": {
             "line": {
              "color": "rgb(17,17,17)",
              "width": 0.5
             },
             "pattern": {
              "fillmode": "overlay",
              "size": 10,
              "solidity": 0.2
             }
            },
            "type": "bar"
           }
          ],
          "barpolar": [
           {
            "marker": {
             "line": {
              "color": "rgb(17,17,17)",
              "width": 0.5
             },
             "pattern": {
              "fillmode": "overlay",
              "size": 10,
              "solidity": 0.2
             }
            },
            "type": "barpolar"
           }
          ],
          "carpet": [
           {
            "aaxis": {
             "endlinecolor": "#A2B1C6",
             "gridcolor": "#506784",
             "linecolor": "#506784",
             "minorgridcolor": "#506784",
             "startlinecolor": "#A2B1C6"
            },
            "baxis": {
             "endlinecolor": "#A2B1C6",
             "gridcolor": "#506784",
             "linecolor": "#506784",
             "minorgridcolor": "#506784",
             "startlinecolor": "#A2B1C6"
            },
            "type": "carpet"
           }
          ],
          "choropleth": [
           {
            "colorbar": {
             "outlinewidth": 0,
             "ticks": ""
            },
            "type": "choropleth"
           }
          ],
          "contour": [
           {
            "colorbar": {
             "outlinewidth": 0,
             "ticks": ""
            },
            "colorscale": [
             [
              0,
              "#0d0887"
             ],
             [
              0.1111111111111111,
              "#46039f"
             ],
             [
              0.2222222222222222,
              "#7201a8"
             ],
             [
              0.3333333333333333,
              "#9c179e"
             ],
             [
              0.4444444444444444,
              "#bd3786"
             ],
             [
              0.5555555555555556,
              "#d8576b"
             ],
             [
              0.6666666666666666,
              "#ed7953"
             ],
             [
              0.7777777777777778,
              "#fb9f3a"
             ],
             [
              0.8888888888888888,
              "#fdca26"
             ],
             [
              1,
              "#f0f921"
             ]
            ],
            "type": "contour"
           }
          ],
          "contourcarpet": [
           {
            "colorbar": {
             "outlinewidth": 0,
             "ticks": ""
            },
            "type": "contourcarpet"
           }
          ],
          "heatmap": [
           {
            "colorbar": {
             "outlinewidth": 0,
             "ticks": ""
            },
            "colorscale": [
             [
              0,
              "#0d0887"
             ],
             [
              0.1111111111111111,
              "#46039f"
             ],
             [
              0.2222222222222222,
              "#7201a8"
             ],
             [
              0.3333333333333333,
              "#9c179e"
             ],
             [
              0.4444444444444444,
              "#bd3786"
             ],
             [
              0.5555555555555556,
              "#d8576b"
             ],
             [
              0.6666666666666666,
              "#ed7953"
             ],
             [
              0.7777777777777778,
              "#fb9f3a"
             ],
             [
              0.8888888888888888,
              "#fdca26"
             ],
             [
              1,
              "#f0f921"
             ]
            ],
            "type": "heatmap"
           }
          ],
          "heatmapgl": [
           {
            "colorbar": {
             "outlinewidth": 0,
             "ticks": ""
            },
            "colorscale": [
             [
              0,
              "#0d0887"
             ],
             [
              0.1111111111111111,
              "#46039f"
             ],
             [
              0.2222222222222222,
              "#7201a8"
             ],
             [
              0.3333333333333333,
              "#9c179e"
             ],
             [
              0.4444444444444444,
              "#bd3786"
             ],
             [
              0.5555555555555556,
              "#d8576b"
             ],
             [
              0.6666666666666666,
              "#ed7953"
             ],
             [
              0.7777777777777778,
              "#fb9f3a"
             ],
             [
              0.8888888888888888,
              "#fdca26"
             ],
             [
              1,
              "#f0f921"
             ]
            ],
            "type": "heatmapgl"
           }
          ],
          "histogram": [
           {
            "marker": {
             "pattern": {
              "fillmode": "overlay",
              "size": 10,
              "solidity": 0.2
             }
            },
            "type": "histogram"
           }
          ],
          "histogram2d": [
           {
            "colorbar": {
             "outlinewidth": 0,
             "ticks": ""
            },
            "colorscale": [
             [
              0,
              "#0d0887"
             ],
             [
              0.1111111111111111,
              "#46039f"
             ],
             [
              0.2222222222222222,
              "#7201a8"
             ],
             [
              0.3333333333333333,
              "#9c179e"
             ],
             [
              0.4444444444444444,
              "#bd3786"
             ],
             [
              0.5555555555555556,
              "#d8576b"
             ],
             [
              0.6666666666666666,
              "#ed7953"
             ],
             [
              0.7777777777777778,
              "#fb9f3a"
             ],
             [
              0.8888888888888888,
              "#fdca26"
             ],
             [
              1,
              "#f0f921"
             ]
            ],
            "type": "histogram2d"
           }
          ],
          "histogram2dcontour": [
           {
            "colorbar": {
             "outlinewidth": 0,
             "ticks": ""
            },
            "colorscale": [
             [
              0,
              "#0d0887"
             ],
             [
              0.1111111111111111,
              "#46039f"
             ],
             [
              0.2222222222222222,
              "#7201a8"
             ],
             [
              0.3333333333333333,
              "#9c179e"
             ],
             [
              0.4444444444444444,
              "#bd3786"
             ],
             [
              0.5555555555555556,
              "#d8576b"
             ],
             [
              0.6666666666666666,
              "#ed7953"
             ],
             [
              0.7777777777777778,
              "#fb9f3a"
             ],
             [
              0.8888888888888888,
              "#fdca26"
             ],
             [
              1,
              "#f0f921"
             ]
            ],
            "type": "histogram2dcontour"
           }
          ],
          "mesh3d": [
           {
            "colorbar": {
             "outlinewidth": 0,
             "ticks": ""
            },
            "type": "mesh3d"
           }
          ],
          "parcoords": [
           {
            "line": {
             "colorbar": {
              "outlinewidth": 0,
              "ticks": ""
             }
            },
            "type": "parcoords"
           }
          ],
          "pie": [
           {
            "automargin": true,
            "type": "pie"
           }
          ],
          "scatter": [
           {
            "marker": {
             "line": {
              "color": "#283442"
             }
            },
            "type": "scatter"
           }
          ],
          "scatter3d": [
           {
            "line": {
             "colorbar": {
              "outlinewidth": 0,
              "ticks": ""
             }
            },
            "marker": {
             "colorbar": {
              "outlinewidth": 0,
              "ticks": ""
             }
            },
            "type": "scatter3d"
           }
          ],
          "scattercarpet": [
           {
            "marker": {
             "colorbar": {
              "outlinewidth": 0,
              "ticks": ""
             }
            },
            "type": "scattercarpet"
           }
          ],
          "scattergeo": [
           {
            "marker": {
             "colorbar": {
              "outlinewidth": 0,
              "ticks": ""
             }
            },
            "type": "scattergeo"
           }
          ],
          "scattergl": [
           {
            "marker": {
             "line": {
              "color": "#283442"
             }
            },
            "type": "scattergl"
           }
          ],
          "scattermapbox": [
           {
            "marker": {
             "colorbar": {
              "outlinewidth": 0,
              "ticks": ""
             }
            },
            "type": "scattermapbox"
           }
          ],
          "scatterpolar": [
           {
            "marker": {
             "colorbar": {
              "outlinewidth": 0,
              "ticks": ""
             }
            },
            "type": "scatterpolar"
           }
          ],
          "scatterpolargl": [
           {
            "marker": {
             "colorbar": {
              "outlinewidth": 0,
              "ticks": ""
             }
            },
            "type": "scatterpolargl"
           }
          ],
          "scatterternary": [
           {
            "marker": {
             "colorbar": {
              "outlinewidth": 0,
              "ticks": ""
             }
            },
            "type": "scatterternary"
           }
          ],
          "surface": [
           {
            "colorbar": {
             "outlinewidth": 0,
             "ticks": ""
            },
            "colorscale": [
             [
              0,
              "#0d0887"
             ],
             [
              0.1111111111111111,
              "#46039f"
             ],
             [
              0.2222222222222222,
              "#7201a8"
             ],
             [
              0.3333333333333333,
              "#9c179e"
             ],
             [
              0.4444444444444444,
              "#bd3786"
             ],
             [
              0.5555555555555556,
              "#d8576b"
             ],
             [
              0.6666666666666666,
              "#ed7953"
             ],
             [
              0.7777777777777778,
              "#fb9f3a"
             ],
             [
              0.8888888888888888,
              "#fdca26"
             ],
             [
              1,
              "#f0f921"
             ]
            ],
            "type": "surface"
           }
          ],
          "table": [
           {
            "cells": {
             "fill": {
              "color": "#506784"
             },
             "line": {
              "color": "rgb(17,17,17)"
             }
            },
            "header": {
             "fill": {
              "color": "#2a3f5f"
             },
             "line": {
              "color": "rgb(17,17,17)"
             }
            },
            "type": "table"
           }
          ]
         },
         "layout": {
          "annotationdefaults": {
           "arrowcolor": "#f2f5fa",
           "arrowhead": 0,
           "arrowwidth": 1
          },
          "autotypenumbers": "strict",
          "coloraxis": {
           "colorbar": {
            "outlinewidth": 0,
            "ticks": ""
           }
          },
          "colorscale": {
           "diverging": [
            [
             0,
             "#8e0152"
            ],
            [
             0.1,
             "#c51b7d"
            ],
            [
             0.2,
             "#de77ae"
            ],
            [
             0.3,
             "#f1b6da"
            ],
            [
             0.4,
             "#fde0ef"
            ],
            [
             0.5,
             "#f7f7f7"
            ],
            [
             0.6,
             "#e6f5d0"
            ],
            [
             0.7,
             "#b8e186"
            ],
            [
             0.8,
             "#7fbc41"
            ],
            [
             0.9,
             "#4d9221"
            ],
            [
             1,
             "#276419"
            ]
           ],
           "sequential": [
            [
             0,
             "#0d0887"
            ],
            [
             0.1111111111111111,
             "#46039f"
            ],
            [
             0.2222222222222222,
             "#7201a8"
            ],
            [
             0.3333333333333333,
             "#9c179e"
            ],
            [
             0.4444444444444444,
             "#bd3786"
            ],
            [
             0.5555555555555556,
             "#d8576b"
            ],
            [
             0.6666666666666666,
             "#ed7953"
            ],
            [
             0.7777777777777778,
             "#fb9f3a"
            ],
            [
             0.8888888888888888,
             "#fdca26"
            ],
            [
             1,
             "#f0f921"
            ]
           ],
           "sequentialminus": [
            [
             0,
             "#0d0887"
            ],
            [
             0.1111111111111111,
             "#46039f"
            ],
            [
             0.2222222222222222,
             "#7201a8"
            ],
            [
             0.3333333333333333,
             "#9c179e"
            ],
            [
             0.4444444444444444,
             "#bd3786"
            ],
            [
             0.5555555555555556,
             "#d8576b"
            ],
            [
             0.6666666666666666,
             "#ed7953"
            ],
            [
             0.7777777777777778,
             "#fb9f3a"
            ],
            [
             0.8888888888888888,
             "#fdca26"
            ],
            [
             1,
             "#f0f921"
            ]
           ]
          },
          "colorway": [
           "#636efa",
           "#EF553B",
           "#00cc96",
           "#ab63fa",
           "#FFA15A",
           "#19d3f3",
           "#FF6692",
           "#B6E880",
           "#FF97FF",
           "#FECB52"
          ],
          "font": {
           "color": "#f2f5fa"
          },
          "geo": {
           "bgcolor": "rgb(17,17,17)",
           "lakecolor": "rgb(17,17,17)",
           "landcolor": "rgb(17,17,17)",
           "showlakes": true,
           "showland": true,
           "subunitcolor": "#506784"
          },
          "hoverlabel": {
           "align": "left"
          },
          "hovermode": "closest",
          "mapbox": {
           "style": "dark"
          },
          "paper_bgcolor": "rgb(17,17,17)",
          "plot_bgcolor": "rgb(17,17,17)",
          "polar": {
           "angularaxis": {
            "gridcolor": "#506784",
            "linecolor": "#506784",
            "ticks": ""
           },
           "bgcolor": "rgb(17,17,17)",
           "radialaxis": {
            "gridcolor": "#506784",
            "linecolor": "#506784",
            "ticks": ""
           }
          },
          "scene": {
           "xaxis": {
            "backgroundcolor": "rgb(17,17,17)",
            "gridcolor": "#506784",
            "gridwidth": 2,
            "linecolor": "#506784",
            "showbackground": true,
            "ticks": "",
            "zerolinecolor": "#C8D4E3"
           },
           "yaxis": {
            "backgroundcolor": "rgb(17,17,17)",
            "gridcolor": "#506784",
            "gridwidth": 2,
            "linecolor": "#506784",
            "showbackground": true,
            "ticks": "",
            "zerolinecolor": "#C8D4E3"
           },
           "zaxis": {
            "backgroundcolor": "rgb(17,17,17)",
            "gridcolor": "#506784",
            "gridwidth": 2,
            "linecolor": "#506784",
            "showbackground": true,
            "ticks": "",
            "zerolinecolor": "#C8D4E3"
           }
          },
          "shapedefaults": {
           "line": {
            "color": "#f2f5fa"
           }
          },
          "sliderdefaults": {
           "bgcolor": "#C8D4E3",
           "bordercolor": "rgb(17,17,17)",
           "borderwidth": 1,
           "tickwidth": 0
          },
          "ternary": {
           "aaxis": {
            "gridcolor": "#506784",
            "linecolor": "#506784",
            "ticks": ""
           },
           "baxis": {
            "gridcolor": "#506784",
            "linecolor": "#506784",
            "ticks": ""
           },
           "bgcolor": "rgb(17,17,17)",
           "caxis": {
            "gridcolor": "#506784",
            "linecolor": "#506784",
            "ticks": ""
           }
          },
          "title": {
           "x": 0.05
          },
          "updatemenudefaults": {
           "bgcolor": "#506784",
           "borderwidth": 0
          },
          "xaxis": {
           "automargin": true,
           "gridcolor": "#283442",
           "linecolor": "#506784",
           "ticks": "",
           "title": {
            "standoff": 15
           },
           "zerolinecolor": "#283442",
           "zerolinewidth": 2
          },
          "yaxis": {
           "automargin": true,
           "gridcolor": "#283442",
           "linecolor": "#506784",
           "ticks": "",
           "title": {
            "standoff": 15
           },
           "zerolinecolor": "#283442",
           "zerolinewidth": 2
          }
         }
        },
        "width": 1600,
        "xaxis": {
         "anchor": "y",
         "domain": [
          0,
          1
         ],
         "title": {
          "text": "X"
         }
        },
        "yaxis": {
         "anchor": "x",
         "domain": [
          0,
          1
         ],
         "title": {
          "text": "Y"
         }
        }
       }
      }
     },
     "metadata": {},
     "output_type": "display_data"
    }
   ],
   "source": [
    "from easy_text_clustering.clusterer import ClusterClassifier\n",
    "from datasets import load_dataset\n",
    "\n",
    "SAMPLE = 100_000 # select the number of samples from the data that you'd like to use\n",
    "\n",
    "texts = load_dataset(\"billingsmoore/text-clustering-example-data\", split='train')[\"text\"]\n",
    "\n",
    "cc = ClusterClassifier()\n",
    "\n",
    "# Perform optimization and fitting\n",
    "cc.optimize_fit(texts=texts)\n",
    "\n",
    "cc.show(interactive=True)"
   ]
  },
  {
   "cell_type": "code",
   "execution_count": null,
   "metadata": {},
   "outputs": [],
   "source": []
  }
 ],
 "metadata": {
  "kernelspec": {
   "display_name": ".venv",
   "language": "python",
   "name": "python3"
  },
  "language_info": {
   "codemirror_mode": {
    "name": "ipython",
    "version": 3
   },
   "file_extension": ".py",
   "mimetype": "text/x-python",
   "name": "python",
   "nbconvert_exporter": "python",
   "pygments_lexer": "ipython3",
   "version": "3.10.15"
  }
 },
 "nbformat": 4,
 "nbformat_minor": 2
}
