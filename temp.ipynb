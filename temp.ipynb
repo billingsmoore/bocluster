{
 "cells": [
  {
   "cell_type": "code",
   "execution_count": 1,
   "metadata": {},
   "outputs": [
    {
     "name": "stdout",
     "output_type": "stream",
     "text": [
      "Embedding texts...\n"
     ]
    },
    {
     "name": "stderr",
     "output_type": "stream",
     "text": [
      "/home/j/Documents/easy-text-clustering/.venv/lib/python3.10/site-packages/torch/cuda/__init__.py:129: UserWarning: CUDA initialization: CUDA unknown error - this may be due to an incorrectly set up environment, e.g. changing env variable CUDA_VISIBLE_DEVICES after program start. Setting the available devices to be zero. (Triggered internally at ../c10/cuda/CUDAFunctions.cpp:108.)\n",
      "  return torch._C._cuda_getDeviceCount() > 0\n"
     ]
    },
    {
     "data": {
      "application/vnd.jupyter.widget-view+json": {
       "model_id": "1f4eba796fd54ed4847169e1ae99105f",
       "version_major": 2,
       "version_minor": 0
      },
      "text/plain": [
       "Batches:   0%|          | 0/15 [00:00<?, ?it/s]"
      ]
     },
     "metadata": {},
     "output_type": "display_data"
    },
    {
     "name": "stderr",
     "output_type": "stream",
     "text": [
      "[I 2024-12-07 16:32:38,561] A new study created in memory with name: no-name-988e188a-1f2d-4ba1-a4b4-c0941885b0a1\n",
      "[I 2024-12-07 16:32:48,071] Trial 0 finished with value: 0.4462474037077495 and parameters: {'umap_n_neighbors': 30, 'umap_min_dist': 0.19701540362768843, 'hdbscan_min_cluster_size': 83, 'cluster_selection_epsilon': 0.5090798581583299}. Best is trial 0 with value: 0.4462474037077495.\n",
      "[I 2024-12-07 16:32:52,130] Trial 1 finished with value: -0.51195737505708 and parameters: {'umap_n_neighbors': 18, 'umap_min_dist': 0.8521378325351832, 'hdbscan_min_cluster_size': 17, 'cluster_selection_epsilon': 0.6764011288135415}. Best is trial 0 with value: 0.4462474037077495.\n",
      "[I 2024-12-07 16:32:56,169] Trial 2 finished with value: -3.7653358050401495 and parameters: {'umap_n_neighbors': 28, 'umap_min_dist': 0.4223093878862221, 'hdbscan_min_cluster_size': 83, 'cluster_selection_epsilon': 0.24512424924578813}. Best is trial 0 with value: 0.4462474037077495.\n",
      "[I 2024-12-07 16:33:00,482] Trial 3 finished with value: 10.690278437603611 and parameters: {'umap_n_neighbors': 23, 'umap_min_dist': 0.026914866712877794, 'hdbscan_min_cluster_size': 54, 'cluster_selection_epsilon': 0.4022714440949139}. Best is trial 3 with value: 10.690278437603611.\n",
      "[I 2024-12-07 16:33:04,744] Trial 4 finished with value: -3.9191831623564544 and parameters: {'umap_n_neighbors': 38, 'umap_min_dist': 0.6500841417377774, 'hdbscan_min_cluster_size': 77, 'cluster_selection_epsilon': 0.2216654219844082}. Best is trial 3 with value: 10.690278437603611.\n"
     ]
    }
   ],
   "source": [
    "from datasets import load_dataset\n",
    "from src.easy_text_clustering.optimizer import Optimizer\n",
    "\n",
    "texts = load_dataset('billingsmoore/text-clustering-example-data', split=\"train\")['text']\n",
    "\n",
    "opt = Optimizer(min_clusters=10, max_clusters=13)\n",
    "\n",
    "umap_args, hdbscan_args = opt.fit(texts, 5)"
   ]
  },
  {
   "cell_type": "code",
   "execution_count": 2,
   "metadata": {},
   "outputs": [
    {
     "name": "stderr",
     "output_type": "stream",
     "text": [
      "INFO:sentence_transformers.SentenceTransformer:Load pretrained SentenceTransformer: all-MiniLM-L6-v2\n"
     ]
    },
    {
     "data": {
      "application/vnd.jupyter.widget-view+json": {
       "model_id": "832faf7859824c54a8ef040d331c4c5e",
       "version_major": 2,
       "version_minor": 0
      },
      "text/plain": [
       "Batches:   0%|          | 0/15 [00:00<?, ?it/s]"
      ]
     },
     "metadata": {},
     "output_type": "display_data"
    },
    {
     "name": "stderr",
     "output_type": "stream",
     "text": [
      "[I 2024-12-07 16:33:40,401] A new study created in memory with name: no-name-fc1aaec9-a9e4-42f7-aaba-128443b4693e\n",
      "[I 2024-12-07 16:33:45,252] Trial 0 finished with value: -1.0 and parameters: {'umap_n_neighbors': 46, 'umap_min_dist': 0.859908306793914, 'umap_metric': 'cosine', 'hdbscan_min_cluster_size': 100, 'hdbscan_metric': 'euclidean', 'cluster_selection_epsilon': 0.3568754513410779}. Best is trial 0 with value: -1.0.\n"
     ]
    },
    {
     "name": "stdout",
     "output_type": "stream",
     "text": [
      "Number of labels is 1. Valid values are 2 to n_samples - 1 (inclusive)\n"
     ]
    },
    {
     "name": "stderr",
     "output_type": "stream",
     "text": [
      "[I 2024-12-07 16:33:49,901] Trial 1 finished with value: 3.1022086950165484 and parameters: {'umap_n_neighbors': 19, 'umap_min_dist': 0.6238624940030958, 'umap_metric': 'euclidean', 'hdbscan_min_cluster_size': 80, 'hdbscan_metric': 'cosine', 'cluster_selection_epsilon': 0.05938622869921373}. Best is trial 1 with value: 3.1022086950165484.\n",
      "[I 2024-12-07 16:33:54,824] Trial 2 finished with value: 3.118818600398594 and parameters: {'umap_n_neighbors': 18, 'umap_min_dist': 0.16293510615330575, 'umap_metric': 'cosine', 'hdbscan_min_cluster_size': 42, 'hdbscan_metric': 'cosine', 'cluster_selection_epsilon': 0.5477396990947737}. Best is trial 2 with value: 3.118818600398594.\n",
      "[I 2024-12-07 16:33:59,506] Trial 3 finished with value: 2.6410101440180784 and parameters: {'umap_n_neighbors': 20, 'umap_min_dist': 0.6373312023338146, 'umap_metric': 'cosine', 'hdbscan_min_cluster_size': 51, 'hdbscan_metric': 'cosine', 'cluster_selection_epsilon': 0.5692635839539792}. Best is trial 2 with value: 3.118818600398594.\n",
      "[I 2024-12-07 16:34:05,501] Trial 4 finished with value: 3.050027441003145 and parameters: {'umap_n_neighbors': 27, 'umap_min_dist': 0.9459601045726453, 'umap_metric': 'euclidean', 'hdbscan_min_cluster_size': 44, 'hdbscan_metric': 'cosine', 'cluster_selection_epsilon': 0.7419896738564153}. Best is trial 2 with value: 3.118818600398594.\n",
      "[I 2024-12-07 16:34:09,554] Trial 5 finished with value: 4.0427959316454265 and parameters: {'umap_n_neighbors': 28, 'umap_min_dist': 0.40257220773319546, 'umap_metric': 'euclidean', 'hdbscan_min_cluster_size': 57, 'hdbscan_metric': 'euclidean', 'cluster_selection_epsilon': 0.1620508160707006}. Best is trial 5 with value: 4.0427959316454265.\n",
      "[I 2024-12-07 16:34:14,290] Trial 6 finished with value: 11.305505300894126 and parameters: {'umap_n_neighbors': 35, 'umap_min_dist': 0.2060825189844656, 'umap_metric': 'euclidean', 'hdbscan_min_cluster_size': 14, 'hdbscan_metric': 'euclidean', 'cluster_selection_epsilon': 0.48640279142923615}. Best is trial 6 with value: 11.305505300894126.\n",
      "[I 2024-12-07 16:34:19,441] Trial 7 finished with value: 2.5758412128426946 and parameters: {'umap_n_neighbors': 41, 'umap_min_dist': 0.8527548233314277, 'umap_metric': 'cosine', 'hdbscan_min_cluster_size': 36, 'hdbscan_metric': 'cosine', 'cluster_selection_epsilon': 0.8356366137380086}. Best is trial 6 with value: 11.305505300894126.\n",
      "[I 2024-12-07 16:34:25,552] Trial 8 finished with value: 4.600702666964711 and parameters: {'umap_n_neighbors': 7, 'umap_min_dist': 0.030944772518155306, 'umap_metric': 'cosine', 'hdbscan_min_cluster_size': 100, 'hdbscan_metric': 'euclidean', 'cluster_selection_epsilon': 0.8770473259195424}. Best is trial 6 with value: 11.305505300894126.\n",
      "[I 2024-12-07 16:34:31,026] Trial 9 finished with value: 3.136762131364824 and parameters: {'umap_n_neighbors': 40, 'umap_min_dist': 0.8868869184935625, 'umap_metric': 'euclidean', 'hdbscan_min_cluster_size': 37, 'hdbscan_metric': 'cosine', 'cluster_selection_epsilon': 0.05636532085549251}. Best is trial 6 with value: 11.305505300894126.\n",
      "[I 2024-12-07 16:34:35,398] Trial 10 finished with value: 6.208049832725126 and parameters: {'umap_n_neighbors': 33, 'umap_min_dist': 0.3207341884242336, 'umap_metric': 'euclidean', 'hdbscan_min_cluster_size': 7, 'hdbscan_metric': 'euclidean', 'cluster_selection_epsilon': 0.33895905736859294}. Best is trial 6 with value: 11.305505300894126.\n",
      "[I 2024-12-07 16:34:40,036] Trial 11 finished with value: 7.47022092987158 and parameters: {'umap_n_neighbors': 33, 'umap_min_dist': 0.27690022801967873, 'umap_metric': 'euclidean', 'hdbscan_min_cluster_size': 8, 'hdbscan_metric': 'euclidean', 'cluster_selection_epsilon': 0.3687147530076831}. Best is trial 6 with value: 11.305505300894126.\n",
      "[I 2024-12-07 16:34:43,998] Trial 12 finished with value: 8.391937884530138 and parameters: {'umap_n_neighbors': 36, 'umap_min_dist': 0.21927223009454982, 'umap_metric': 'euclidean', 'hdbscan_min_cluster_size': 12, 'hdbscan_metric': 'euclidean', 'cluster_selection_epsilon': 0.34147447613745413}. Best is trial 6 with value: 11.305505300894126.\n",
      "[I 2024-12-07 16:34:48,609] Trial 13 finished with value: 13.606573451732352 and parameters: {'umap_n_neighbors': 49, 'umap_min_dist': 0.02904485802490292, 'umap_metric': 'euclidean', 'hdbscan_min_cluster_size': 19, 'hdbscan_metric': 'euclidean', 'cluster_selection_epsilon': 0.6361204843696245}. Best is trial 13 with value: 13.606573451732352.\n",
      "[I 2024-12-07 16:34:53,038] Trial 14 finished with value: 18.551116538050557 and parameters: {'umap_n_neighbors': 50, 'umap_min_dist': 0.005649677941005911, 'umap_metric': 'euclidean', 'hdbscan_min_cluster_size': 25, 'hdbscan_metric': 'euclidean', 'cluster_selection_epsilon': 0.6562171136392276}. Best is trial 14 with value: 18.551116538050557.\n",
      "[I 2024-12-07 16:34:57,184] Trial 15 finished with value: 12.95932756719645 and parameters: {'umap_n_neighbors': 50, 'umap_min_dist': 0.02071169507278805, 'umap_metric': 'euclidean', 'hdbscan_min_cluster_size': 23, 'hdbscan_metric': 'euclidean', 'cluster_selection_epsilon': 0.689020435727508}. Best is trial 14 with value: 18.551116538050557.\n",
      "[I 2024-12-07 16:35:01,710] Trial 16 finished with value: 10.854795717807294 and parameters: {'umap_n_neighbors': 49, 'umap_min_dist': 0.1043567481905599, 'umap_metric': 'euclidean', 'hdbscan_min_cluster_size': 25, 'hdbscan_metric': 'euclidean', 'cluster_selection_epsilon': 0.9666818126685838}. Best is trial 14 with value: 18.551116538050557.\n",
      "[I 2024-12-07 16:35:06,153] Trial 17 finished with value: 3.395989882471025 and parameters: {'umap_n_neighbors': 44, 'umap_min_dist': 0.477147986576437, 'umap_metric': 'euclidean', 'hdbscan_min_cluster_size': 68, 'hdbscan_metric': 'euclidean', 'cluster_selection_epsilon': 0.670749811828699}. Best is trial 14 with value: 18.551116538050557.\n",
      "[I 2024-12-07 16:35:10,401] Trial 18 finished with value: 6.826268289740353 and parameters: {'umap_n_neighbors': 5, 'umap_min_dist': 0.11385277092347867, 'umap_metric': 'euclidean', 'hdbscan_min_cluster_size': 26, 'hdbscan_metric': 'euclidean', 'cluster_selection_epsilon': 0.7891390285420576}. Best is trial 14 with value: 18.551116538050557.\n",
      "[I 2024-12-07 16:35:14,388] Trial 19 finished with value: 24.085452283320144 and parameters: {'umap_n_neighbors': 43, 'umap_min_dist': 0.002852540386566349, 'umap_metric': 'euclidean', 'hdbscan_min_cluster_size': 20, 'hdbscan_metric': 'euclidean', 'cluster_selection_epsilon': 0.6169791958949156}. Best is trial 19 with value: 24.085452283320144.\n",
      "INFO:root:Using precomputed embeddings...\n",
      "INFO:root:Building FAISS index...\n",
      "INFO:root:Projecting with umap...\n",
      "INFO:root:Clustering...\n",
      "INFO:root:Summarizing cluster centers...\n"
     ]
    },
    {
     "name": "stdout",
     "output_type": "stream",
     "text": [
      "Using HDBSCAN params={'min_cluster_size': 20, 'metric': 'euclidean', 'cluster_selection_epsilon': 0.6169791958949156}\n",
      "Request:\n",
      "<s>[INST]Example 1:\n",
      "The wide receiver’s toe-tap catch near the sideline was a thing of beauty.\n",
      "\n",
      "Example 2:\n",
      "The referee threw a penalty flag for a foul on the field.\n",
      "\n",
      "Example 3:\n",
      "The football team celebrated their victory with the traditional Gatorade shower.\n",
      "\n",
      "Example 4:\n",
      "The kicker practiced long field goals during pregame warmups.\n",
      "\n",
      "Example 5:\n",
      "The defensive end forced a fumble that changed the momentum of the game.\n",
      "\n",
      "Example 6:\n",
      "The defensive back made a diving interception to save a touchdown.\n",
      "\n",
      "Example 7:\n",
      "Football games often feature strategic play-calling to exploit weaknesses.\n",
      "\n",
      "Example 8:\n",
      "The halftime show at the football game included a marching band performance.\n",
      "\n",
      "Example 9:\n",
      "The football game was a defensive battle, with neither team scoring much.\n",
      "\n",
      "Example 10:\n",
      "The tight end caught a short pass and powered through for a first down.\n",
      "\n",
      "Use three words total (comma separated)to describe general topics in above texts. Under no circumstances use enumeration. Example format: Tree, Cat, Fireman[/INST]\n",
      "Number of clusters is 11\n"
     ]
    }
   ],
   "source": [
    "from src.easy_text_clustering.clusterer import ClusterClassifier\n",
    "\n",
    "cc = ClusterClassifier()\n",
    "\n",
    "cc.optimize_fit(texts, optimization_trials=5)"
   ]
  },
  {
   "cell_type": "code",
   "execution_count": 4,
   "metadata": {},
   "outputs": [
    {
     "data": {
      "application/vnd.plotly.v1+json": {
       "config": {
        "plotlyServerURL": "https://plot.ly"
       },
       "data": [
        {
         "customdata": [
          [
           "The pickup truck was loaded with heavy construction materials."
          ],
          [
           "The sports car accelerated down the highway at an incredible\nspeed."
          ],
          [
           "Trucks are commonly used to transport goods across long\ndistances."
          ],
          [
           "The electric car is becoming more popular due to its eco-\nfriendliness."
          ],
          [
           "SUVs are great for families who need extra space for passengers\nand cargo."
          ],
          [
           "The semi-truck carried a full load of fresh produce to the city\nmarket."
          ],
          [
           "The convertible's roof folded down as the driver enjoyed the\nsunny day."
          ],
          [
           "Diesel trucks are known for their power and durability."
          ],
          [
           "The compact car is perfect for navigating busy urban streets."
          ],
          [
           "The tow truck arrived to assist with the broken-down vehicle."
          ],
          [
           "Hybrid cars combine a gasoline engine with an electric motor for\nefficiency."
          ],
          [
           "Monster trucks are a popular attraction at motorsport events."
          ],
          [
           "The truck driver stopped at a rest area to take a break."
          ],
          [
           "A new sedan model was launched with advanced safety features."
          ],
          [
           "Pickup trucks often come with four-wheel drive for off-road\ncapability."
          ],
          [
           "Electric trucks are starting to compete with traditional diesel\nmodels."
          ],
          [
           "Luxury cars are equipped with premium materials and cutting-edge\ntechnology."
          ],
          [
           "The delivery truck brought a shipment of electronics to the\nstore."
          ],
          [
           "Muscle cars are known for their powerful engines and classic\ndesigns."
          ],
          [
           "Fire trucks are equipped with hoses, ladders, and rescue tools."
          ],
          [
           "The compact SUV offers great fuel economy and a comfortable\nride."
          ],
          [
           "Refrigerated trucks are essential for transporting perishable\ngoods."
          ],
          [
           "The race car zoomed past the finish line, claiming victory."
          ],
          [
           "Box trucks are commonly used for moving furniture and other\nlarge items."
          ],
          [
           "The sports utility truck is a blend of a pickup and an SUV."
          ],
          [
           "The minivan offers plenty of seating for large families."
          ],
          [
           "Flatbed trucks are ideal for hauling oversized loads."
          ],
          [
           "The concept car at the auto show showcased futuristic\ntechnology."
          ],
          [
           "Dump trucks are essential for construction and roadwork\nprojects."
          ],
          [
           "The police car chased the speeding vehicle through the city\nstreets."
          ],
          [
           "Self-driving trucks are being tested on highways for automated\ndelivery."
          ],
          [
           "The hatchback is a practical choice for small families."
          ],
          [
           "The heavy-duty truck was used to tow a stranded RV."
          ],
          [
           "Fuel-efficient cars are increasingly in demand as gas prices\nrise."
          ],
          [
           "Box trucks are often rented by individuals moving to a new home."
          ],
          [
           "The luxury SUV combines off-road capability with upscale\nfeatures."
          ],
          [
           "Off-road trucks are equipped with rugged tires and suspension\nsystems."
          ],
          [
           "The electric truck has a range of 300 miles on a full charge."
          ],
          [
           "The sports car featured a sleek, aerodynamic design."
          ],
          [
           "The 18-wheeler transported goods to warehouses across the\ncountry."
          ],
          [
           "Compact cars are easier to park in crowded urban areas."
          ],
          [
           "The fire truck sped to the scene of the emergency with sirens\nblaring."
          ],
          [
           "A classic car show displayed vintage vehicles from the 1960s."
          ],
          [
           "Delivery trucks are critical for e-commerce businesses."
          ],
          [
           "The hybrid SUV offers an excellent balance between power and\nefficiency."
          ],
          [
           "Semi-trucks require special licenses to operate due to their\nsize."
          ],
          [
           "The coupe is a stylish two-door car often preferred by young\ndrivers."
          ],
          [
           "Garbage trucks collect and transport waste to landfills or\nrecycling centers."
          ],
          [
           "The sports car's engine roared as it sped along the race track."
          ],
          [
           "Luxury sedans are known for their smooth ride and quiet cabins."
          ],
          [
           "Tank trucks are used to transport liquids like fuel and\nchemicals."
          ],
          [
           "The roadster is a fun, open-top car ideal for summer drives."
          ],
          [
           "Tow trucks play a vital role in removing disabled vehicles from\nroads."
          ],
          [
           "Cargo trucks are essential for international trade and\nlogistics."
          ],
          [
           "Police SUVs are increasingly used for their versatility and\nstorage capacity."
          ],
          [
           "Electric vehicles are revolutionizing the automotive industry."
          ],
          [
           "The supercar set a new record for the fastest lap time."
          ],
          [
           "Heavy-duty trucks are designed to handle the toughest jobs."
          ],
          [
           "Vintage cars often attract collectors and enthusiasts."
          ],
          [
           "Many modern cars come equipped with advanced driver-assistance\nsystems."
          ],
          [
           "The dump truck unloaded a pile of gravel at the construction\nsite."
          ],
          [
           "Trucks with all-wheel drive can handle snow and ice with ease."
          ],
          [
           "The classic pickup truck is a symbol of rugged reliability."
          ],
          [
           "The electric sports car combines speed with sustainability."
          ],
          [
           "Fleet trucks are used by companies for large-scale operations."
          ],
          [
           "The convertible offers a unique open-air driving experience."
          ],
          [
           "A new law requires stricter emissions standards for diesel\ntrucks."
          ],
          [
           "Car dealerships often have a wide selection of sedans and\ntrucks."
          ],
          [
           "Truck drivers are essential for maintaining supply chains."
          ],
          [
           "The crossover combines the benefits of a car and an SUV."
          ],
          [
           "Custom trucks often feature unique paint jobs and accessories."
          ],
          [
           "The smart car is designed for efficiency and city driving."
          ],
          [
           "Long-haul trucks are equipped with sleeping cabins for drivers."
          ],
          [
           "The classic muscle car is a favorite among collectors."
          ],
          [
           "Pickup trucks are frequently used for camping trips and outdoor\nadventures."
          ],
          [
           "Luxury electric cars are gaining popularity among\nenvironmentally conscious buyers."
          ],
          [
           "Many trucks now feature advanced navigation and telematics\nsystems."
          ],
          [
           "The hatchback's rear seats fold down to create more cargo space."
          ],
          [
           "Large SUVs are popular among drivers who tow boats or trailers."
          ],
          [
           "Classic trucks are often restored and showcased at auto shows."
          ],
          [
           "Emergency vehicles like fire trucks require quick access to\nwater supplies."
          ],
          [
           "Electric vans are being adopted for urban delivery routes."
          ],
          [
           "The luxury coupe offered a smooth and powerful driving\nexperience."
          ],
          [
           "Modern trucks often have turbocharged engines for better\nperformance."
          ],
          [
           "The autonomous car navigated city streets without any human\nintervention."
          ],
          [
           "Motorcycle enthusiasts often admire the design of custom trucks."
          ],
          [
           "The station wagon offers the practicality of a minivan in a\nsmaller package."
          ],
          [
           "The electric semi-truck is expected to lower operating costs for\nlogistics companies."
          ],
          [
           "The compact car's affordability makes it an excellent choice for\nstudents."
          ],
          [
           "Pickup trucks are a staple in rural areas for their utility and\ndurability."
          ],
          [
           "Race trucks are modified for speed and performance on dirt\ntracks."
          ],
          [
           "Vintage fire trucks are often displayed in parades and museums."
          ],
          [
           "The hybrid car seamlessly switches between gas and electric\npower."
          ],
          [
           "Many cars now feature touchscreen infotainment systems."
          ],
          [
           "The heavy-duty tow truck could handle the largest vehicles."
          ],
          [
           "Automotive enthusiasts often modify cars to improve performance."
          ],
          [
           "The refrigerated truck kept the food cold during transport."
          ],
          [
           "Truck stops provide rest and amenities for long-haul drivers."
          ],
          [
           "The cat curled up on the windowsill to enjoy the sunlight."
          ],
          [
           "Dogs are known for their loyalty and companionship."
          ],
          [
           "The kitten chased a ball of yarn across the floor."
          ],
          [
           "Golden Retrievers are one of the most popular dog breeds in the\nworld."
          ],
          [
           "The stray cat was rescued and given a warm home."
          ],
          [
           "Small dog breeds like Chihuahuas are perfect for apartment\nliving."
          ],
          [
           "The cat stretched lazily and yawned before falling asleep again."
          ],
          [
           "The dog wagged its tail excitedly when its owner came home."
          ],
          [
           "Siamese cats are known for their vocal and affectionate nature."
          ],
          [
           "German Shepherds are often used as police and service dogs."
          ],
          [
           "The puppy chewed on a new toy to relieve its teething\ndiscomfort."
          ],
          [
           "The cat's fur was soft and silky after being brushed."
          ],
          [
           "Labrador Retrievers are great with children and make excellent\nfamily pets."
          ],
          [
           "The black cat darted across the street and disappeared into an\nalley."
          ],
          [
           "The dog's bark alerted the family to a visitor at the door."
          ],
          [
           "Persian cats have long, luxurious fur and calm personalities."
          ],
          [
           "Huskies are known for their stunning blue eyes and high energy."
          ],
          [
           "The kitten climbed onto the couch and nestled into a cozy\nblanket."
          ],
          [
           "The dog chased its tail in playful circles."
          ],
          [
           "The calico cat's colorful coat made it stand out in the\nneighborhood."
          ],
          [
           "Border Collies are highly intelligent and excel at herding\nsheep."
          ],
          [
           "The tabby cat watched birds outside the window with keen\ninterest."
          ],
          [
           "The dog fetched the stick and returned it to its owner."
          ],
          [
           "Ragdoll cats are known for their relaxed and affectionate\ndemeanor."
          ],
          [
           "Beagles are often used as scent detection dogs due to their keen\nsense of smell."
          ],
          [
           "The kitten purred loudly as it was stroked under its chin."
          ],
          [
           "The dog slept soundly after a long day at the park."
          ],
          [
           "The ginger cat leapt gracefully onto the fence."
          ],
          [
           "Bulldogs are known for their stocky build and gentle\ntemperament."
          ],
          [
           "The stray dog found shelter in an animal rescue center."
          ],
          [
           "The cat's eyes gleamed in the darkness as it prowled the house\nat night."
          ],
          [
           "The dog's floppy ears bounced as it ran through the field."
          ],
          [
           "The Maine Coon is one of the largest domesticated cat breeds."
          ],
          [
           "Poodles are intelligent dogs that come in standard, miniature,\nand toy sizes."
          ],
          [
           "The playful kitten batted at a feather dangling from a string."
          ],
          [
           "The dog eagerly waited for its owner to throw the frisbee."
          ],
          [
           "Sphynx cats are unique for their lack of fur and need for\nwarmth."
          ],
          [
           "The Dalmatian's spotted coat is instantly recognizable."
          ],
          [
           "The cat balanced on the edge of the bookshelf with perfect\npoise."
          ],
          [
           "The dog whined softly, asking for a treat."
          ],
          [
           "The Bengal cat's coat resembled that of a wild leopard."
          ],
          [
           "Corgis are famous for their short legs and adorable\npersonalities."
          ],
          [
           "The kitten pounced on a toy mouse with uncontainable energy."
          ],
          [
           "The dog's nose twitched as it sniffed the fresh scent of grass."
          ],
          [
           "The Himalayan cat is a mix between Persian and Siamese breeds."
          ],
          [
           "The puppy's tail wagged furiously when it saw its favorite toy."
          ],
          [
           "The tuxedo cat's black-and-white coat made it look like it was\nwearing a suit."
          ],
          [
           "The Labrador helped its owner carry groceries into the house."
          ],
          [
           "The kitten hid under the bed during a thunderstorm."
          ],
          [
           "The dog splashed in the pond, chasing after a floating stick."
          ],
          [
           "The Russian Blue cat is known for its silvery coat and emerald-\ngreen eyes."
          ],
          [
           "The dog's loud bark scared away the intruder."
          ],
          [
           "The kitten explored every nook and cranny of its new home."
          ],
          [
           "The Saint Bernard is a gentle giant often associated with alpine\nrescues."
          ],
          [
           "The fluffy Persian cat lounged on a velvet cushion."
          ],
          [
           "The Border Collie guided the flock of sheep with remarkable\nprecision."
          ],
          [
           "The Siamese cat meowed insistently, demanding attention."
          ],
          [
           "The Dalmatian wagged its tail as children petted it at the park."
          ],
          [
           "The kitten's tiny claws got caught in the fabric of the\ncurtains."
          ],
          [
           "The dog rolled over, begging for a belly rub."
          ],
          [
           "The Abyssinian cat's short coat gleamed in the sunlight."
          ],
          [
           "The dog's eyes lit up at the sight of its leash, ready for a\nwalk."
          ],
          [
           "The tabby cat purred contentedly as it lay on its owner's lap."
          ],
          [
           "The Doberman stood alert, guarding the house."
          ],
          [
           "The playful puppy chased after butterflies in the garden."
          ],
          [
           "The Scottish Fold cat's folded ears gave it an adorable\nexpression."
          ],
          [
           "The dog dug a hole in the backyard to bury its bone."
          ],
          [
           "The kitten's playful antics brought laughter to the whole\nfamily."
          ],
          [
           "The Shih Tzu's long hair was tied up in a neat topknot."
          ],
          [
           "The alley cat scavenged for scraps behind the restaurant."
          ],
          [
           "The Great Dane towered over the smaller breeds at the dog park."
          ],
          [
           "The cat's sharp claws made quick work of the scratching post."
          ],
          [
           "The Jack Russell Terrier leapt high into the air to catch a\nball."
          ],
          [
           "The kitten's wide eyes sparkled as it discovered a new toy."
          ],
          [
           "The Golden Retriever swam across the lake with ease."
          ],
          [
           "The Burmese cat followed its owner from room to room."
          ],
          [
           "The pug snored loudly while napping on the couch."
          ],
          [
           "The fluffy kitten climbed the curtains, leaving tiny claw marks."
          ],
          [
           "The energetic puppy loved playing tug-of-war with a rope toy."
          ],
          [
           "The Norwegian Forest Cat's thick fur kept it warm in the winter."
          ],
          [
           "The puppy barked joyfully as it splashed through puddles."
          ],
          [
           "The kitten nibbled on a corner of its owner's book."
          ],
          [
           "The Akita Inu is a loyal and protective dog breed from Japan."
          ],
          [
           "The cat rubbed against its owner's legs, asking for food."
          ],
          [
           "The playful dachshund burrowed under a blanket."
          ],
          [
           "The Burmese cat's large, expressive eyes captivated everyone."
          ],
          [
           "The dog eagerly wagged its tail at the sound of the doorbell."
          ],
          [
           "The kitten tumbled over itself while learning to walk."
          ],
          [
           "The German Shepherd stood proudly during obedience training."
          ],
          [
           "The tabby cat watched fish swimming in the aquarium with\nfascination."
          ],
          [
           "The Border Terrier dug energetically in the garden."
          ],
          [
           "The Persian cat's long fur needed daily grooming."
          ],
          [
           "The dog barked happily as it ran along the beach."
          ],
          [
           "The condo overlooks the city skyline, offering a stunning view."
          ],
          [
           "The house has a spacious backyard perfect for hosting barbecues."
          ],
          [
           "Living in a condo often includes access to amenities like pools\nand gyms."
          ],
          [
           "The family moved into a charming two-story house in the suburbs."
          ],
          [
           "The modern condo features sleek designs and floor-to-ceiling\nwindows."
          ],
          [
           "The house was built with a wraparound porch, ideal for relaxing\nevenings."
          ],
          [
           "Condos are popular in urban areas for their convenience and\nlocation."
          ],
          [
           "The house came with a detached garage and a long driveway."
          ],
          [
           "The high-rise condo offers a breathtaking view of the ocean."
          ],
          [
           "The house was painted a cheerful yellow with white trim."
          ],
          [
           "Condo living often involves a homeowners' association and\nmonthly fees."
          ],
          [
           "The bungalow-style house had a cozy and welcoming feel."
          ],
          [
           "The downtown condo is close to restaurants, shops, and\nentertainment venues."
          ],
          [
           "The Victorian house features intricate woodwork and stained\nglass windows."
          ],
          [
           "The condo's rooftop terrace is perfect for evening gatherings."
          ],
          [
           "The ranch-style house has all its rooms on one level for easy\naccessibility."
          ],
          [
           "The condo's open floor plan makes the space feel larger than it\nis."
          ],
          [
           "The house has a fireplace in the living room, adding warmth and\ncharm."
          ],
          [
           "Many condos are designed with energy efficiency in mind."
          ],
          [
           "The house sits on a large lot with plenty of space for a garden."
          ],
          [
           "The condo complex has a secure entry and 24-hour surveillance."
          ],
          [
           "The colonial-style house boasts tall columns and a grand\nentrance."
          ],
          [
           "The condo's balcony is the perfect spot for enjoying morning\ncoffee."
          ],
          [
           "The house includes a finished basement that can serve as a\nrecreation room."
          ],
          [
           "Many condos come fully furnished for buyers' convenience."
          ],
          [
           "The house's attic was converted into a cozy home office."
          ],
          [
           "The luxury condo has a concierge service and private parking."
          ],
          [
           "The house is surrounded by mature trees, providing plenty of\nshade."
          ],
          [
           "The condo features granite countertops and stainless steel\nappliances."
          ],
          [
           "The house's front yard is beautifully landscaped with seasonal\nflowers."
          ],
          [
           "The condo building has a fitness center and a sauna for\nresidents."
          ],
          [
           "The house has a formal dining room with a crystal chandelier."
          ],
          [
           "Studio condos are ideal for singles or young professionals."
          ],
          [
           "The house's open-concept kitchen connects seamlessly to the\nliving area."
          ],
          [
           "The condo offers a maintenance-free lifestyle, appealing to\nretirees."
          ],
          [
           "The house is located in a quiet neighborhood with tree-lined\nstreets."
          ],
          [
           "The penthouse condo comes with a private elevator and panoramic\nviews."
          ],
          [
           "The house includes a mudroom, perfect for storing coats and\nshoes."
          ],
          [
           "The condo has large windows that let in plenty of natural light."
          ],
          [
           "The house's backyard has a swing set and a small vegetable\ngarden."
          ],
          [
           "Condos are often equipped with modern security systems."
          ],
          [
           "The house's front porch is the perfect place to enjoy a sunset."
          ],
          [
           "Some condos have shared laundry facilities, while others have\nin-unit washers and dryers."
          ],
          [
           "The house has a rustic charm with its exposed wooden beams."
          ],
          [
           "The condo's location near public transportation makes commuting\neasy."
          ],
          [
           "The house features a spacious master suite with a walk-in\ncloset."
          ],
          [
           "Condos in downtown areas often come with spectacular city views."
          ],
          [
           "The house has a screened-in porch, ideal for enjoying summer\nevenings."
          ],
          [
           "Condo owners typically have less responsibility for exterior\nmaintenance."
          ],
          [
           "The house's large windows frame picturesque views of the\nmountains."
          ],
          [
           "The condo community organizes social events for residents."
          ],
          [
           "The house includes a guest bedroom with its own private\nbathroom."
          ],
          [
           "The condo's pool area is a popular spot during the summer\nmonths."
          ],
          [
           "The house's kitchen was recently remodeled with custom\ncabinetry."
          ],
          [
           "Some condos allow short-term rentals, making them a great\ninvestment option."
          ],
          [
           "The house has a charming picket fence and a stone pathway\nleading to the door."
          ],
          [
           "Luxury condos often include private rooftop pools and\nentertainment areas."
          ],
          [
           "The house features a sunroom with large glass panels for year-\nround enjoyment."
          ],
          [
           "The condo's HOA fees cover water, electricity, and common area\nmaintenance."
          ],
          [
           "The house has a home theater system installed in the basement."
          ],
          [
           "The condo's central location makes it easy to access the city's\nattractions."
          ],
          [
           "The house's large deck overlooks a serene wooded area."
          ],
          [
           "Many condos include covered parking or underground garages."
          ],
          [
           "The house was designed with energy-efficient windows and\ninsulation."
          ],
          [
           "Condo residents often share amenities like tennis courts and\nbarbecue areas."
          ],
          [
           "The house has a historic charm, complete with original hardwood\nfloors."
          ],
          [
           "The condo is pet-friendly, with a designated dog park on the\nproperty."
          ],
          [
           "The house's kitchen has a large island, perfect for meal prep\nand entertaining."
          ],
          [
           "The condo's shared rooftop garden is a unique feature for urban\ndwellers."
          ],
          [
           "The house's driveway is long enough to accommodate multiple\nvehicles."
          ],
          [
           "Some condos come with built-in smart home systems for added\nconvenience."
          ],
          [
           "The house has a large pantry for storing kitchen essentials."
          ],
          [
           "The condo's sleek design includes minimalist decor and modern\nlighting."
          ],
          [
           "The house's backyard is fully fenced, making it safe for pets."
          ],
          [
           "Condo fees often include snow removal and landscaping services."
          ],
          [
           "The house has a walk-out basement that opens to a patio."
          ],
          [
           "The condo has a communal lounge that residents can reserve for\nprivate events."
          ],
          [
           "The house's fireplace is the focal point of the cozy living\nroom."
          ],
          [
           "Condos near the waterfront are highly sought after for their\nscenic views."
          ],
          [
           "The house features a large bay window that fills the room with\nsunlight."
          ],
          [
           "The condo's high ceilings give the space an airy and open feel."
          ],
          [
           "The house has an attached two-car garage with extra storage\nspace."
          ],
          [
           "The condo's kitchen is equipped with top-of-the-line appliances."
          ],
          [
           "The house was recently upgraded with solar panels for energy\nefficiency."
          ],
          [
           "Condos often appeal to busy professionals due to their low-\nmaintenance lifestyle."
          ],
          [
           "The house's formal entryway opens into a grand staircase."
          ],
          [
           "The condo complex offers a private theater room for residents."
          ],
          [
           "The house has a fenced backyard with a pergola and outdoor\nseating."
          ],
          [
           "The condo's shared courtyard is beautifully landscaped with\nfountains."
          ],
          [
           "The house is situated near a top-rated school, making it ideal\nfor families."
          ],
          [
           "The condo offers breathtaking sunset views from its west-facing\nbalcony."
          ],
          [
           "The mallard duck swam gracefully across the calm pond."
          ],
          [
           "Songbirds filled the morning air with their cheerful melodies."
          ],
          [
           "The mother duck led her ducklings in a perfect single file."
          ],
          [
           "The robin perched on a branch, singing its familiar tune."
          ],
          [
           "Ducks are often seen dabbling in shallow water for food."
          ],
          [
           "Songbirds like finches and sparrows are common visitors to\nbackyard feeders."
          ],
          [
           "The wood duck’s colorful plumage is strikingly beautiful."
          ],
          [
           "The warbler’s rapid trills echoed through the forest canopy."
          ],
          [
           "The duck flapped its wings and took off from the water’s\nsurface."
          ],
          [
           "A flock of songbirds darted playfully through the garden."
          ],
          [
           "The duck quacked loudly, signaling to its nearby companions."
          ],
          [
           "The cardinal’s bright red feathers stood out against the green\nleaves."
          ],
          [
           "The duck paddled near the reeds, searching for aquatic plants."
          ],
          [
           "A blue jay swooped down to snatch a peanut from the feeder."
          ],
          [
           "The mallards rested on the riverbank, preening their feathers."
          ],
          [
           "The nightingale’s song was enchanting under the moonlight."
          ],
          [
           "Ducks often migrate in V-shaped formations during the winter."
          ],
          [
           "The sparrow hopped along the ground, searching for crumbs."
          ],
          [
           "The wood duck nested in a hollow tree near the water’s edge."
          ],
          [
           "The blackbird’s song signaled the start of a new day."
          ],
          [
           "The ducklings followed their mother into the cool shade of the\nreeds."
          ],
          [
           "The goldfinch nibbled on thistle seeds at the edge of the\nmeadow."
          ],
          [
           "The male duck displayed vibrant green head feathers during\nmating season."
          ],
          [
           "The lark soared high, filling the sky with its cascading notes."
          ],
          [
           "The duck waddled across the park, amusing nearby children."
          ],
          [
           "The wren’s energetic song filled the hedgerow with life."
          ],
          [
           "The duck dove underwater to catch a small fish."
          ],
          [
           "The oriole built a hanging nest from thin strands of grass."
          ],
          [
           "Ducks are known for their waterproof feathers and webbed feet."
          ],
          [
           "The canary’s sweet song brightened the atmosphere of the living\nroom."
          ],
          [
           "The mother duck protected her young from a curious predator."
          ],
          [
           "The chickadee flitted from branch to branch, chirping softly."
          ],
          [
           "The mallard pair gracefully glided across the pond’s surface."
          ],
          [
           "The swallow performed acrobatic maneuvers to catch flying\ninsects."
          ],
          [
           "The wood duck perched on a fallen log near the riverbank."
          ],
          [
           "The robin searched for worms in the freshly tilled soil."
          ],
          [
           "The ducklings huddled together to stay warm on a chilly evening."
          ],
          [
           "The mockingbird imitated the calls of several other birds in the\narea."
          ],
          [
           "The teal duck’s iridescent feathers shimmered in the sunlight."
          ],
          [
           "The meadowlark’s melodic song drifted across the open field."
          ],
          [
           "The duck’s webbed feet propelled it quickly through the water."
          ],
          [
           "The nuthatch clung to the bark of a tree, foraging for insects."
          ],
          [
           "The mandarin duck is one of the most exotic-looking waterfowl."
          ],
          [
           "The starling gathered twigs to build a nest in a tree cavity."
          ],
          [
           "The mallard’s distinctive green head gleamed in the afternoon\nsun."
          ],
          [
           "The kingfisher darted into the stream, catching a small fish."
          ],
          [
           "The ducklings’ soft downy feathers were a pale yellow color."
          ],
          [
           "The song thrush repeated its sweet, fluting phrases from a high\nperch."
          ],
          [
           "A pair of ducks rested near the pond, basking in the sun."
          ],
          [
           "The finch’s lively chirping created a delightful background\ntune."
          ],
          [
           "The wood duck carefully observed its surroundings for any\nthreats."
          ],
          [
           "The skylark’s song spiraled upward as it ascended into the sky."
          ],
          [
           "The mallard flock gathered at the lake during the cooler months."
          ],
          [
           "The robin built its nest in the fork of a sturdy tree."
          ],
          [
           "The duck waddled through the tall grass, searching for a safe\nplace to rest."
          ],
          [
           "The bluebird’s vibrant plumage mirrored the bright sky above."
          ],
          [
           "The ducklings splashed playfully in the shallow water near the\nshore."
          ],
          [
           "The cardinal’s call echoed across the quiet woodland."
          ],
          [
           "The mother duck guarded her eggs carefully until they hatched."
          ],
          [
           "The sparrow chirped cheerfully from the edge of the roof."
          ],
          [
           "The duck dipped its head underwater, emerging with a small\ninsect."
          ],
          [
           "The hummingbird hovered near the flowers, sipping nectar with\nits long beak."
          ],
          [
           "The mallard’s tail feathers wagged as it paddled away."
          ],
          [
           "The swallow’s long, forked tail helped it maneuver with agility."
          ],
          [
           "The wood duck pair nested in a secluded area by the stream."
          ],
          [
           "The blackbird fluffed its feathers while perched on a telephone\nwire."
          ],
          [
           "The duck glided across the pond, leaving a gentle ripple in its\nwake."
          ],
          [
           "The robin’s orange breast made it easy to spot among the trees."
          ],
          [
           "The duck quacked softly as it nibbled on the floating\nvegetation."
          ],
          [
           "The finch hopped energetically between branches, foraging for\nseeds."
          ],
          [
           "The mallard ducklings learned to swim shortly after hatching."
          ],
          [
           "The goldfinch perched delicately on a sunflower, pecking at the\nseeds."
          ],
          [
           "The duck rested on the grassy bank, basking in the warmth of the\nsun."
          ],
          [
           "The songbird’s intricate notes carried over the morning dew."
          ],
          [
           "The duck’s brown feathers helped it blend into the marshy\nsurroundings."
          ],
          [
           "The wren darted into a birdhouse tucked under the eaves."
          ],
          [
           "The duck family waddled through the park, delighting passersby."
          ],
          [
           "The mockingbird perched boldly, mimicking the calls of other\nbirds."
          ],
          [
           "The teal duck’s small size made it one of the more agile\nswimmers."
          ],
          [
           "The robin’s nest was carefully constructed with twigs and soft\nmoss."
          ],
          [
           "The ducklings followed their mother’s every move, staying close\nfor protection."
          ],
          [
           "The sparrow flitted from the ground to the feeder in quick\nbursts."
          ],
          [
           "The mallard pair stayed together through the mating season."
          ],
          [
           "The lark’s clear song rang out from the meadow’s tall grasses."
          ],
          [
           "The duck’s bright orange bill stood out against its brown\nfeathers."
          ],
          [
           "The chickadee’s quick movements made it a joy to watch in the\ngarden."
          ],
          [
           "The mother duck sheltered her ducklings under her wings as night\nfell."
          ],
          [
           "The robin’s cheery song heralded the arrival of spring."
          ],
          [
           "The wood duck carefully climbed into its nest high in a tree."
          ],
          [
           "The songbird’s early morning call was a welcome sound to the\nsleepy neighborhood."
          ],
          [
           "The crisp apple snapped satisfyingly with each bite."
          ],
          [
           "The orange was juicy and sweet, perfect for a summer day."
          ],
          [
           "Apples come in a variety of colors, including red, green, and\nyellow."
          ],
          [
           "Oranges are an excellent source of vitamin C."
          ],
          [
           "The apple orchard was filled with rows of trees heavy with\nfruit."
          ],
          [
           "The orange groves stretched for miles under the warm sun."
          ],
          [
           "A freshly baked apple pie filled the kitchen with a delicious\naroma."
          ],
          [
           "Freshly squeezed orange juice is a breakfast favorite."
          ],
          [
           "The apple tree in the backyard provides shade and fruit every\nfall."
          ],
          [
           "The orange's bright peel stood out against the green foliage."
          ],
          [
           "Granny Smith apples are known for their tart flavor."
          ],
          [
           "The navel orange is seedless and easy to peel."
          ],
          [
           "The kids picked apples during their visit to the farm."
          ],
          [
           "The orange blossoms filled the air with a fragrant scent."
          ],
          [
           "Dried apple slices make a healthy and portable snack."
          ],
          [
           "Orange zest is often used to add flavor to baked goods."
          ],
          [
           "The apple cider was warm and spiced perfectly for the chilly\nevening."
          ],
          [
           "A bowl of oranges added a pop of color to the kitchen table."
          ],
          [
           "The apple's natural sweetness made it a great addition to the\nsalad."
          ],
          [
           "Oranges are often used in refreshing summer beverages."
          ],
          [
           "The farmer harvested bushels of apples to sell at the market."
          ],
          [
           "The orange tree was covered in small, round fruits ready to\nripen."
          ],
          [
           "Apple butter spread on toast is a cozy morning treat."
          ],
          [
           "Slices of orange garnished the fancy dessert plates."
          ],
          [
           "The apple peel curled as it was removed in one long strip."
          ],
          [
           "The orange's segments separated cleanly with little effort."
          ],
          [
           "Apple picking is a popular autumn activity for families."
          ],
          [
           "The orange's thick skin protected the fruit inside from damage."
          ],
          [
           "Caramel apples are a classic treat at fall festivals."
          ],
          [
           "Orange marmalade pairs wonderfully with buttery croissants."
          ],
          [
           "The apple was so shiny it reflected the sunlight."
          ],
          [
           "The juice from the orange dripped down her hand as she ate it."
          ],
          [
           "The apple's crisp texture made it perfect for baking into pies."
          ],
          [
           "Oranges thrive in warm, tropical climates."
          ],
          [
           "The teacher placed a shiny red apple on her desk."
          ],
          [
           "Orange slices were served as a refreshing snack during halftime."
          ],
          [
           "The apple's core was filled with tiny brown seeds."
          ],
          [
           "The orange's juice was squeezed into a glass and enjoyed\nimmediately."
          ],
          [
           "Apple trees blossom with pink and white flowers in the spring."
          ],
          [
           "Orange trees are evergreen, providing year-round beauty."
          ],
          [
           "Apple slices were arranged neatly on the fruit platter."
          ],
          [
           "The smell of oranges always reminds me of winter holidays."
          ],
          [
           "The apple's tart flavor balanced the sweetness of the caramel\nsauce."
          ],
          [
           "The orange was peeled and sectioned into bite-sized pieces."
          ],
          [
           "A basket of fresh apples was placed on the porch for guests."
          ],
          [
           "The orange's rind was grated into a fragrant zest for the\nrecipe."
          ],
          [
           "Applesauce is a versatile ingredient in both sweet and savory\ndishes."
          ],
          [
           "Orange juice is a popular base for tropical cocktails."
          ],
          [
           "The apple orchard offered hayrides and hot cider for visitors."
          ],
          [
           "The orange grove was buzzing with the sound of bees among the\nblossoms."
          ],
          [
           "Baking apples release a delicious aroma that fills the house."
          ],
          [
           "Oranges are often given as gifts during the Lunar New Year."
          ],
          [
           "The apple's natural sugars caramelized beautifully when baked."
          ],
          [
           "A squeeze of orange juice brightened up the salad dressing."
          ],
          [
           "The kids enjoyed bobbing for apples at the fall festival."
          ],
          [
           "The orange's bright color made it a cheerful addition to the\nfruit bowl."
          ],
          [
           "A variety of apples were displayed at the farmers' market."
          ],
          [
           "The orange's segments popped out cleanly with a gentle pull."
          ],
          [
           "Apple slices dipped in peanut butter make a quick and healthy\nsnack."
          ],
          [
           "The orange's juice was tart and refreshing on a hot day."
          ],
          [
           "The old apple tree in the yard still produced fruit every year."
          ],
          [
           "Orange peels were dried and used to make potpourri."
          ],
          [
           "The apple pie was served with a scoop of vanilla ice cream."
          ],
          [
           "The orange's fragrance lingered on her hands after peeling it."
          ],
          [
           "Cider donuts were made fresh from the apples picked that\nmorning."
          ],
          [
           "Orange-flavored chocolate bars are a unique and delicious treat."
          ],
          [
           "Apple chips were packed into lunchboxes for a crunchy snack."
          ],
          [
           "The orange's thick rind was perfect for making candied peels."
          ],
          [
           "The apple's smooth skin glowed under the sunlight."
          ],
          [
           "The orange's juicy flesh was bursting with flavor."
          ],
          [
           "The apple tart was a hit at the dinner party."
          ],
          [
           "Oranges were stacked high in a pyramid at the grocery store."
          ],
          [
           "The apple's sweetness made it ideal for snacking."
          ],
          [
           "The orange's tangy flavor paired well with the spicy dish."
          ],
          [
           "Apples can be stored for months in a cool, dry place."
          ],
          [
           "Orange trees often produce fruit in clusters for easy\nharvesting."
          ],
          [
           "The apple variety was known for its firm and crisp texture."
          ],
          [
           "The orange juice was freshly squeezed and served with breakfast."
          ],
          [
           "The apple orchard was a popular spot for weekend outings."
          ],
          [
           "Oranges were used to make a vibrant and zesty salad dressing."
          ],
          [
           "The apple was a deep, rich red that looked almost unreal."
          ],
          [
           "The orange grove was a peaceful place to walk during sunset."
          ],
          [
           "The apple's tartness complemented the sweetness of the other\nfruits in the salad."
          ],
          [
           "The orange's juice was used to marinate the chicken."
          ],
          [
           "The apple tree's branches were heavy with ripe fruit."
          ],
          [
           "The orange's peel was thick and slightly rough to the touch."
          ],
          [
           "The apple festival featured everything from cider to caramel\napples."
          ],
          [
           "Orange sorbet was a refreshing end to the meal."
          ],
          [
           "The apple core was tossed to the compost pile."
          ],
          [
           "The orange's pulp was strained out to make clear juice."
          ],
          [
           "The apple cider donuts were a fall favorite."
          ],
          [
           "Orange slices added a pop of color to the holiday table."
          ],
          [
           "Prayer is a common practice in many religions around the world."
          ],
          [
           "Meditation helps deepen one's sense of spirituality and inner\npeace."
          ],
          [
           "The church bells rang out, calling the congregation to worship."
          ],
          [
           "Many people turn to spiritual practices to find meaning in life."
          ],
          [
           "The sacred texts of various religions contain teachings and\nwisdom."
          ],
          [
           "A pilgrimage to a holy site is a spiritual journey for many\nbelievers."
          ],
          [
           "The temple was adorned with intricate carvings and symbols of\nfaith."
          ],
          [
           "Spirituality often involves a personal connection to the divine."
          ],
          [
           "Religious festivals are celebrated with joy and devotion across\ncultures."
          ],
          [
           "The monk sat in quiet contemplation in the serene monastery\ngarden."
          ],
          [
           "The Bible is a central text in Christianity, guiding the faith\nof millions."
          ],
          [
           "Chanting is a spiritual practice in many traditions, including\nBuddhism."
          ],
          [
           "Many religions teach the importance of compassion and kindness."
          ],
          [
           "A sacred space can be a temple, mosque, church, or even a quiet\ncorner."
          ],
          [
           "Pilgrims walked for miles to reach the holy shrine in the\nmountains."
          ],
          [
           "Spiritual awakening is often described as a profound inner\ntransformation."
          ],
          [
           "The Quran is revered as the holy book of Islam."
          ],
          [
           "Yoga combines physical postures with spiritual mindfulness and\nbreathing."
          ],
          [
           "The synagogue was filled with the sounds of prayer and song."
          ],
          [
           "Many spiritual paths emphasize the importance of gratitude and\nhumility."
          ],
          [
           "The priest led the congregation in a solemn prayer of\nthanksgiving."
          ],
          [
           "Nature often inspires feelings of spirituality and awe in many\npeople."
          ],
          [
           "The Bhagavad Gita is a spiritual guide for millions of Hindus."
          ],
          [
           "Meditative silence can bring clarity and a sense of connection\nto the divine."
          ],
          [
           "Religious rituals often mark important life events such as birth\nand marriage."
          ],
          [
           "The candlelight illuminated the sacred symbols on the altar."
          ],
          [
           "Many people seek spiritual guidance through mentorship or\nteachings."
          ],
          [
           "The teachings of Buddha emphasize mindfulness and liberation\nfrom suffering."
          ],
          [
           "The mosque was beautifully decorated for the holy month of\nRamadan."
          ],
          [
           "Spiritual growth often involves self-reflection and personal\ntransformation."
          ],
          [
           "The guru shared wisdom with disciples who gathered in the\nashram."
          ],
          [
           "The cross is a central symbol of Christianity and its teachings\nof salvation."
          ],
          [
           "Some find spirituality in the rhythms of the ocean or the\nvastness of the stars."
          ],
          [
           "The Vedas are ancient scriptures that form the foundation of\nHinduism."
          ],
          [
           "Many spiritual traditions include fasting as a way to purify the\nsoul."
          ],
          [
           "The rabbi delivered an inspiring sermon during the Sabbath\nservice."
          ],
          [
           "Some describe spirituality as a journey inward to discover one’s\ntrue self."
          ],
          [
           "The mandala is a spiritual symbol representing the universe in\nmany cultures."
          ],
          [
           "Many spiritual practices emphasize the interconnectedness of all\nlife."
          ],
          [
           "The choir sang hymns that lifted the spirits of the\ncongregation."
          ],
          [
           "Spiritual retreats offer a chance to step away from daily life\nand reflect."
          ],
          [
           "The Ten Commandments are a moral guide in Judaism and\nChristianity."
          ],
          [
           "The sound of the gong signaled the beginning of the meditation\nsession."
          ],
          [
           "Religious icons and statues are often used in devotion and\nprayer."
          ],
          [
           "The teachings of Rumi inspire people seeking spiritual insight\nthrough poetry."
          ],
          [
           "The incense filled the room with a calming and sacred fragrance."
          ],
          [
           "Many spiritual paths encourage acts of service as a form of\nworship."
          ],
          [
           "The sacred river is a place of purification for millions of\ndevotees."
          ],
          [
           "The rosary beads were used in prayer, one bead for each\ndevotion."
          ],
          [
           "The Dalai Lama is a global spiritual leader and advocate for\npeace."
          ],
          [
           "Spirituality can be found in the stillness of the heart and\nmind."
          ],
          [
           "The Torah is central to Jewish religious practice and study."
          ],
          [
           "Spiritual seekers often explore different traditions to find\ntheir path."
          ],
          [
           "The holy relic was housed in an ornate shrine for pilgrims to\nview."
          ],
          [
           "Many spiritual teachings stress the importance of living in the\npresent moment."
          ],
          [
           "The cathedral's stained glass windows depicted scenes from\nreligious stories."
          ],
          [
           "The chanting of mantras is a key practice in many spiritual\ntraditions."
          ],
          [
           "The holy mountain is considered sacred and attracts pilgrims\nfrom far and wide."
          ],
          [
           "The teachings of Jesus emphasize love, forgiveness, and\nhumility."
          ],
          [
           "The spiritual mentor guided students in their quest for\nenlightenment."
          ],
          [
           "The zen garden was designed for contemplation and spiritual\nbalance."
          ],
          [
           "The Star of David is an important symbol in Jewish spirituality."
          ],
          [
           "Many people find spiritual meaning through art, music, and\ncreative expression."
          ],
          [
           "The sacred flame burned continuously in the temple’s inner\nsanctum."
          ],
          [
           "Pilgrimages are undertaken as acts of devotion and spiritual\nrenewal."
          ],
          [
           "Many religions have a tradition of singing as an expression of\nfaith."
          ],
          [
           "The prophet's words were recorded and cherished as sacred\nscripture."
          ],
          [
           "The spiritual practice of mindfulness focuses on awareness and\npresence."
          ],
          [
           "The altar was adorned with offerings of flowers and incense."
          ],
          [
           "The Golden Rule is a universal principle found in many religious\nteachings."
          ],
          [
           "The sound of the bell marked the beginning of the evening\nprayer."
          ],
          [
           "Spiritual experiences are often described as moments of profound\nconnection."
          ],
          [
           "The temple’s architecture was designed to inspire reverence and\nawe."
          ],
          [
           "The holy text was carefully recited during the evening service."
          ],
          [
           "Pilgrims climbed the steep steps to the ancient monastery high\non the hill."
          ],
          [
           "The lotus is a symbol of spiritual awakening and purity in many\ntraditions."
          ],
          [
           "The hymns echoed through the chapel, filling it with a sense of\npeace."
          ],
          [
           "Spirituality can involve a connection to something greater than\noneself."
          ],
          [
           "The psalms are sung in many religious ceremonies as expressions\nof devotion."
          ],
          [
           "The sacred drumbeat resonated through the circle, uniting\neveryone in prayer."
          ],
          [
           "The philosopher explored the intersection of spirituality and\nscience."
          ],
          [
           "The chapel provided a quiet place for reflection and prayer."
          ],
          [
           "The concept of karma is central to many spiritual and religious\nbeliefs."
          ],
          [
           "The priest anointed the child during the baptism ceremony."
          ],
          [
           "Spiritual leaders often provide guidance during times of\nhardship."
          ],
          [
           "The holy scripture was kept in an ornate cover to preserve its\nsanctity."
          ],
          [
           "The meditation retreat offered silence and space for spiritual\ngrowth."
          ],
          [
           "The crescent moon is a symbol of faith in Islam."
          ],
          [
           "The spiritual journey is often described as one of self-\ndiscovery and love."
          ],
          [
           "The sacred chant was repeated in a rhythmic pattern during the\nritual."
          ],
          [
           "Many religious teachings focus on the pursuit of inner peace."
          ],
          [
           "The holy well was believed to have healing properties for the\nfaithful."
          ],
          [
           "Spiritual practices often foster a sense of unity and harmony."
          ],
          [
           "Yoga helps improve flexibility and balance through various\nposes."
          ],
          [
           "Meditation encourages mindfulness and a calm state of mind."
          ],
          [
           "Downward Dog is a fundamental pose in many yoga practices."
          ],
          [
           "Deep breathing is central to both yoga and meditation practices."
          ],
          [
           "Meditation helps reduce stress and improve mental clarity."
          ],
          [
           "The yoga mat was unrolled in a quiet corner of the room."
          ],
          [
           "The sound of a gong signaled the start of the meditation\nsession."
          ],
          [
           "Yoga integrates physical postures, breathing exercises, and\nmindfulness."
          ],
          [
           "The lotus position is a common posture for meditation."
          ],
          [
           "Meditation can help increase focus and awareness in daily life."
          ],
          [
           "The teacher guided the class through a series of sun\nsalutations."
          ],
          [
           "Mindful breathing is a cornerstone of effective meditation\npractice."
          ],
          [
           "Yoga can enhance strength, flexibility, and mental well-being."
          ],
          [
           "Meditation often begins with focusing on the breath."
          ],
          [
           "The tranquil studio was perfect for an evening yoga session."
          ],
          [
           "Guided meditation can help beginners learn to focus their\nthoughts."
          ],
          [
           "Yoga poses, or asanas, are designed to stretch and strengthen\nthe body."
          ],
          [
           "Meditation helps quiet the mind and bring clarity to thoughts."
          ],
          [
           "The yoga class began with a brief meditation to set intentions."
          ],
          [
           "A candle was lit to create a calming atmosphere for meditation."
          ],
          [
           "Yoga nidra is a deep relaxation technique often practiced at the\nend of a session."
          ],
          [
           "Meditation cushions provide support for longer periods of\nsitting."
          ],
          [
           "Practicing yoga outdoors connects the body to the natural\nenvironment."
          ],
          [
           "A mantra can be repeated during meditation to focus the mind."
          ],
          [
           "Yoga blocks and straps assist in achieving proper alignment in\nposes."
          ],
          [
           "Silent meditation retreats offer a chance to disconnect and\nreflect."
          ],
          [
           "Yoga classes often end with savasana, or corpse pose, for\nrelaxation."
          ],
          [
           "Meditation apps provide guided sessions for beginners and\nadvanced practitioners."
          ],
          [
           "The warrior pose builds strength and stability in the legs."
          ],
          [
           "Meditation can help cultivate compassion and self-awareness."
          ],
          [
           "Practicing yoga regularly can help alleviate back pain."
          ],
          [
           "Mindfulness meditation involves observing thoughts without\njudgment."
          ],
          [
           "Hot yoga sessions challenge both the body and the mind."
          ],
          [
           "Loving-kindness meditation promotes feelings of goodwill and\nempathy."
          ],
          [
           "The child’s pose in yoga provides a gentle stretch and rest."
          ],
          [
           "Meditation often involves focusing on a single point of\nawareness."
          ],
          [
           "Yoga studios often provide a peaceful environment for practice."
          ],
          [
           "Body scan meditation helps release tension and promotes\nrelaxation."
          ],
          [
           "Yoga retreats offer an immersive experience to deepen practice."
          ],
          [
           "Meditation can improve sleep quality and reduce insomnia."
          ],
          [
           "The tree pose helps improve balance and concentration."
          ],
          [
           "Meditation can be practiced sitting, lying down, or even\nwalking."
          ],
          [
           "Yoga encourages connecting breath with movement for mindfulness."
          ],
          [
           "Mindful meditation can help manage anxiety and stress."
          ],
          [
           "The triangle pose stretches the side body and strengthens the\nlegs."
          ],
          [
           "Meditation can create a sense of inner peace and harmony."
          ],
          [
           "Yoga sequences are often designed to target specific areas of\nthe body."
          ],
          [
           "Breath-focused meditation helps anchor attention in the present\nmoment."
          ],
          [
           "The cobra pose opens the chest and strengthens the back muscles."
          ],
          [
           "The chanting of “Om” is often used in yoga and meditation."
          ],
          [
           "Chair yoga is an accessible option for people with limited\nmobility."
          ],
          [
           "Meditation can enhance emotional resilience and mental clarity."
          ],
          [
           "The bridge pose strengthens the core and opens the hips."
          ],
          [
           "Meditation often involves observing the sensations in the body."
          ],
          [
           "Yoga classes often incorporate elements of mindfulness\nmeditation."
          ],
          [
           "Meditation can help develop a sense of gratitude and\ncontentment."
          ],
          [
           "The plank pose builds strength in the arms, shoulders, and core."
          ],
          [
           "Mindful walking combines meditation with gentle movement."
          ],
          [
           "Prenatal yoga helps expectant mothers prepare for childbirth."
          ],
          [
           "Meditation often includes moments of stillness and quiet\nreflection."
          ],
          [
           "The pigeon pose deeply stretches the hips and lower back."
          ],
          [
           "Mindful eating is a form of meditation focused on food\nawareness."
          ],
          [
           "Restorative yoga focuses on relaxation and stress relief."
          ],
          [
           "Meditation can help create space for self-reflection and growth."
          ],
          [
           "The eagle pose challenges balance and opens the shoulders."
          ],
          [
           "Meditation often involves cultivating awareness of thoughts and\nemotions."
          ],
          [
           "Power yoga offers a vigorous workout alongside mindfulness\nbenefits."
          ],
          [
           "Meditation can be enhanced with calming music or nature sounds."
          ],
          [
           "The cat-cow stretch warms up the spine for deeper yoga poses."
          ],
          [
           "Mindful visualization is a technique used to create positive\nmental images."
          ],
          [
           "Yoga helps improve posture and reduce muscle tension."
          ],
          [
           "Meditation in nature can deepen the sense of connection to the\nworld."
          ],
          [
           "The upward-facing dog pose strengthens the upper body and spine."
          ],
          [
           "Meditation often includes moments of gratitude and intention-\nsetting."
          ],
          [
           "Yoga classes sometimes include pranayama, or breath control\nexercises."
          ],
          [
           "Meditation journals can help track progress and insights."
          ],
          [
           "The half-moon pose improves stability and strengthens the legs."
          ],
          [
           "Meditation can be as simple as sitting quietly for a few minutes\na day."
          ],
          [
           "Yoga encourages a harmonious connection between mind, body, and\nspirit."
          ],
          [
           "Meditation in a group can create a shared sense of calm and\nfocus."
          ],
          [
           "The crow pose challenges strength and balance in the arms."
          ],
          [
           "Guided meditations often involve focusing on positive\naffirmations."
          ],
          [
           "Yoga flows combine poses in a seamless and mindful sequence."
          ],
          [
           "Meditation can help reduce symptoms of depression and anxiety."
          ],
          [
           "The hero pose stretches the thighs and opens the hips."
          ],
          [
           "Meditation often focuses on cultivating a sense of presence."
          ],
          [
           "Yoga can complement other forms of exercise for a balanced\nroutine."
          ],
          [
           "The butterfly pose gently opens the hips and stretches the inner\nthighs."
          ],
          [
           "Meditation can help shift perspective and create mental clarity."
          ],
          [
           "Yoga philosophy often emphasizes the union of mind and body."
          ],
          [
           "Meditation spaces can be created with candles, cushions, and\nincense."
          ],
          [
           "The dancer pose improves flexibility and balance with elegance."
          ],
          [
           "Meditation encourages letting go of distractions and being in\nthe moment."
          ],
          [
           "The quarterback threw a perfect pass to the wide receiver."
          ],
          [
           "The basketball bounced across the court as the players scrambled\nfor it."
          ],
          [
           "Football games are often played in outdoor stadiums under the\nopen sky."
          ],
          [
           "The basketball team practiced their three-point shots before the\nbig game."
          ],
          [
           "The running back dodged the defenders and sprinted toward the\nend zone."
          ],
          [
           "The crowd cheered as the point guard sank a buzzer-beater shot."
          ],
          [
           "The defensive line held strong, preventing the opposing team\nfrom scoring."
          ],
          [
           "Dribbling skills are essential for success in basketball."
          ],
          [
           "Football helmets and pads are crucial for player safety during\ntackles."
          ],
          [
           "The basketball swished cleanly through the hoop, earning two\npoints."
          ],
          [
           "The kicker lined up to attempt a 50-yard field goal."
          ],
          [
           "The center passed the ball to the shooting guard for a fast\nbreak."
          ],
          [
           "The referee threw a penalty flag for a foul on the field."
          ],
          [
           "The basketball player executed a flawless slam dunk."
          ],
          [
           "Football teams often rely on strong teamwork to succeed in tough\ngames."
          ],
          [
           "The small forward drove through the defense and scored a layup."
          ],
          [
           "The coach called a timeout to discuss the next play in the\nfootball game."
          ],
          [
           "The basketball game went into overtime after a tie in the fourth\nquarter."
          ],
          [
           "The wide receiver made an incredible one-handed catch in the end\nzone."
          ],
          [
           "The power forward grabbed the rebound and passed it to the point\nguard."
          ],
          [
           "The defensive back intercepted the ball and ran it back for a\ntouchdown."
          ],
          [
           "The shooting guard hit a clutch three-pointer in the final\nseconds of the game."
          ],
          [
           "The football fans braved the rain to support their favorite\nteam."
          ],
          [
           "The basketball court was packed with fans cheering for their\nhome team."
          ],
          [
           "The linebacker tackled the running back behind the line of\nscrimmage."
          ],
          [
           "The team celebrated after the center made a game-winning basket."
          ],
          [
           "The football game was intense, with both teams trading scores in\nthe final minutes."
          ],
          [
           "The basketball player broke away and scored on a fast break."
          ],
          [
           "The quarterback was sacked by a blitzing linebacker in the\nsecond quarter."
          ],
          [
           "The point guard orchestrated the offense, setting up plays for\nteammates."
          ],
          [
           "Football games often end with a dramatic final drive to decide\nthe winner."
          ],
          [
           "The crowd roared as the basketball player dunked over two\ndefenders."
          ],
          [
           "The tight end caught a short pass and powered through for a\nfirst down."
          ],
          [
           "The basketball team celebrated their win with a victory lap\naround the court."
          ],
          [
           "The punter sent the football sailing high into the air for a\ntouchback."
          ],
          [
           "The shooting guard displayed incredible accuracy from the free-\nthrow line."
          ],
          [
           "Football rivalries bring intense energy to every matchup between\nthe teams."
          ],
          [
           "The small forward executed a perfect spin move to evade the\ndefender."
          ],
          [
           "The running back leaped over the defensive line for a touchdown."
          ],
          [
           "The basketball players warmed up with layup drills before the\ngame started."
          ],
          [
           "The offensive line created a pocket, giving the quarterback time\nto throw."
          ],
          [
           "The power forward blocked the opponent’s shot with authority."
          ],
          [
           "The halftime show at the football game included a marching band\nperformance."
          ],
          [
           "The basketball game was fast-paced, with both teams scoring\nquickly."
          ],
          [
           "The cornerback made a critical interception to seal the football\ngame."
          ],
          [
           "The shooting guard scored 30 points in an impressive individual\nperformance."
          ],
          [
           "Football games often feature strategic play-calling to exploit\nweaknesses."
          ],
          [
           "The point guard dished out 10 assists in a strong playmaking\neffort."
          ],
          [
           "The wide receiver outran the defense and caught a deep touchdown\npass."
          ],
          [
           "The basketball player displayed incredible agility, weaving\nthrough defenders."
          ],
          [
           "The kicker made a game-winning field goal as time expired."
          ],
          [
           "The center posted a double-double with 15 points and 12\nrebounds."
          ],
          [
           "The football coach emphasized discipline and execution in\npractice."
          ],
          [
           "The basketball team worked on their defensive rotations to\nimprove their play."
          ],
          [
           "The quarterback’s leadership inspired the team during a tough\nfourth quarter."
          ],
          [
           "The crowd erupted as the small forward nailed a clutch three-\npointer."
          ],
          [
           "The defensive end forced a fumble that changed the momentum of\nthe game."
          ],
          [
           "The basketball team celebrated their championship win with\nconfetti showers."
          ],
          [
           "The running back broke multiple tackles on his way to a long\ntouchdown run."
          ],
          [
           "The shooting guard’s crossover dribble left the defender off\nbalance."
          ],
          [
           "The football game was a defensive battle, with neither team\nscoring much."
          ],
          [
           "The basketball player’s slam dunk brought the fans to their\nfeet."
          ],
          [
           "The quarterback read the defense and audibled to a successful\nplay."
          ],
          [
           "The power forward dominated the paint with strong rebounding and\nscoring."
          ],
          [
           "The crowd chanted loudly, supporting their football team in the\nfinal moments."
          ],
          [
           "The basketball team executed a perfect pick-and-roll play for an\neasy basket."
          ],
          [
           "The wide receiver’s speed made him a constant threat in the\nfootball game."
          ],
          [
           "The small forward showed great versatility, contributing in all\naspects of the game."
          ],
          [
           "The linebacker’s hit jarred the ball loose, resulting in a\nturnover."
          ],
          [
           "The point guard displayed excellent court vision, finding open\nteammates."
          ],
          [
           "The football team celebrated their victory with the traditional\nGatorade shower."
          ],
          [
           "The basketball player’s fadeaway jumper was nearly impossible to\ndefend."
          ],
          [
           "The defensive back made a diving interception to save a\ntouchdown."
          ],
          [
           "The basketball coach emphasized ball movement to create open\nshots."
          ],
          [
           "The quarterback threw a perfect spiral that landed in the\nreceiver’s hands."
          ],
          [
           "The basketball team’s defensive pressure forced multiple\nturnovers."
          ],
          [
           "The kicker practiced long field goals during pregame warmups."
          ],
          [
           "The small forward’s hustle on defense earned him several steals."
          ],
          [
           "The football team’s offensive line dominated the trenches all\ngame long."
          ],
          [
           "The basketball player’s spin move dazzled the crowd and scored\npoints."
          ],
          [
           "The wide receiver’s toe-tap catch near the sideline was a thing\nof beauty."
          ],
          [
           "The center’s dominant rebounding helped secure the basketball\nteam’s win."
          ],
          [
           "The running back celebrated his touchdown with a unique end-zone\ndance."
          ],
          [
           "The shooting guard led the fast break with speed and precision."
          ],
          [
           "The quarterback’s composure under pressure was key to the team’s\nvictory."
          ],
          [
           "The basketball player’s behind-the-back pass amazed everyone in\nthe arena."
          ],
          [
           "The football team’s defense held strong during a critical\nfourth-down stop."
          ],
          [
           "The basketball player’s long-range shooting was the difference\nin the game."
          ],
          [
           "The linebacker’s sack ended the quarterback’s hopes of a\ncomeback drive."
          ],
          [
           "The power forward’s dunk electrified the crowd and energized his\nteam."
          ],
          [
           "Watering plants regularly is essential for healthy growth."
          ],
          [
           "A well-maintained garden can transform any backyard into a\npeaceful retreat."
          ],
          [
           "Sunlight is crucial for most plants to perform photosynthesis."
          ],
          [
           "Pruning helps plants grow in a healthy and structured way."
          ],
          [
           "Adding compost to the soil enriches it with nutrients for\ngardening."
          ],
          [
           "Succulents are popular for their low-maintenance and drought-\nresistant nature."
          ],
          [
           "Raised garden beds are great for growing vegetables and herbs."
          ],
          [
           "A variety of flowers can add vibrant colors to your garden."
          ],
          [
           "Mulching helps retain soil moisture and reduce weed growth."
          ],
          [
           "Cacti thrive in dry climates and require minimal watering."
          ],
          [
           "Planting perennials ensures blooms that return year after year."
          ],
          [
           "Aromatic herbs like basil and mint are easy to grow in pots."
          ],
          [
           "Proper drainage prevents overwatering and root rot in plants."
          ],
          [
           "Gardening gloves protect your hands while working with soil and\nplants."
          ],
          [
           "Indoor plants like ferns and pothos improve air quality in your\nhome."
          ],
          [
           "Gardening tools like trowels and spades are essential for\nplanting."
          ],
          [
           "Seasonal plants bring diversity to your garden throughout the\nyear."
          ],
          [
           "Composting kitchen scraps can reduce waste and benefit your\ngarden."
          ],
          [
           "Climbing plants like ivy and jasmine can add vertical beauty to\na space."
          ],
          [
           "Proper spacing between plants prevents overcrowding and promotes\ngrowth."
          ],
          [
           "Ornamental grasses can add texture and movement to a garden\nlandscape."
          ],
          [
           "Seedlings need careful attention and proper sunlight to thrive."
          ],
          [
           "A water sprinkler system can make garden maintenance easier."
          ],
          [
           "Using organic fertilizers promotes sustainable gardening\npractices."
          ],
          [
           "Hanging baskets are a great way to display flowering plants."
          ],
          [
           "Annuals like marigolds bloom brightly but need to be replanted\neach year."
          ],
          [
           "Trimming dead leaves and branches helps plants stay healthy."
          ],
          [
           "Pollinators like bees and butterflies benefit from flowering\nplants."
          ],
          [
           "Gardening can be a relaxing and therapeutic hobby for many\npeople."
          ],
          [
           "Succulents require well-draining soil to prevent waterlogged\nroots."
          ],
          [
           "Vegetable gardens are a rewarding way to grow your own food."
          ],
          [
           "Shade-loving plants like hostas thrive in low-light areas of the\ngarden."
          ],
          [
           "Gardening in containers allows flexibility for small spaces or\npatios."
          ],
          [
           "Fertilizers rich in nitrogen promote lush, green foliage in\nplants."
          ],
          [
           "A greenhouse provides a controlled environment for growing\nsensitive plants."
          ],
          [
           "Using native plants in your garden supports local ecosystems."
          ],
          [
           "Planting flowers in succession ensures continuous blooms\nthroughout the season."
          ],
          [
           "Weeding regularly keeps the garden tidy and reduces competition\nfor nutrients."
          ],
          [
           "Hydrangeas change color based on the pH level of the soil."
          ],
          [
           "Drip irrigation systems deliver water directly to plant roots\nefficiently."
          ],
          [
           "Gardening in the early morning or evening avoids the harsh\nmidday sun."
          ],
          [
           "Herbs like rosemary and thyme thrive in well-drained soil with\nfull sun."
          ],
          [
           "Trellises provide support for climbing plants like tomatoes and\nbeans."
          ],
          [
           "Proper soil testing helps determine the best amendments for your\ngarden."
          ],
          [
           "Gardening requires patience, as plants take time to grow and\nbloom."
          ],
          [
           "Spring is the ideal season to plant most flowers and vegetables."
          ],
          [
           "Indoor plants like snake plants and peace lilies are hardy and\ndecorative."
          ],
          [
           "Adding earthworms to your garden improves soil aeration and\nfertility."
          ],
          [
           "Pests like aphids can be managed with natural remedies or\ninsecticidal soaps."
          ],
          [
           "Regularly rotating crops prevents soil depletion in vegetable\ngardens."
          ],
          [
           "The scent of lavender can add a calming atmosphere to any\ngarden."
          ],
          [
           "Rain barrels collect water that can be used for eco-friendly\nirrigation."
          ],
          [
           "Garden paths made of stone or wood chips enhance the aesthetics\nof the space."
          ],
          [
           "Hardy plants like marigolds are resistant to pests and diseases."
          ],
          [
           "Repotting is necessary when plants outgrow their containers."
          ],
          [
           "Shade cloths protect delicate plants from excessive heat and\nsunlight."
          ],
          [
           "Adding decorative pots can elevate the look of your indoor\nplants."
          ],
          [
           "Deadheading flowers encourages new blooms and prolongs the\nflowering season."
          ],
          [
           "Gardening with children can be an educational and fun activity."
          ],
          [
           "Planting marigolds near vegetables helps deter harmful insects."
          ],
          [
           "Herb gardens can thrive indoors with adequate sunlight and care."
          ],
          [
           "Rain gardens are designed to absorb and filter rainwater\neffectively."
          ],
          [
           "Vertical gardening is ideal for maximizing space in urban areas."
          ],
          [
           "Aquatic plants like water lilies beautify garden ponds and\nsupport wildlife."
          ],
          [
           "Bulbs like tulips and daffodils should be planted in the fall\nfor spring blooms."
          ],
          [
           "Using a garden hoe makes it easier to remove stubborn weeds."
          ],
          [
           "Hummingbirds are often attracted to red and orange flowering\nplants."
          ],
          [
           "Gardening journals can help track plant growth and seasonal\npatterns."
          ],
          [
           "Terrariums create miniature ecosystems for small indoor plants."
          ],
          [
           "Aphid infestations can be controlled with ladybugs or neem oil."
          ],
          [
           "Flower beds with mixed colors create eye-catching visual appeal."
          ],
          [
           "Rocks and pebbles can be used to improve soil drainage in pots."
          ],
          [
           "Proper plant labeling prevents confusion, especially in\nvegetable gardens."
          ],
          [
           "Gardening workshops offer valuable tips for beginners and\nexperts alike."
          ],
          [
           "Winterizing your garden prepares plants for cold temperatures."
          ],
          [
           "Growing sunflowers can attract beneficial insects and brighten\nyour garden."
          ],
          [
           "Seed starting indoors gives plants a head start before outdoor\nplanting."
          ],
          [
           "Aromatic plants like lemongrass can naturally repel mosquitoes."
          ],
          [
           "Installing bird feeders can bring more life and activity to your\ngarden."
          ],
          [
           "Landscaping with drought-tolerant plants saves water in dry\nclimates."
          ],
          [
           "Harvesting vegetables at the right time ensures the best flavor\nand quality."
          ],
          [
           "Garden benches provide a place to relax and enjoy the\nsurroundings."
          ],
          [
           "Rose bushes require regular pruning to maintain their shape and\nhealth."
          ],
          [
           "Terracotta pots are a classic choice for container gardening."
          ],
          [
           "Seasonal garden decor can enhance the atmosphere of your outdoor\nspace."
          ],
          [
           "Covering plants with frost cloths protects them during cold\nsnaps."
          ],
          [
           "Growing tomatoes requires staking or caging for proper support."
          ],
          [
           "Perennials like peonies can become more vibrant with each\npassing year."
          ],
          [
           "Aromatic herbs can be dried and used for teas or culinary\npurposes."
          ],
          [
           "Sunflower seeds can be harvested and enjoyed as a healthy snack."
          ],
          [
           "Gardening requires dedication and rewards with beauty and fresh\nproduce."
          ],
          [
           "Planting companion plants can improve growth and deter pests\nnaturally."
          ],
          [
           "Cooking at home allows you to control the ingredients in your\nmeals."
          ],
          [
           "French cuisine is famous for its delicate pastries and rich\nsauces."
          ],
          [
           "Adding fresh herbs enhances the flavor of any dish."
          ],
          [
           "Cooking pasta al dente ensures the perfect texture for your\nmeal."
          ],
          [
           "Italian cuisine is well-known for its pizzas and pasta dishes."
          ],
          [
           "Sautéing vegetables in olive oil brings out their natural\nsweetness."
          ],
          [
           "Indian curries are renowned for their bold spices and aromatic\nflavors."
          ],
          [
           "Using a slow cooker is a convenient way to prepare tender stews."
          ],
          [
           "Japanese cuisine features sushi, sashimi, and tempura as\nstaples."
          ],
          [
           "Marinating meat overnight infuses it with flavor before cooking."
          ],
          [
           "Mexican cuisine offers a variety of vibrant dishes like tacos\nand enchiladas."
          ],
          [
           "A sharp knife is essential for precise and efficient food\npreparation."
          ],
          [
           "Baking bread from scratch fills the kitchen with a comforting\naroma."
          ],
          [
           "Thai cuisine combines sweet, sour, salty, and spicy flavors in\nharmony."
          ],
          [
           "Grilling meat gives it a smoky flavor and beautiful sear marks."
          ],
          [
           "Chinese stir-fries are quick to make and packed with fresh\ningredients."
          ],
          [
           "Simmering a soup allows the flavors to meld beautifully over\ntime."
          ],
          [
           "Middle Eastern cuisine includes dishes like hummus, falafel, and\ntabbouleh."
          ],
          [
           "Making homemade pasta can be a rewarding culinary experience."
          ],
          [
           "Korean cuisine is known for its spicy kimchi and hearty\nbibimbap."
          ],
          [
           "Roasting vegetables caramelizes their natural sugars for a rich\ntaste."
          ],
          [
           "Spanish cuisine features tapas, paella, and churros as popular\nchoices."
          ],
          [
           "Whisking eggs thoroughly ensures a fluffy texture in omelets."
          ],
          [
           "Vietnamese pho is a comforting noodle soup with a flavorful\nbroth."
          ],
          [
           "Broiling is a quick method to cook food with high heat from\nabove."
          ],
          [
           "Greek cuisine highlights ingredients like olive oil, feta, and\noregano."
          ],
          [
           "Kneading dough develops gluten, giving bread its structure and\nchewiness."
          ],
          [
           "Using a cast iron skillet adds depth of flavor to seared dishes."
          ],
          [
           "Moroccan tagines are slow-cooked stews made with a mix of sweet\nand savory."
          ],
          [
           "Braising tough cuts of meat results in tender and flavorful\ndishes."
          ],
          [
           "Learning to balance spices is a key skill in Indian cooking."
          ],
          [
           "A food processor can make chopping and blending ingredients much\neasier."
          ],
          [
           "French onion soup is topped with melted cheese and a crusty\nbaguette."
          ],
          [
           "Sous vide cooking ensures perfectly even doneness for proteins."
          ],
          [
           "Italian risotto requires constant stirring to achieve its creamy\ntexture."
          ],
          [
           "Caramelizing onions takes time but adds depth to many recipes."
          ],
          [
           "Japanese ramen combines broth, noodles, and toppings into a\ncomforting dish."
          ],
          [
           "Grating fresh Parmesan over pasta adds a delicious finishing\ntouch."
          ],
          [
           "Korean barbecue involves grilling meat at the table with a\nvariety of sides."
          ],
          [
           "Preparing a homemade vinaigrette is simple and elevates any\nsalad."
          ],
          [
           "Mexican mole sauce combines chocolate and spices for a rich,\ncomplex flavor."
          ],
          [
           "Pan-searing scallops creates a golden crust while keeping them\ntender."
          ],
          [
           "Fresh seafood is a cornerstone of Mediterranean cuisine."
          ],
          [
           "Steaming vegetables preserves their nutrients and vibrant\ncolors."
          ],
          [
           "French béchamel sauce serves as the base for many creamy dishes."
          ],
          [
           "Stirring constantly prevents lumps when making a roux for\nthickening."
          ],
          [
           "Using a mandoline slicer ensures uniform cuts for vegetables and\nfruits."
          ],
          [
           "Indian naan bread pairs perfectly with spicy curries."
          ],
          [
           "Cooking steak to the right temperature ensures juiciness and\nflavor."
          ],
          [
           "Making homemade ice cream allows for endless flavor\ncustomizations."
          ],
          [
           "Asian dumplings can be steamed, boiled, or pan-fried for\ndifferent textures."
          ],
          [
           "Barbecuing over charcoal adds a distinct smoky aroma to meats."
          ],
          [
           "Roasting garlic mellows its flavor, making it sweet and\nspreadable."
          ],
          [
           "French crème brûlée features a creamy custard with a caramelized\nsugar crust."
          ],
          [
           "Indian biryani combines fragrant rice with spices and tender\nmeat or vegetables."
          ],
          [
           "Using a pressure cooker can dramatically reduce cooking times."
          ],
          [
           "Sushi rolls often include ingredients like rice, seaweed, and\nfresh fish."
          ],
          [
           "A pinch of salt can enhance the sweetness of desserts."
          ],
          [
           "Kneading dough until smooth ensures evenly baked bread."
          ],
          [
           "The Maillard reaction gives browned foods their distinctive\nflavor."
          ],
          [
           "A blender is essential for making smoothies, soups, and sauces."
          ],
          [
           "Stuffed bell peppers make a colorful and hearty meal option."
          ],
          [
           "Stirring risotto frequently helps release starch for a creamy\nconsistency."
          ],
          [
           "Cooking meat on a grill imparts a delicious smoky flavor."
          ],
          [
           "Using fresh citrus juice adds brightness to savory and sweet\ndishes."
          ],
          [
           "Middle Eastern baklava is made with layers of phyllo dough and\nhoneyed nuts."
          ],
          [
           "Making fluffy pancakes requires not overmixing the batter."
          ],
          [
           "Indian samosas are deep-fried pastries filled with spiced\npotatoes and peas."
          ],
          [
           "Tempering chocolate gives it a shiny finish and perfect snap."
          ],
          [
           "Fresh basil is a must-have herb for making classic pesto sauce."
          ],
          [
           "Baking requires precise measurements for consistent results."
          ],
          [
           "Adding a dash of vinegar can brighten the flavors in a dish."
          ],
          [
           "French ratatouille combines zucchini, eggplant, and tomatoes in\na flavorful stew."
          ],
          [
           "Poaching eggs in simmering water creates a soft, runny yolk."
          ],
          [
           "Stirring hot cocoa with a cinnamon stick adds extra warmth and\nspice."
          ],
          [
           "Indian chai tea is brewed with milk, spices, and black tea\nleaves."
          ],
          [
           "Chopping ingredients uniformly ensures even cooking in recipes."
          ],
          [
           "Spanish flan is a creamy caramel dessert that's rich and smooth."
          ],
          [
           "Roasting a whole chicken creates a meal with crispy skin and\njuicy meat."
          ],
          [
           "Blanching vegetables before freezing helps retain their texture\nand color."
          ],
          [
           "Using parchment paper prevents baked goods from sticking to the\npan."
          ],
          [
           "Grating nutmeg adds a warm, aromatic flavor to sweet and savory\ndishes."
          ],
          [
           "Making a stir-fry is a quick way to prepare a healthy, balanced\nmeal."
          ],
          [
           "Baking a cake from scratch allows for endless flavor and\ndecoration options."
          ],
          [
           "Cooking with wine adds depth and complexity to sauces and stews."
          ],
          [
           "Homemade pizza dough is a fun and customizable base for\ntoppings."
          ],
          [
           "Vietnamese spring rolls are light and refreshing, filled with\nfresh herbs."
          ],
          [
           "Spatchcocking a chicken ensures even cooking and crispy skin."
          ],
          [
           "Fermenting vegetables like sauerkraut enhances their flavor and\nshelf life."
          ],
          [
           "Cooking seafood requires precision to avoid overcooking and\ndrying out."
          ],
          [
           "French croissants are a labor of love, with buttery, flaky\nlayers."
          ],
          [
           "Using a meat thermometer ensures proteins are cooked to safe\ntemperatures."
          ],
          [
           "A cast iron Dutch oven is perfect for baking bread or slow-\ncooking stews."
          ]
         ],
         "hovertemplate": "%{customdata[0]}<extra></extra>",
         "legendgroup": "",
         "marker": {
          "color": [
           1,
           1,
           1,
           1,
           1,
           1,
           1,
           1,
           1,
           1,
           1,
           1,
           1,
           1,
           1,
           1,
           1,
           1,
           1,
           1,
           1,
           1,
           1,
           1,
           1,
           1,
           1,
           1,
           1,
           1,
           1,
           1,
           1,
           1,
           1,
           1,
           1,
           1,
           1,
           1,
           1,
           1,
           1,
           1,
           1,
           1,
           1,
           1,
           1,
           1,
           1,
           1,
           1,
           1,
           1,
           1,
           1,
           1,
           1,
           1,
           1,
           1,
           1,
           1,
           1,
           1,
           1,
           1,
           1,
           1,
           1,
           1,
           1,
           1,
           1,
           1,
           1,
           1,
           1,
           1,
           1,
           1,
           1,
           1,
           1,
           1,
           1,
           1,
           1,
           1,
           1,
           1,
           1,
           1,
           1,
           1,
           1,
           1,
           7,
           7,
           7,
           7,
           7,
           7,
           7,
           7,
           7,
           7,
           7,
           7,
           7,
           7,
           7,
           7,
           7,
           7,
           7,
           7,
           7,
           7,
           7,
           7,
           7,
           7,
           7,
           7,
           7,
           7,
           7,
           7,
           7,
           7,
           7,
           7,
           7,
           7,
           7,
           7,
           7,
           7,
           7,
           7,
           7,
           7,
           7,
           7,
           7,
           7,
           7,
           7,
           7,
           7,
           7,
           7,
           7,
           7,
           7,
           7,
           7,
           7,
           7,
           7,
           7,
           7,
           7,
           7,
           7,
           7,
           7,
           7,
           7,
           7,
           7,
           7,
           7,
           7,
           7,
           7,
           7,
           7,
           7,
           7,
           7,
           7,
           7,
           7,
           7,
           7,
           7,
           7,
           7,
           5,
           5,
           5,
           5,
           5,
           5,
           5,
           5,
           5,
           5,
           5,
           5,
           5,
           5,
           5,
           5,
           5,
           5,
           5,
           5,
           5,
           5,
           5,
           5,
           5,
           5,
           5,
           5,
           5,
           6,
           5,
           5,
           5,
           5,
           5,
           5,
           5,
           5,
           5,
           5,
           5,
           5,
           5,
           5,
           5,
           5,
           5,
           5,
           5,
           5,
           5,
           5,
           5,
           5,
           5,
           5,
           5,
           5,
           5,
           5,
           5,
           5,
           5,
           5,
           5,
           5,
           7,
           5,
           5,
           1,
           5,
           5,
           5,
           7,
           5,
           5,
           5,
           5,
           5,
           5,
           5,
           5,
           5,
           5,
           5,
           5,
           5,
           5,
           5,
           5,
           5,
           9,
           8,
           9,
           8,
           9,
           8,
           9,
           8,
           9,
           8,
           9,
           9,
           9,
           8,
           9,
           8,
           9,
           8,
           9,
           8,
           9,
           8,
           9,
           8,
           9,
           8,
           9,
           8,
           9,
           8,
           9,
           8,
           9,
           9,
           9,
           8,
           9,
           8,
           9,
           8,
           9,
           8,
           9,
           8,
           9,
           9,
           9,
           8,
           9,
           8,
           9,
           8,
           9,
           8,
           9,
           8,
           9,
           8,
           9,
           8,
           9,
           8,
           9,
           9,
           9,
           8,
           9,
           8,
           9,
           8,
           9,
           8,
           9,
           8,
           9,
           -1,
           9,
           8,
           9,
           8,
           9,
           8,
           9,
           8,
           9,
           8,
           9,
           8,
           9,
           8,
           4,
           4,
           4,
           4,
           4,
           4,
           4,
           4,
           4,
           4,
           4,
           4,
           4,
           4,
           4,
           4,
           4,
           4,
           4,
           4,
           4,
           4,
           4,
           4,
           4,
           4,
           4,
           4,
           4,
           4,
           4,
           4,
           4,
           4,
           4,
           4,
           4,
           4,
           4,
           4,
           4,
           4,
           4,
           4,
           4,
           4,
           4,
           4,
           4,
           4,
           4,
           4,
           4,
           4,
           4,
           4,
           4,
           4,
           4,
           4,
           4,
           4,
           4,
           4,
           4,
           4,
           4,
           4,
           4,
           4,
           4,
           4,
           4,
           4,
           4,
           4,
           4,
           4,
           4,
           4,
           4,
           4,
           4,
           4,
           4,
           4,
           4,
           4,
           4,
           4,
           4,
           4,
           2,
           2,
           2,
           2,
           2,
           2,
           2,
           2,
           2,
           2,
           2,
           2,
           2,
           2,
           2,
           2,
           2,
           3,
           2,
           2,
           2,
           2,
           2,
           2,
           2,
           2,
           2,
           2,
           2,
           2,
           2,
           2,
           2,
           2,
           2,
           2,
           2,
           2,
           2,
           2,
           2,
           2,
           2,
           2,
           2,
           2,
           2,
           2,
           2,
           2,
           2,
           2,
           2,
           2,
           2,
           2,
           2,
           2,
           2,
           2,
           2,
           2,
           2,
           2,
           2,
           2,
           2,
           2,
           2,
           2,
           2,
           2,
           2,
           2,
           2,
           2,
           2,
           2,
           2,
           2,
           2,
           2,
           2,
           2,
           2,
           2,
           2,
           2,
           2,
           2,
           2,
           2,
           2,
           3,
           2,
           3,
           3,
           2,
           3,
           2,
           3,
           2,
           2,
           4,
           2,
           3,
           2,
           3,
           2,
           3,
           2,
           3,
           2,
           3,
           2,
           3,
           2,
           3,
           2,
           3,
           2,
           3,
           2,
           3,
           2,
           3,
           2,
           3,
           2,
           3,
           2,
           3,
           2,
           3,
           2,
           3,
           2,
           3,
           2,
           3,
           2,
           3,
           2,
           3,
           2,
           3,
           2,
           3,
           2,
           3,
           2,
           3,
           2,
           3,
           2,
           3,
           2,
           3,
           2,
           3,
           2,
           3,
           2,
           3,
           2,
           3,
           2,
           3,
           2,
           3,
           2,
           3,
           2,
           3,
           2,
           3,
           2,
           3,
           2,
           3,
           3,
           2,
           3,
           2,
           3,
           2,
           0,
           0,
           0,
           0,
           0,
           0,
           0,
           0,
           0,
           0,
           0,
           0,
           0,
           0,
           0,
           0,
           0,
           0,
           0,
           0,
           0,
           0,
           0,
           0,
           0,
           0,
           0,
           0,
           0,
           0,
           0,
           0,
           0,
           0,
           0,
           0,
           0,
           0,
           0,
           0,
           0,
           0,
           0,
           0,
           0,
           0,
           0,
           0,
           0,
           0,
           0,
           0,
           0,
           0,
           0,
           0,
           0,
           0,
           0,
           0,
           0,
           0,
           0,
           0,
           0,
           0,
           0,
           0,
           0,
           0,
           0,
           0,
           0,
           0,
           0,
           0,
           0,
           0,
           0,
           0,
           0,
           0,
           0,
           0,
           0,
           0,
           0,
           0,
           0,
           0,
           6,
           6,
           6,
           6,
           6,
           6,
           6,
           6,
           6,
           6,
           6,
           4,
           6,
           6,
           6,
           6,
           6,
           6,
           6,
           6,
           6,
           6,
           6,
           6,
           6,
           6,
           6,
           6,
           6,
           6,
           6,
           6,
           6,
           6,
           6,
           6,
           6,
           6,
           6,
           6,
           6,
           6,
           6,
           6,
           6,
           6,
           6,
           6,
           6,
           6,
           6,
           6,
           6,
           6,
           6,
           6,
           6,
           6,
           6,
           6,
           6,
           6,
           6,
           6,
           6,
           6,
           8,
           6,
           6,
           6,
           6,
           6,
           6,
           6,
           6,
           6,
           6,
           6,
           8,
           6,
           4,
           6,
           6,
           6,
           6,
           6,
           6,
           6,
           4,
           6,
           6,
           6,
           4,
           4,
           4,
           4,
           4,
           4,
           4,
           4,
           4,
           4,
           4,
           4,
           4,
           4,
           4,
           4,
           4,
           4,
           4,
           4,
           4,
           4,
           4,
           4,
           4,
           4,
           4,
           4,
           4,
           4,
           4,
           4,
           4,
           4,
           4,
           4,
           4,
           4,
           4,
           4,
           4,
           4,
           4,
           4,
           4,
           4,
           4,
           4,
           4,
           4,
           4,
           4,
           4,
           4,
           4,
           4,
           4,
           4,
           4,
           4,
           4,
           4,
           4,
           4,
           4,
           4,
           4,
           4,
           4,
           4,
           4,
           4,
           4,
           9,
           4,
           4,
           4,
           4,
           4,
           4,
           4,
           4,
           4,
           4,
           4,
           4,
           4,
           4,
           4,
           4,
           4,
           4,
           4
          ],
          "coloraxis": "coloraxis",
          "opacity": 0.8,
          "size": 1,
          "symbol": "circle"
         },
         "mode": "markers",
         "name": "",
         "orientation": "v",
         "showlegend": false,
         "type": "scatter",
         "x": [
          -7.138202667236328,
          -6.699954509735107,
          -7.439359188079834,
          -6.871023178100586,
          -6.3751912117004395,
          -7.293962478637695,
          -6.140125274658203,
          -7.437182426452637,
          -6.392681121826172,
          -7.084341526031494,
          -6.859713077545166,
          -7.316673755645752,
          -7.026787281036377,
          -6.589526176452637,
          -7.2807230949401855,
          -7.434263229370117,
          -6.719245433807373,
          -7.477907180786133,
          -6.962697505950928,
          -7.236860275268555,
          -6.4091386795043945,
          -7.447911739349365,
          -6.640858173370361,
          -7.404049873352051,
          -6.890773773193359,
          -6.298953533172607,
          -7.177600383758545,
          -6.916836261749268,
          -7.37879753112793,
          -6.551752090454102,
          -7.374261379241943,
          -6.174734115600586,
          -7.002716541290283,
          -6.873326301574707,
          -7.389440536499023,
          -6.390850067138672,
          -7.197399616241455,
          -7.386026382446289,
          -6.745842933654785,
          -7.557964324951172,
          -6.452831745147705,
          -7.051125526428223,
          -6.985284805297852,
          -7.5284504890441895,
          -6.4986958503723145,
          -7.428249359130859,
          -6.368185520172119,
          -7.413070201873779,
          -6.670708656311035,
          -6.425384998321533,
          -7.496127128601074,
          -6.377410411834717,
          -7.020924091339111,
          -7.591884613037109,
          -6.504958152770996,
          -6.960996627807617,
          -6.716677665710449,
          -7.229843616485596,
          -6.878081321716309,
          -6.852624416351318,
          -7.185684680938721,
          -7.2390336990356445,
          -7.196573257446289,
          -6.861753940582275,
          -7.368621349334717,
          -6.280358791351318,
          -7.4712934494018555,
          -6.7831573486328125,
          -7.457308292388916,
          -6.577054023742676,
          -7.150882244110107,
          -6.83578634262085,
          -7.157195568084717,
          -6.8280816078186035,
          -7.204374313354492,
          -6.912281036376953,
          -7.154919624328613,
          -6.2379865646362305,
          -6.518097877502441,
          -7.121915817260742,
          -7.2212982177734375,
          -7.55278205871582,
          -6.449528694152832,
          -7.334664344787598,
          -6.4847412109375,
          -7.0876336097717285,
          -6.300890922546387,
          -7.5210771560668945,
          -6.522770404815674,
          -7.154792308807373,
          -7.305286884307861,
          -7.108499526977539,
          -6.700933933258057,
          -6.850949287414551,
          -6.98096227645874,
          -6.779013633728027,
          -7.120796203613281,
          -7.098960876464844,
          3.296541690826416,
          4.617608547210693,
          3.572507619857788,
          4.617453098297119,
          3.6496400833129883,
          4.7080888748168945,
          3.531496524810791,
          5.16162633895874,
          3.4579946994781494,
          4.66032600402832,
          5.010335922241211,
          3.6856629848480225,
          4.600090503692627,
          3.519258737564087,
          5.044974327087402,
          3.4958672523498535,
          4.299771308898926,
          3.6022913455963135,
          5.245973587036133,
          3.7324039936065674,
          4.504983901977539,
          3.271662950515747,
          5.140562057495117,
          3.5405831336975098,
          5.043023109436035,
          3.5962510108947754,
          5.11202335357666,
          3.503553628921509,
          4.490768909454346,
          4.737597465515137,
          3.559239149093628,
          5.188096523284912,
          3.470547676086426,
          4.648748397827148,
          3.5878584384918213,
          5.197325229644775,
          3.6226398944854736,
          4.224160671234131,
          3.4320106506347656,
          5.152296543121338,
          3.647768259048462,
          4.471426010131836,
          3.5686373710632324,
          5.193290710449219,
          3.5364251136779785,
          5.052952766418457,
          3.7617027759552,
          4.737781524658203,
          3.5755531787872314,
          5.692954063415527,
          3.725292682647705,
          5.082292556762695,
          3.606536865234375,
          4.818687438964844,
          3.443835496902466,
          4.592561721801758,
          3.3526010513305664,
          4.811814308166504,
          3.594024181365967,
          5.097510814666748,
          3.7777700424194336,
          5.148086071014404,
          3.373298406600952,
          4.94844913482666,
          5.118728160858154,
          3.51015043258667,
          5.087066173553467,
          3.553328037261963,
          4.544431686401367,
          3.5315756797790527,
          4.682977199554443,
          3.5733518600463867,
          5.167840003967285,
          3.587418794631958,
          6.299388885498047,
          3.3479807376861572,
          3.7389187812805176,
          3.5532405376434326,
          4.985219478607178,
          3.6376290321350098,
          5.2117791175842285,
          3.482032299041748,
          4.51843786239624,
          3.4827845096588135,
          4.853409290313721,
          3.3774731159210205,
          5.2209882736206055,
          3.4942054748535156,
          4.932174205780029,
          3.3722994327545166,
          4.84311056137085,
          3.590224027633667,
          5.201774597167969,
          1.7598930597305298,
          2.880772113800049,
          1.3700554370880127,
          2.723871946334839,
          1.9460322856903076,
          2.52433443069458,
          1.5073814392089844,
          2.4691014289855957,
          1.7881218194961548,
          2.8627610206604004,
          1.3143190145492554,
          2.786815643310547,
          1.5831972360610962,
          2.607468843460083,
          1.8685401678085327,
          2.6724772453308105,
          1.727826714515686,
          2.8815689086914062,
          1.838935375213623,
          2.904543399810791,
          1.5477969646453857,
          2.882432460784912,
          1.9028303623199463,
          2.7829761505126953,
          1.5176749229431152,
          2.8310580253601074,
          1.3376011848449707,
          2.62331223487854,
          1.8160276412963867,
          5.871094226837158,
          1.5954558849334717,
          2.8623011112213135,
          1.4491772651672363,
          2.5725159645080566,
          1.3500481843948364,
          2.748356580734253,
          1.88716459274292,
          2.680211305618286,
          2.1014750003814697,
          3.088409662246704,
          1.5111240148544312,
          2.43731689453125,
          1.4866539239883423,
          2.796283483505249,
          1.4429837465286255,
          2.8081231117248535,
          1.6623822450637817,
          2.4976370334625244,
          1.325467586517334,
          2.435404062271118,
          1.5089480876922607,
          2.65887451171875,
          1.5760557651519775,
          2.5548577308654785,
          1.376504898071289,
          2.9434993267059326,
          1.633122205734253,
          2.509512424468994,
          1.2948756217956543,
          2.6971490383148193,
          1.5090597867965698,
          2.5657308101654053,
          1.478690266609192,
          2.409677743911743,
          1.5983699560165405,
          2.865496873855591,
          4.677191257476807,
          2.6384682655334473,
          1.7481553554534912,
          -6.507544040679932,
          1.7255083322525024,
          2.5991289615631104,
          1.7312144041061401,
          4.691514492034912,
          1.2649211883544922,
          2.8544585704803467,
          1.5089361667633057,
          2.760878801345825,
          1.7067182064056396,
          2.5352418422698975,
          1.8127444982528687,
          2.530405282974243,
          2.1414124965667725,
          2.397489547729492,
          1.2924572229385376,
          2.8935556411743164,
          1.6806552410125732,
          3.133047580718994,
          1.7569292783737183,
          2.6687262058258057,
          1.9192359447479248,
          6.717587471008301,
          7.921295166015625,
          7.26527214050293,
          7.688846111297607,
          7.21884298324585,
          7.613272190093994,
          7.562453269958496,
          7.659286975860596,
          6.934755802154541,
          7.635704517364502,
          7.136791229248047,
          7.6610188484191895,
          7.111189842224121,
          7.433013916015625,
          6.762643337249756,
          8.119486808776855,
          7.396206378936768,
          7.383642196655273,
          7.078124046325684,
          8.145147323608398,
          7.301817893981934,
          7.487945079803467,
          7.5453200340271,
          8.009908676147461,
          7.0557050704956055,
          8.174118995666504,
          6.956423282623291,
          7.243565559387207,
          7.367549896240234,
          8.128735542297363,
          7.285867214202881,
          7.617886066436768,
          6.754994869232178,
          6.992285251617432,
          7.134725570678711,
          7.369424343109131,
          7.391426086425781,
          7.799977779388428,
          7.547586441040039,
          8.170233726501465,
          6.965266704559326,
          7.269195079803467,
          7.390481472015381,
          7.239189624786377,
          6.78154993057251,
          6.707852840423584,
          7.571766376495361,
          8.175485610961914,
          7.367175579071045,
          7.862038612365723,
          7.175270080566406,
          8.108847618103027,
          6.733395576477051,
          7.324067115783691,
          7.2050628662109375,
          7.759176254272461,
          7.0263895988464355,
          7.727635860443115,
          7.317726135253906,
          7.629784107208252,
          7.013376712799072,
          7.691799640655518,
          6.729231834411621,
          6.852701663970947,
          7.234060287475586,
          7.878334999084473,
          7.039463996887207,
          7.334517002105713,
          7.180639743804932,
          7.481081008911133,
          6.824382781982422,
          7.452197551727295,
          7.312981605529785,
          8.061010360717773,
          7.4814558029174805,
          7.182442665100098,
          7.177332878112793,
          7.730129718780518,
          6.876612186431885,
          7.281663417816162,
          7.2921061515808105,
          7.556615352630615,
          6.786335468292236,
          8.059504508972168,
          7.60875940322876,
          7.6985859870910645,
          7.30182409286499,
          8.017457008361816,
          7.167252063751221,
          8.003559112548828,
          11.147644996643066,
          10.823427200317383,
          11.57764720916748,
          10.570502281188965,
          11.672733306884766,
          11.042774200439453,
          10.926186561584473,
          10.492159843444824,
          11.751787185668945,
          11.067062377929688,
          11.067471504211426,
          11.04769515991211,
          11.778666496276855,
          11.060994148254395,
          11.118729591369629,
          10.482866287231445,
          11.531978607177734,
          10.665596008300781,
          11.145964622497559,
          10.577260971069336,
          11.792370796203613,
          10.906622886657715,
          10.859365463256836,
          10.598387718200684,
          11.299199104309082,
          11.05311393737793,
          11.733625411987305,
          11.020706176757812,
          11.565711975097656,
          10.233654975891113,
          11.556452751159668,
          10.716875076293945,
          10.888744354248047,
          10.865147590637207,
          11.467365264892578,
          10.574236869812012,
          11.448869705200195,
          10.669501304626465,
          11.765166282653809,
          10.91877555847168,
          11.239843368530273,
          10.954047203063965,
          11.063620567321777,
          10.947328567504883,
          11.67037582397461,
          10.659201622009277,
          10.994278907775879,
          10.443589210510254,
          11.71302318572998,
          11.113624572753906,
          11.052270889282227,
          10.90626335144043,
          10.97103214263916,
          10.47197437286377,
          11.671000480651855,
          10.685909271240234,
          11.686054229736328,
          11.034842491149902,
          11.094988822937012,
          10.663468360900879,
          11.730772018432617,
          10.86709213256836,
          10.97138500213623,
          10.957317352294922,
          11.536499977111816,
          10.540184020996094,
          11.142692565917969,
          10.973929405212402,
          11.466804504394531,
          10.748616218566895,
          11.28744888305664,
          10.867456436157227,
          11.048587799072266,
          10.242758750915527,
          11.61158561706543,
          10.983835220336914,
          11.293573379516602,
          10.614567756652832,
          11.713221549987793,
          10.443730354309082,
          11.533835411071777,
          11.124034881591797,
          11.058310508728027,
          10.498287200927734,
          11.634103775024414,
          11.056743621826172,
          11.59096908569336,
          10.584047317504883,
          11.502458572387695,
          10.689981460571289,
          11.50524616241455,
          10.9033784866333,
          9.632386207580566,
          10.224813461303711,
          9.878621101379395,
          9.084481239318848,
          9.03368091583252,
          8.96634292602539,
          9.400139808654785,
          8.984130859375,
          8.986772537231445,
          10.19930648803711,
          9.07644271850586,
          9.799445152282715,
          9.674560546875,
          9.892004013061523,
          8.962067604064941,
          8.914440155029297,
          9.104508399963379,
          12.860068321228027,
          9.846216201782227,
          9.52176570892334,
          9.684515953063965,
          9.05370044708252,
          8.939757347106934,
          10.398341178894043,
          9.057426452636719,
          9.475207328796387,
          8.846808433532715,
          10.188652038574219,
          9.160958290100098,
          8.90293025970459,
          8.835870742797852,
          9.261610984802246,
          9.069931983947754,
          9.032858848571777,
          9.12786865234375,
          9.668723106384277,
          8.882245063781738,
          9.143882751464844,
          9.094017028808594,
          9.692537307739258,
          9.72087287902832,
          9.277558326721191,
          10.275256156921387,
          9.27419376373291,
          8.928025245666504,
          10.18614387512207,
          9.172378540039062,
          9.071672439575195,
          9.375164031982422,
          9.584848403930664,
          9.053861618041992,
          9.028534889221191,
          8.9056396484375,
          9.066243171691895,
          9.103255271911621,
          9.396495819091797,
          9.673133850097656,
          8.974068641662598,
          9.343687057495117,
          8.82780647277832,
          9.781660079956055,
          9.131455421447754,
          9.001921653747559,
          9.5078706741333,
          8.953049659729004,
          9.630022048950195,
          9.365300178527832,
          10.267308235168457,
          9.398839950561523,
          9.10395336151123,
          9.978434562683105,
          8.95743465423584,
          9.356118202209473,
          9.643424987792969,
          8.949531555175781,
          9.496776580810547,
          9.724663734436035,
          8.976110458374023,
          9.59260368347168,
          9.66797924041748,
          8.979312896728516,
          10.086702346801758,
          9.133832931518555,
          9.577674865722656,
          8.870804786682129,
          9.35787582397461,
          10.243650436401367,
          9.176457405090332,
          8.880001068115234,
          9.648216247558594,
          9.50456714630127,
          9.191980361938477,
          9.118921279907227,
          13.140833854675293,
          10.474910736083984,
          13.315267562866211,
          12.511495590209961,
          10.531067848205566,
          12.870884895324707,
          10.338001251220703,
          12.902325630187988,
          10.512279510498047,
          10.610211372375488,
          11.433215141296387,
          10.858000755310059,
          12.980141639709473,
          10.763932228088379,
          12.8153076171875,
          10.767486572265625,
          13.125128746032715,
          10.528690338134766,
          12.622767448425293,
          10.297033309936523,
          12.758606910705566,
          10.535463333129883,
          12.977312088012695,
          10.364608764648438,
          13.210318565368652,
          10.288216590881348,
          12.821023941040039,
          10.586516380310059,
          13.628836631774902,
          10.291991233825684,
          13.017399787902832,
          10.448202133178711,
          12.857604026794434,
          10.082771301269531,
          13.187617301940918,
          10.5586576461792,
          12.8801908493042,
          10.497868537902832,
          12.909195899963379,
          10.444698333740234,
          13.495010375976562,
          10.61315631866455,
          12.696981430053711,
          10.458666801452637,
          13.663320541381836,
          10.215950965881348,
          13.018828392028809,
          10.719782829284668,
          13.599543571472168,
          9.927289962768555,
          13.049995422363281,
          10.310050964355469,
          13.643775939941406,
          10.485918045043945,
          12.73134994506836,
          10.113081932067871,
          13.63927936553955,
          10.591596603393555,
          12.890503883361816,
          10.501411437988281,
          13.768961906433105,
          10.43954849243164,
          12.797828674316406,
          10.457972526550293,
          13.762682914733887,
          10.518986701965332,
          12.731034278869629,
          10.386846542358398,
          13.167940139770508,
          10.440449714660645,
          13.006329536437988,
          10.149687767028809,
          13.598043441772461,
          10.011431694030762,
          12.756234169006348,
          10.522979736328125,
          13.683492660522461,
          10.5737943649292,
          12.817428588867188,
          10.452856063842773,
          13.679850578308105,
          10.36090087890625,
          12.862096786499023,
          10.46434211730957,
          13.662247657775879,
          10.416666984558105,
          12.915438652038574,
          13.671977996826172,
          10.597477912902832,
          12.74372386932373,
          10.361238479614258,
          13.587456703186035,
          10.636262893676758,
          -5.395811080932617,
          -5.1552557945251465,
          -4.738722324371338,
          -5.151363372802734,
          -5.652530193328857,
          -5.230922698974609,
          -5.147848129272461,
          -5.377402305603027,
          -5.012237071990967,
          -5.158199787139893,
          -5.500460624694824,
          -5.585119247436523,
          -5.5167622566223145,
          -5.2322235107421875,
          -4.7922163009643555,
          -5.604376792907715,
          -5.113039493560791,
          -5.034304141998291,
          -5.441849231719971,
          -5.547499179840088,
          -5.612515449523926,
          -5.525211334228516,
          -4.7170562744140625,
          -4.897329330444336,
          -5.525428771972656,
          -4.948148727416992,
          -4.820389270782471,
          -5.296046257019043,
          -5.413343906402588,
          -5.514808177947998,
          -4.8284592628479,
          -5.009800910949707,
          -5.512179374694824,
          -4.908229351043701,
          -5.512145519256592,
          -5.721774101257324,
          -4.736857891082764,
          -5.637448787689209,
          -5.617611408233643,
          -5.206460952758789,
          -5.2875752449035645,
          -5.520421028137207,
          -4.888777256011963,
          -4.99983024597168,
          -5.341090202331543,
          -5.631056308746338,
          -4.846714496612549,
          -5.6265387535095215,
          -5.454460620880127,
          -5.383825302124023,
          -5.392553329467773,
          -5.3503241539001465,
          -4.9813618659973145,
          -5.178806781768799,
          -5.122195720672607,
          -5.418597221374512,
          -5.3671488761901855,
          -4.919002532958984,
          -5.540135383605957,
          -5.635970592498779,
          -5.016475677490234,
          -5.064591407775879,
          -5.321075439453125,
          -5.392416477203369,
          -4.745213031768799,
          -5.112266540527344,
          -5.4372711181640625,
          -5.6558098793029785,
          -5.536194324493408,
          -5.572190284729004,
          -4.787079811096191,
          -5.544644832611084,
          -5.555492877960205,
          -5.186183452606201,
          -5.410216808319092,
          -5.158452033996582,
          -5.424229621887207,
          -5.6532487869262695,
          -5.070648193359375,
          -5.1290388107299805,
          -5.470708847045898,
          -5.121641635894775,
          -5.594097137451172,
          -5.621568202972412,
          -5.0673065185546875,
          -5.175622463226318,
          -5.057209491729736,
          -5.398437023162842,
          -5.416956901550293,
          -5.174993991851807,
          6.444270610809326,
          6.848113059997559,
          6.31279993057251,
          6.563536643981934,
          6.937424182891846,
          6.31906270980835,
          6.806087970733643,
          6.177702903747559,
          6.771015644073486,
          6.380339622497559,
          5.968160629272461,
          9.327759742736816,
          6.54227876663208,
          6.583786487579346,
          6.441778659820557,
          6.632163047790527,
          6.04983377456665,
          7.012075901031494,
          6.525479316711426,
          6.632175445556641,
          6.379950523376465,
          6.325721263885498,
          6.525118350982666,
          6.8431549072265625,
          6.19173526763916,
          5.938608646392822,
          6.714156627655029,
          6.194639682769775,
          6.760569095611572,
          6.417034149169922,
          6.848970413208008,
          6.437629222869873,
          6.8806962966918945,
          6.670392990112305,
          6.432714462280273,
          6.630884170532227,
          5.939672470092773,
          6.734861373901367,
          6.612631320953369,
          6.485967636108398,
          6.225384712219238,
          6.793931484222412,
          6.681636333465576,
          6.89326810836792,
          6.355581760406494,
          5.9153852462768555,
          6.548852920532227,
          7.1084065437316895,
          7.062985420227051,
          6.99107027053833,
          6.410664081573486,
          6.489940166473389,
          6.490139007568359,
          6.471989631652832,
          6.515928745269775,
          6.318134784698486,
          6.451297283172607,
          6.0178351402282715,
          6.811791896820068,
          6.605805397033691,
          6.5932135581970215,
          6.528130054473877,
          6.8533759117126465,
          6.539329528808594,
          5.887253761291504,
          6.930067539215088,
          7.610170364379883,
          6.112523555755615,
          6.6225738525390625,
          7.136265277862549,
          6.198619365692139,
          6.841296672821045,
          6.631526947021484,
          6.784278392791748,
          6.22089147567749,
          6.400271892547607,
          6.293075084686279,
          7.010812759399414,
          7.525221347808838,
          6.410386562347412,
          9.577165603637695,
          6.621524333953857,
          6.432384967803955,
          6.7663726806640625,
          6.0984320640563965,
          6.379669666290283,
          6.73486328125,
          5.938483715057373,
          9.37334156036377,
          6.4687886238098145,
          6.7455925941467285,
          6.827805519104004,
          9.252776145935059,
          9.808780670166016,
          9.565680503845215,
          10.000262260437012,
          9.90009880065918,
          9.858448028564453,
          9.480049133300781,
          9.411877632141113,
          9.607599258422852,
          9.25992202758789,
          9.969331741333008,
          9.478965759277344,
          10.292535781860352,
          9.66498851776123,
          9.146154403686523,
          9.525433540344238,
          9.700406074523926,
          9.693207740783691,
          10.013936042785645,
          9.544669151306152,
          9.834308624267578,
          9.88455867767334,
          10.354055404663086,
          9.76833438873291,
          9.360978126525879,
          9.664999008178711,
          10.151799201965332,
          9.421476364135742,
          9.554052352905273,
          9.207942962646484,
          9.397235870361328,
          9.505146980285645,
          9.932195663452148,
          9.270673751831055,
          9.986679077148438,
          9.731271743774414,
          9.530983924865723,
          10.119912147521973,
          9.257328987121582,
          9.845209121704102,
          9.957076072692871,
          9.483087539672852,
          9.604949951171875,
          9.693618774414062,
          10.03367805480957,
          10.080191612243652,
          9.555190086364746,
          9.523595809936523,
          9.072151184082031,
          10.628957748413086,
          9.443385124206543,
          9.044336318969727,
          9.779722213745117,
          10.124773025512695,
          9.468226432800293,
          9.304464340209961,
          9.580764770507812,
          10.839652061462402,
          10.279939651489258,
          9.961647987365723,
          9.615339279174805,
          9.978893280029297,
          10.054201126098633,
          9.062113761901855,
          10.320748329162598,
          9.755142211914062,
          10.252416610717773,
          9.488358497619629,
          10.642280578613281,
          9.346375465393066,
          10.201448440551758,
          9.897181510925293,
          9.863214492797852,
          7.352134704589844,
          10.646851539611816,
          9.341134071350098,
          9.537934303283691,
          10.09603500366211,
          9.281143188476562,
          9.671041488647461,
          10.217126846313477,
          10.199854850769043,
          9.39476490020752,
          10.429688453674316,
          9.44667911529541,
          10.172526359558105,
          9.7039155960083,
          9.262862205505371,
          9.669249534606934,
          9.439316749572754,
          10.053791999816895,
          9.13003921508789,
          9.92960262298584
         ],
         "xaxis": "x",
         "y": [
          -1.9883544445037842,
          -0.21284542977809906,
          -1.791439414024353,
          -0.5145007967948914,
          -1.1271661520004272,
          -2.0565578937530518,
          -0.9491848349571228,
          -1.6624685525894165,
          -0.6706199645996094,
          -1.9570139646530151,
          -0.6112351417541504,
          -1.3566557168960571,
          -1.9858534336090088,
          -0.7739167809486389,
          -1.6938343048095703,
          -1.3117001056671143,
          -0.6569033265113831,
          -2.048020362854004,
          -0.6597458124160767,
          -1.7757662534713745,
          -0.9184523224830627,
          -1.9715778827667236,
          -0.07630596309900284,
          -1.9443798065185547,
          -1.5244665145874023,
          -1.1555925607681274,
          -1.9656050205230713,
          -0.8048129677772522,
          -1.918958067893982,
          -0.1419835239648819,
          -1.8147886991500854,
          -1.2415025234222412,
          -1.916927695274353,
          -0.530998945236206,
          -1.8391127586364746,
          -0.8735959529876709,
          -1.7189416885375977,
          -1.4118956327438354,
          -0.36329492926597595,
          -1.9614189863204956,
          -0.9701717495918274,
          -1.7820391654968262,
          -0.9062524437904358,
          -2.005185604095459,
          -0.9201915264129639,
          -1.7865028381347656,
          -0.6661922931671143,
          -2.0193686485290527,
          -0.13498425483703613,
          -0.7868248224258423,
          -1.9091168642044067,
          -0.6671357750892639,
          -1.8582412004470825,
          -2.010960340499878,
          -1.1738090515136719,
          -0.5599833130836487,
          -0.22822634875774384,
          -1.7207249402999878,
          -0.8588463068008423,
          -0.7771179676055908,
          -2.0227019786834717,
          -1.8152281045913696,
          -1.7039892673492432,
          -0.49534010887145996,
          -1.7085763216018677,
          -0.7802193760871887,
          -1.5645277500152588,
          -1.0877436399459839,
          -1.8610554933547974,
          -1.1248151063919067,
          -1.4166607856750488,
          -0.5416780710220337,
          -1.8601189851760864,
          -0.7276527285575867,
          -1.821892499923706,
          -0.5725776553153992,
          -1.3474617004394531,
          -1.163606882095337,
          -1.2980097532272339,
          -1.2605992555618286,
          -1.8831546306610107,
          -1.4734524488449097,
          -0.7099336981773376,
          -1.380860447883606,
          -0.40027403831481934,
          -1.347693681716919,
          -1.1879527568817139,
          -1.8096355199813843,
          -0.7640791535377502,
          -1.7775354385375977,
          -1.3970438241958618,
          -1.2475954294204712,
          -0.7091578245162964,
          -0.8079158663749695,
          -1.8041542768478394,
          -0.7130604386329651,
          -2.0288121700286865,
          -1.87174654006958,
          6.217230796813965,
          5.560555934906006,
          6.74139928817749,
          5.549509525299072,
          6.283103942871094,
          5.388107776641846,
          6.303474426269531,
          6.066291332244873,
          5.9684576988220215,
          5.627239227294922,
          6.1053619384765625,
          6.122431755065918,
          5.598900318145752,
          6.587334156036377,
          5.731602191925049,
          6.0128493309021,
          5.678772926330566,
          6.600703716278076,
          6.032812595367432,
          5.93513822555542,
          5.662812232971191,
          6.240006923675537,
          5.9066853523254395,
          6.00436544418335,
          5.867102146148682,
          6.69366455078125,
          6.033663272857666,
          6.477428913116455,
          5.646749973297119,
          5.51105260848999,
          6.339867115020752,
          6.0585150718688965,
          6.01954460144043,
          5.543203353881836,
          6.727188587188721,
          6.026580333709717,
          5.879217147827148,
          5.867801189422607,
          6.321475028991699,
          5.9332966804504395,
          5.925458908081055,
          5.777301788330078,
          6.749099254608154,
          5.9973554611206055,
          5.932053089141846,
          6.157599449157715,
          5.910754203796387,
          5.574951171875,
          6.65144681930542,
          5.955567836761475,
          5.92763614654541,
          5.6882004737854,
          6.763674736022949,
          5.3301520347595215,
          6.090188980102539,
          5.662115097045898,
          6.156641006469727,
          5.971930980682373,
          6.640063285827637,
          6.006113529205322,
          6.115440368652344,
          5.941104412078857,
          6.334441661834717,
          5.619007110595703,
          5.903445243835449,
          6.352604866027832,
          5.936933994293213,
          6.717672824859619,
          6.116876125335693,
          6.457433223724365,
          5.494367599487305,
          6.468107223510742,
          6.135416507720947,
          6.732749938964844,
          5.740774631500244,
          6.239055633544922,
          6.574779987335205,
          6.617053031921387,
          6.12660026550293,
          5.968062400817871,
          6.044929504394531,
          6.659136772155762,
          5.488537311553955,
          6.360723972320557,
          5.9982476234436035,
          6.120915412902832,
          6.068675518035889,
          6.7139787673950195,
          5.721518039703369,
          6.187796592712402,
          5.8707661628723145,
          5.9543681144714355,
          6.0326457023620605,
          1.1989610195159912,
          0.7910277247428894,
          0.8454121351242065,
          0.8305507302284241,
          0.9901842474937439,
          1.1798202991485596,
          0.98458331823349,
          0.36441570520401,
          1.189394235610962,
          1.2361468076705933,
          0.8160850405693054,
          1.0016157627105713,
          0.9722490310668945,
          1.2844266891479492,
          1.1819770336151123,
          0.67507004737854,
          0.966813862323761,
          1.1966853141784668,
          0.9976803660392761,
          0.8453494310379028,
          0.8959210515022278,
          0.9577155113220215,
          1.2964414358139038,
          0.6731763482093811,
          1.0776138305664062,
          1.1948204040527344,
          0.8678313493728638,
          1.1976418495178223,
          0.7259740829467773,
          1.08235764503479,
          0.8761968612670898,
          1.0718302726745605,
          0.8370939493179321,
          0.6768413186073303,
          0.7178775668144226,
          0.9395822882652283,
          0.9750576615333557,
          0.6071895360946655,
          1.1679632663726807,
          0.7734683156013489,
          0.8733898401260376,
          1.2717307806015015,
          0.8328330516815186,
          1.263427734375,
          0.8038125038146973,
          0.7245297431945801,
          1.1394450664520264,
          1.2000888586044312,
          0.8158758878707886,
          1.28951096534729,
          0.9824560880661011,
          0.6688105463981628,
          0.9390484690666199,
          0.6106356382369995,
          0.8313153982162476,
          1.1215521097183228,
          1.0124180316925049,
          1.2638664245605469,
          0.8390011191368103,
          0.7068487405776978,
          1.062626600265503,
          1.2471288442611694,
          0.935611367225647,
          1.1966142654418945,
          0.8349382281303406,
          0.9744780659675598,
          5.219632148742676,
          0.558991014957428,
          1.116492509841919,
          -1.5432847738265991,
          0.7272742390632629,
          0.5634172558784485,
          0.9419499039649963,
          5.350111961364746,
          0.8051267266273499,
          0.6977512240409851,
          0.7922686338424683,
          1.2418622970581055,
          1.1891947984695435,
          1.2245862483978271,
          0.966113805770874,
          0.47371554374694824,
          0.6548667550086975,
          1.1446290016174316,
          0.729133129119873,
          0.9021260142326355,
          0.7934361100196838,
          0.7797948718070984,
          1.11050546169281,
          0.7937923073768616,
          1.3077679872512817,
          5.8406572341918945,
          4.204423904418945,
          6.073970317840576,
          4.418672561645508,
          5.599369525909424,
          4.133143901824951,
          5.427761077880859,
          4.268668174743652,
          5.671497344970703,
          4.150384426116943,
          5.781866550445557,
          5.022604942321777,
          5.588018417358398,
          4.178175926208496,
          5.8896002769470215,
          4.24824857711792,
          5.567686557769775,
          4.335437774658203,
          5.359387397766113,
          4.309041500091553,
          5.997345924377441,
          3.986588954925537,
          5.481606483459473,
          4.290788650512695,
          5.867743015289307,
          4.263484001159668,
          5.631259918212891,
          4.285267353057861,
          5.533124923706055,
          4.226027011871338,
          5.999866485595703,
          4.254083156585693,
          5.929636001586914,
          5.432809829711914,
          5.424436569213867,
          4.41131591796875,
          5.811435699462891,
          4.391246795654297,
          5.48300838470459,
          4.186872482299805,
          5.587413787841797,
          4.233220100402832,
          5.441330432891846,
          4.408762454986572,
          5.968717098236084,
          5.607751846313477,
          5.487909317016602,
          4.154261112213135,
          5.62775993347168,
          4.171387672424316,
          5.760459899902344,
          4.2415361404418945,
          5.957082271575928,
          4.431339740753174,
          5.781711101531982,
          4.634342193603516,
          5.7754950523376465,
          4.5118727684021,
          6.045379161834717,
          4.315079689025879,
          5.611675262451172,
          4.21577787399292,
          5.804615020751953,
          5.551229476928711,
          5.508813858032227,
          4.424118995666504,
          5.672389030456543,
          4.424213409423828,
          5.738373756408691,
          4.180655002593994,
          5.913644313812256,
          4.005167484283447,
          5.746829986572266,
          4.239546775817871,
          5.596864700317383,
          4.827418804168701,
          5.858561992645264,
          4.429872512817383,
          5.624912261962891,
          4.414770126342773,
          6.0302348136901855,
          4.230237007141113,
          6.020297527313232,
          4.193370342254639,
          5.431708812713623,
          4.072761058807373,
          6.055722236633301,
          4.2753424644470215,
          5.411591053009033,
          4.336631774902344,
          -1.8060723543167114,
          -3.9984469413757324,
          -1.4311926364898682,
          -3.7797768115997314,
          -1.4671145677566528,
          -3.8440520763397217,
          -1.8039541244506836,
          -3.8356070518493652,
          -1.4218449592590332,
          -4.369248867034912,
          -1.951883316040039,
          -4.3670125007629395,
          -1.5730458498001099,
          -3.8497231006622314,
          -1.8624248504638672,
          -3.7594408988952637,
          -1.816392421722412,
          -3.9286985397338867,
          -2.0434679985046387,
          -3.6990280151367188,
          -1.4640127420425415,
          -4.16160249710083,
          -1.9227179288864136,
          -3.628962516784668,
          -1.6236004829406738,
          -4.367306709289551,
          -1.5307542085647583,
          -4.269600868225098,
          -1.7401822805404663,
          -3.2357823848724365,
          -1.3725889921188354,
          -4.184975624084473,
          -1.8016293048858643,
          -3.7455782890319824,
          -1.2833932638168335,
          -3.7188327312469482,
          -1.5719256401062012,
          -4.1363325119018555,
          -1.4239048957824707,
          -3.9582104682922363,
          -1.7720532417297363,
          -3.8670084476470947,
          -1.9405829906463623,
          -4.214929103851318,
          -1.5029253959655762,
          -3.9930481910705566,
          -1.8517462015151978,
          -3.7320213317871094,
          -1.6163169145584106,
          -3.8210861682891846,
          -1.7065633535385132,
          -3.7322449684143066,
          -1.914551019668579,
          -3.776855707168579,
          -1.6701440811157227,
          -3.919240951538086,
          -1.4897096157073975,
          -4.374722003936768,
          -1.8740382194519043,
          -4.036355972290039,
          -1.4140695333480835,
          -4.245167255401611,
          -1.8152308464050293,
          -4.276885986328125,
          -1.8429621458053589,
          -3.7994496822357178,
          -1.846585750579834,
          -4.30992317199707,
          -1.3771312236785889,
          -4.143623352050781,
          -1.833948016166687,
          -4.079342842102051,
          -1.9378957748413086,
          -3.618682384490967,
          -1.4669277667999268,
          -3.969829559326172,
          -1.6493608951568604,
          -4.089578628540039,
          -1.5267060995101929,
          -3.767815589904785,
          -1.3983348608016968,
          -3.861081123352051,
          -1.905351996421814,
          -4.08432674407959,
          -1.4475277662277222,
          -4.370532035827637,
          -1.7903670072555542,
          -3.9938836097717285,
          -1.3739843368530273,
          -4.183255195617676,
          -1.8313928842544556,
          -3.8453567028045654,
          14.398056030273438,
          15.04857063293457,
          13.766234397888184,
          14.866374969482422,
          14.512897491455078,
          13.868012428283691,
          13.762609481811523,
          15.024958610534668,
          14.135993003845215,
          14.450901985168457,
          14.353771209716797,
          14.292943000793457,
          14.866170883178711,
          14.066356658935547,
          13.749785423278809,
          15.092620849609375,
          14.114830017089844,
          12.645407676696777,
          13.846024513244629,
          14.94057846069336,
          13.734285354614258,
          15.018497467041016,
          14.665087699890137,
          14.763703346252441,
          14.463606834411621,
          13.728142738342285,
          14.87464427947998,
          15.102494239807129,
          13.871214866638184,
          15.08960247039795,
          14.70289134979248,
          14.198836326599121,
          14.996511459350586,
          14.51063346862793,
          14.75429916381836,
          13.837381362915039,
          15.050265312194824,
          14.305254936218262,
          14.87825870513916,
          13.817536354064941,
          14.84215259552002,
          14.486039161682129,
          14.440776824951172,
          14.011066436767578,
          14.865949630737305,
          14.266341209411621,
          14.648736953735352,
          13.973442077636719,
          13.997570991516113,
          15.016286849975586,
          15.039484977722168,
          14.328142166137695,
          14.907200813293457,
          13.71086311340332,
          14.96513557434082,
          13.598038673400879,
          14.242137908935547,
          13.800447463989258,
          14.58182144165039,
          14.885043144226074,
          14.765851974487305,
          14.050414085388184,
          14.958715438842773,
          13.750993728637695,
          14.063796997070312,
          14.14981460571289,
          13.880643844604492,
          15.084099769592285,
          13.749333381652832,
          14.616339683532715,
          13.886519432067871,
          15.052668571472168,
          13.80646800994873,
          13.778288841247559,
          13.710694313049316,
          14.339938163757324,
          13.837858200073242,
          15.039688110351562,
          13.966277122497559,
          14.011476516723633,
          15.132369995117188,
          14.18955135345459,
          14.822296142578125,
          13.678131103515625,
          14.901018142700195,
          13.785078048706055,
          14.540270805358887,
          13.919404029846191,
          15.110376358032227,
          14.03922176361084,
          14.933886528015137,
          13.896208763122559,
          14.892579078674316,
          12.479952812194824,
          15.12468433380127,
          12.348592758178711,
          12.989555358886719,
          15.268274307250977,
          12.65349006652832,
          14.520471572875977,
          12.60582160949707,
          14.578296661376953,
          15.190445899963379,
          -1.0361413955688477,
          14.897873878479004,
          12.555869102478027,
          14.821213722229004,
          12.722064971923828,
          15.174918174743652,
          12.488492012023926,
          15.126513481140137,
          12.818202018737793,
          14.450697898864746,
          12.711919784545898,
          14.639463424682617,
          12.69306468963623,
          14.711087226867676,
          12.43497085571289,
          14.673835754394531,
          12.68502426147461,
          15.015765190124512,
          12.136902809143066,
          15.15256118774414,
          12.556896209716797,
          15.076323509216309,
          12.647446632385254,
          15.121810913085938,
          12.441102027893066,
          14.965678215026855,
          12.689876556396484,
          14.907997131347656,
          12.686834335327148,
          15.136716842651367,
          12.24505615234375,
          14.734575271606445,
          12.777090072631836,
          15.2625150680542,
          12.104689598083496,
          14.903657913208008,
          12.603925704956055,
          14.989435195922852,
          12.168583869934082,
          14.305074691772461,
          12.534805297851562,
          15.318859100341797,
          12.123432159423828,
          14.91175651550293,
          12.73988151550293,
          15.128881454467773,
          12.126561164855957,
          14.894479751586914,
          12.619566917419434,
          14.898813247680664,
          12.001840591430664,
          15.201305389404297,
          12.614075660705566,
          15.096414566040039,
          11.990832328796387,
          15.074973106384277,
          12.610292434692383,
          14.885153770446777,
          12.45997142791748,
          15.266117095947266,
          12.567558288574219,
          14.951319694519043,
          12.156685829162598,
          15.206289291381836,
          12.681415557861328,
          15.094239234924316,
          12.085831642150879,
          14.888936042785645,
          12.673246383666992,
          15.047799110412598,
          12.066567420959473,
          15.19800853729248,
          12.716309547424316,
          15.222827911376953,
          12.110551834106445,
          14.985994338989258,
          12.613229751586914,
          12.099132537841797,
          15.179851531982422,
          12.728477478027344,
          14.490545272827148,
          12.167513847351074,
          15.04831314086914,
          8.086503028869629,
          9.318007469177246,
          8.428794860839844,
          9.182302474975586,
          8.30632495880127,
          9.360845565795898,
          8.606821060180664,
          9.373187065124512,
          8.374678611755371,
          9.332780838012695,
          8.027950286865234,
          9.2754487991333,
          8.286392211914062,
          9.568938255310059,
          8.439763069152832,
          8.537168502807617,
          8.295403480529785,
          9.135275840759277,
          8.076760292053223,
          9.06823444366455,
          8.23708438873291,
          9.105231285095215,
          8.661077499389648,
          9.371674537658691,
          8.16137981414795,
          9.357394218444824,
          8.545177459716797,
          9.442684173583984,
          8.20374870300293,
          9.163213729858398,
          8.40849781036377,
          9.527925491333008,
          8.22163200378418,
          9.351430892944336,
          8.02877426147461,
          9.409704208374023,
          8.55607795715332,
          8.767319679260254,
          8.161003112792969,
          9.165253639221191,
          8.309432983398438,
          8.935391426086426,
          8.584737777709961,
          9.203804016113281,
          8.215649604797363,
          9.330196380615234,
          8.435851097106934,
          9.253251075744629,
          8.076215744018555,
          9.46446704864502,
          8.124516487121582,
          9.288705825805664,
          8.510512351989746,
          9.285350799560547,
          8.321019172668457,
          9.121767044067383,
          8.32466983795166,
          9.256988525390625,
          8.126906394958496,
          9.227811813354492,
          8.50646686553955,
          9.524423599243164,
          8.096732139587402,
          9.175420761108398,
          8.709977149963379,
          9.289485931396484,
          8.054359436035156,
          8.921411514282227,
          8.227598190307617,
          9.346184730529785,
          8.941932678222656,
          9.397836685180664,
          8.213083267211914,
          9.447417259216309,
          8.106489181518555,
          9.101696968078613,
          8.07088565826416,
          8.96131706237793,
          8.467316627502441,
          9.478816986083984,
          8.123513221740723,
          9.354232788085938,
          8.084022521972656,
          9.251575469970703,
          8.33879280090332,
          9.57930850982666,
          8.42803955078125,
          9.42280387878418,
          8.160348892211914,
          9.512238502502441,
          0.17702096700668335,
          1.04286789894104,
          0.6598402857780457,
          0.40100204944610596,
          0.35775256156921387,
          0.28190773725509644,
          0.8282466530799866,
          1.1901105642318726,
          0.3866244852542877,
          0.34649500250816345,
          0.88155198097229,
          -2.912161350250244,
          0.19099190831184387,
          0.720869243144989,
          0.9286027550697327,
          0.6443915963172913,
          0.9190466403961182,
          0.413017600774765,
          1.075426459312439,
          0.580644428730011,
          1.1427968740463257,
          0.7338062524795532,
          0.06077193096280098,
          0.48458850383758545,
          1.2099419832229614,
          0.9460383057594299,
          0.36145493388175964,
          1.26102614402771,
          0.9774925708770752,
          0.16256244480609894,
          0.8407681584358215,
          0.7613483667373657,
          0.8716143369674683,
          0.4333385229110718,
          0.6075116395950317,
          0.7640933990478516,
          0.8969733715057373,
          0.41604083776474,
          0.3788686692714691,
          0.09504979103803635,
          0.7667750120162964,
          0.46839839220046997,
          0.835351288318634,
          0.3821830749511719,
          0.6633353233337402,
          0.8712398409843445,
          0.9219142198562622,
          0.5697179436683655,
          0.7445961833000183,
          0.3896218240261078,
          1.2083306312561035,
          -0.005837718956172466,
          1.0941877365112305,
          1.0322206020355225,
          0.23554129898548126,
          0.5980003476142883,
          1.0068117380142212,
          0.9039971232414246,
          0.9547345042228699,
          1.0543417930603027,
          0.940726101398468,
          0.05212480202317238,
          0.9413177371025085,
          0.5864509344100952,
          0.9480155110359192,
          0.5110861659049988,
          4.0339508056640625,
          0.8938459753990173,
          0.95611971616745,
          0.7811669111251831,
          1.2059333324432373,
          0.5837710499763489,
          0.7622950077056885,
          0.9401349425315857,
          0.6647733449935913,
          1.3803906440734863,
          0.7083807587623596,
          0.644877552986145,
          3.8811304569244385,
          0.23553699254989624,
          -1.9496667385101318,
          1.173874855041504,
          0.535649836063385,
          0.9880150556564331,
          1.0923725366592407,
          0.5425255298614502,
          0.5084197521209717,
          0.9229441285133362,
          -2.992851972579956,
          1.4752451181411743,
          0.8096056580543518,
          0.6572644710540771,
          -2.4300599098205566,
          -3.019789695739746,
          -2.834713935852051,
          -2.449821949005127,
          -2.740070104598999,
          -2.1471328735351562,
          -3.346139669418335,
          -2.4743094444274902,
          -3.295020818710327,
          -2.6395111083984375,
          -3.141744375228882,
          -2.1775550842285156,
          -2.0150954723358154,
          -3.409750461578369,
          -2.436800479888916,
          -3.0506725311279297,
          -2.6907293796539307,
          -2.977231979370117,
          -2.4995269775390625,
          -3.3756844997406006,
          -2.143970251083374,
          -3.1088147163391113,
          -1.7566808462142944,
          -3.3322336673736572,
          -2.526461362838745,
          -2.8643667697906494,
          -2.1592724323272705,
          -2.5447630882263184,
          -2.831326961517334,
          -2.392329692840576,
          -3.151784896850586,
          -2.4105327129364014,
          -2.9022810459136963,
          -2.3263447284698486,
          -2.5619609355926514,
          -2.181471109390259,
          -3.237546682357788,
          -2.5099570751190186,
          -3.0188817977905273,
          -3.0150115489959717,
          -3.31685733795166,
          -2.3560194969177246,
          -2.8272857666015625,
          -2.0525684356689453,
          -3.001750946044922,
          -2.4352173805236816,
          -2.1606574058532715,
          -3.312908887863159,
          -2.367671012878418,
          -2.1135494709014893,
          -3.092041015625,
          -2.5371153354644775,
          -2.350034713745117,
          -2.9287829399108887,
          -3.3596506118774414,
          -2.347540855407715,
          -3.261836290359497,
          -2.1136837005615234,
          -2.016017198562622,
          -2.384021043777466,
          -2.620971918106079,
          -3.431807518005371,
          -2.5353543758392334,
          -2.506382465362549,
          -3.355449676513672,
          -2.9964303970336914,
          -1.905544638633728,
          -3.3032596111297607,
          -2.2704200744628906,
          -2.9459829330444336,
          -1.9381121397018433,
          -2.9399781227111816,
          -2.8907458782196045,
          5.460690498352051,
          -2.221710443496704,
          -3.368839979171753,
          -2.272977352142334,
          -3.301417589187622,
          -2.3297207355499268,
          -1.9257183074951172,
          -1.9547619819641113,
          -2.3341565132141113,
          -2.6479368209838867,
          -2.026054859161377,
          -2.709651470184326,
          -2.4039926528930664,
          -3.301896572113037,
          -2.3666603565216064,
          -2.021289348602295,
          -2.242515802383423,
          -2.979245185852051,
          -2.320969581604004,
          -2.1531877517700195
         ],
         "yaxis": "y"
        }
       ],
       "layout": {
        "annotations": [
         {
          "showarrow": false,
          "text": "Wide receiver, referee, football",
          "x": -5.278967380523682,
          "y": 8.784653663635254,
          "yshift": 0
         },
         {
          "showarrow": false,
          "text": "Cargo, Vehicles, Transportation",
          "x": -6.960228443145752,
          "y": -1.2795158624649048,
          "yshift": 0
         },
         {
          "showarrow": false,
          "text": "Faith, Meditation, Symbolism",
          "x": 9.722479820251465,
          "y": 14.588468551635742,
          "yshift": 0
         },
         {
          "showarrow": false,
          "text": "Downward Dog, Yoga Poses, Mental Well-being",
          "x": 13.128377914428711,
          "y": 12.476140022277832,
          "yshift": 0
         },
         {
          "showarrow": false,
          "text": "Dried fruit, Cooking techniques, Citrus fruit",
          "x": 10.401434898376465,
          "y": -2.7209017276763916,
          "yshift": 0
         },
         {
          "showarrow": false,
          "text": "Large space, Condo features, House details",
          "x": 2.1434359550476074,
          "y": 0.9429364204406738,
          "yshift": 0
         },
         {
          "showarrow": false,
          "text": "Gardening, Tools, Seasons",
          "x": 6.522182941436768,
          "y": 0.7233315706253052,
          "yshift": 0
         },
         {
          "showarrow": false,
          "text": "Kitten, Dog, Animal behavior",
          "x": 4.252776145935059,
          "y": 6.053933143615723,
          "yshift": 0
         },
         {
          "showarrow": false,
          "text": "Songbird, Morning, Nature",
          "x": 7.716160297393799,
          "y": 4.261934280395508,
          "yshift": 0
         },
         {
          "showarrow": false,
          "text": "Water, Family, Duck Behavior",
          "x": 7.153023719787598,
          "y": 5.689877510070801,
          "yshift": 0
         }
        ],
        "coloraxis": {
         "colorbar": {
          "title": {
           "text": "labels"
          }
         },
         "colorscale": [
          [
           0,
           "#ff0000"
          ],
          [
           0.1111111111111111,
           "#ffa700"
          ],
          [
           0.2222222222222222,
           "#afff00"
          ],
          [
           0.3333333333333333,
           "#08ff00"
          ],
          [
           0.4444444444444444,
           "#00ff9f"
          ],
          [
           0.5555555555555556,
           "#00b7ff"
          ],
          [
           0.6666666666666666,
           "#0010ff"
          ],
          [
           0.7777777777777778,
           "#9700ff"
          ],
          [
           0.8888888888888888,
           "#ff00bf"
          ],
          [
           1,
           "#ff0000"
          ]
         ]
        },
        "height": 800,
        "legend": {
         "tracegroupgap": 0
        },
        "margin": {
         "t": 60
        },
        "template": {
         "data": {
          "bar": [
           {
            "error_x": {
             "color": "#f2f5fa"
            },
            "error_y": {
             "color": "#f2f5fa"
            },
            "marker": {
             "line": {
              "color": "rgb(17,17,17)",
              "width": 0.5
             },
             "pattern": {
              "fillmode": "overlay",
              "size": 10,
              "solidity": 0.2
             }
            },
            "type": "bar"
           }
          ],
          "barpolar": [
           {
            "marker": {
             "line": {
              "color": "rgb(17,17,17)",
              "width": 0.5
             },
             "pattern": {
              "fillmode": "overlay",
              "size": 10,
              "solidity": 0.2
             }
            },
            "type": "barpolar"
           }
          ],
          "carpet": [
           {
            "aaxis": {
             "endlinecolor": "#A2B1C6",
             "gridcolor": "#506784",
             "linecolor": "#506784",
             "minorgridcolor": "#506784",
             "startlinecolor": "#A2B1C6"
            },
            "baxis": {
             "endlinecolor": "#A2B1C6",
             "gridcolor": "#506784",
             "linecolor": "#506784",
             "minorgridcolor": "#506784",
             "startlinecolor": "#A2B1C6"
            },
            "type": "carpet"
           }
          ],
          "choropleth": [
           {
            "colorbar": {
             "outlinewidth": 0,
             "ticks": ""
            },
            "type": "choropleth"
           }
          ],
          "contour": [
           {
            "colorbar": {
             "outlinewidth": 0,
             "ticks": ""
            },
            "colorscale": [
             [
              0,
              "#0d0887"
             ],
             [
              0.1111111111111111,
              "#46039f"
             ],
             [
              0.2222222222222222,
              "#7201a8"
             ],
             [
              0.3333333333333333,
              "#9c179e"
             ],
             [
              0.4444444444444444,
              "#bd3786"
             ],
             [
              0.5555555555555556,
              "#d8576b"
             ],
             [
              0.6666666666666666,
              "#ed7953"
             ],
             [
              0.7777777777777778,
              "#fb9f3a"
             ],
             [
              0.8888888888888888,
              "#fdca26"
             ],
             [
              1,
              "#f0f921"
             ]
            ],
            "type": "contour"
           }
          ],
          "contourcarpet": [
           {
            "colorbar": {
             "outlinewidth": 0,
             "ticks": ""
            },
            "type": "contourcarpet"
           }
          ],
          "heatmap": [
           {
            "colorbar": {
             "outlinewidth": 0,
             "ticks": ""
            },
            "colorscale": [
             [
              0,
              "#0d0887"
             ],
             [
              0.1111111111111111,
              "#46039f"
             ],
             [
              0.2222222222222222,
              "#7201a8"
             ],
             [
              0.3333333333333333,
              "#9c179e"
             ],
             [
              0.4444444444444444,
              "#bd3786"
             ],
             [
              0.5555555555555556,
              "#d8576b"
             ],
             [
              0.6666666666666666,
              "#ed7953"
             ],
             [
              0.7777777777777778,
              "#fb9f3a"
             ],
             [
              0.8888888888888888,
              "#fdca26"
             ],
             [
              1,
              "#f0f921"
             ]
            ],
            "type": "heatmap"
           }
          ],
          "heatmapgl": [
           {
            "colorbar": {
             "outlinewidth": 0,
             "ticks": ""
            },
            "colorscale": [
             [
              0,
              "#0d0887"
             ],
             [
              0.1111111111111111,
              "#46039f"
             ],
             [
              0.2222222222222222,
              "#7201a8"
             ],
             [
              0.3333333333333333,
              "#9c179e"
             ],
             [
              0.4444444444444444,
              "#bd3786"
             ],
             [
              0.5555555555555556,
              "#d8576b"
             ],
             [
              0.6666666666666666,
              "#ed7953"
             ],
             [
              0.7777777777777778,
              "#fb9f3a"
             ],
             [
              0.8888888888888888,
              "#fdca26"
             ],
             [
              1,
              "#f0f921"
             ]
            ],
            "type": "heatmapgl"
           }
          ],
          "histogram": [
           {
            "marker": {
             "pattern": {
              "fillmode": "overlay",
              "size": 10,
              "solidity": 0.2
             }
            },
            "type": "histogram"
           }
          ],
          "histogram2d": [
           {
            "colorbar": {
             "outlinewidth": 0,
             "ticks": ""
            },
            "colorscale": [
             [
              0,
              "#0d0887"
             ],
             [
              0.1111111111111111,
              "#46039f"
             ],
             [
              0.2222222222222222,
              "#7201a8"
             ],
             [
              0.3333333333333333,
              "#9c179e"
             ],
             [
              0.4444444444444444,
              "#bd3786"
             ],
             [
              0.5555555555555556,
              "#d8576b"
             ],
             [
              0.6666666666666666,
              "#ed7953"
             ],
             [
              0.7777777777777778,
              "#fb9f3a"
             ],
             [
              0.8888888888888888,
              "#fdca26"
             ],
             [
              1,
              "#f0f921"
             ]
            ],
            "type": "histogram2d"
           }
          ],
          "histogram2dcontour": [
           {
            "colorbar": {
             "outlinewidth": 0,
             "ticks": ""
            },
            "colorscale": [
             [
              0,
              "#0d0887"
             ],
             [
              0.1111111111111111,
              "#46039f"
             ],
             [
              0.2222222222222222,
              "#7201a8"
             ],
             [
              0.3333333333333333,
              "#9c179e"
             ],
             [
              0.4444444444444444,
              "#bd3786"
             ],
             [
              0.5555555555555556,
              "#d8576b"
             ],
             [
              0.6666666666666666,
              "#ed7953"
             ],
             [
              0.7777777777777778,
              "#fb9f3a"
             ],
             [
              0.8888888888888888,
              "#fdca26"
             ],
             [
              1,
              "#f0f921"
             ]
            ],
            "type": "histogram2dcontour"
           }
          ],
          "mesh3d": [
           {
            "colorbar": {
             "outlinewidth": 0,
             "ticks": ""
            },
            "type": "mesh3d"
           }
          ],
          "parcoords": [
           {
            "line": {
             "colorbar": {
              "outlinewidth": 0,
              "ticks": ""
             }
            },
            "type": "parcoords"
           }
          ],
          "pie": [
           {
            "automargin": true,
            "type": "pie"
           }
          ],
          "scatter": [
           {
            "marker": {
             "line": {
              "color": "#283442"
             }
            },
            "type": "scatter"
           }
          ],
          "scatter3d": [
           {
            "line": {
             "colorbar": {
              "outlinewidth": 0,
              "ticks": ""
             }
            },
            "marker": {
             "colorbar": {
              "outlinewidth": 0,
              "ticks": ""
             }
            },
            "type": "scatter3d"
           }
          ],
          "scattercarpet": [
           {
            "marker": {
             "colorbar": {
              "outlinewidth": 0,
              "ticks": ""
             }
            },
            "type": "scattercarpet"
           }
          ],
          "scattergeo": [
           {
            "marker": {
             "colorbar": {
              "outlinewidth": 0,
              "ticks": ""
             }
            },
            "type": "scattergeo"
           }
          ],
          "scattergl": [
           {
            "marker": {
             "line": {
              "color": "#283442"
             }
            },
            "type": "scattergl"
           }
          ],
          "scattermapbox": [
           {
            "marker": {
             "colorbar": {
              "outlinewidth": 0,
              "ticks": ""
             }
            },
            "type": "scattermapbox"
           }
          ],
          "scatterpolar": [
           {
            "marker": {
             "colorbar": {
              "outlinewidth": 0,
              "ticks": ""
             }
            },
            "type": "scatterpolar"
           }
          ],
          "scatterpolargl": [
           {
            "marker": {
             "colorbar": {
              "outlinewidth": 0,
              "ticks": ""
             }
            },
            "type": "scatterpolargl"
           }
          ],
          "scatterternary": [
           {
            "marker": {
             "colorbar": {
              "outlinewidth": 0,
              "ticks": ""
             }
            },
            "type": "scatterternary"
           }
          ],
          "surface": [
           {
            "colorbar": {
             "outlinewidth": 0,
             "ticks": ""
            },
            "colorscale": [
             [
              0,
              "#0d0887"
             ],
             [
              0.1111111111111111,
              "#46039f"
             ],
             [
              0.2222222222222222,
              "#7201a8"
             ],
             [
              0.3333333333333333,
              "#9c179e"
             ],
             [
              0.4444444444444444,
              "#bd3786"
             ],
             [
              0.5555555555555556,
              "#d8576b"
             ],
             [
              0.6666666666666666,
              "#ed7953"
             ],
             [
              0.7777777777777778,
              "#fb9f3a"
             ],
             [
              0.8888888888888888,
              "#fdca26"
             ],
             [
              1,
              "#f0f921"
             ]
            ],
            "type": "surface"
           }
          ],
          "table": [
           {
            "cells": {
             "fill": {
              "color": "#506784"
             },
             "line": {
              "color": "rgb(17,17,17)"
             }
            },
            "header": {
             "fill": {
              "color": "#2a3f5f"
             },
             "line": {
              "color": "rgb(17,17,17)"
             }
            },
            "type": "table"
           }
          ]
         },
         "layout": {
          "annotationdefaults": {
           "arrowcolor": "#f2f5fa",
           "arrowhead": 0,
           "arrowwidth": 1
          },
          "autotypenumbers": "strict",
          "coloraxis": {
           "colorbar": {
            "outlinewidth": 0,
            "ticks": ""
           }
          },
          "colorscale": {
           "diverging": [
            [
             0,
             "#8e0152"
            ],
            [
             0.1,
             "#c51b7d"
            ],
            [
             0.2,
             "#de77ae"
            ],
            [
             0.3,
             "#f1b6da"
            ],
            [
             0.4,
             "#fde0ef"
            ],
            [
             0.5,
             "#f7f7f7"
            ],
            [
             0.6,
             "#e6f5d0"
            ],
            [
             0.7,
             "#b8e186"
            ],
            [
             0.8,
             "#7fbc41"
            ],
            [
             0.9,
             "#4d9221"
            ],
            [
             1,
             "#276419"
            ]
           ],
           "sequential": [
            [
             0,
             "#0d0887"
            ],
            [
             0.1111111111111111,
             "#46039f"
            ],
            [
             0.2222222222222222,
             "#7201a8"
            ],
            [
             0.3333333333333333,
             "#9c179e"
            ],
            [
             0.4444444444444444,
             "#bd3786"
            ],
            [
             0.5555555555555556,
             "#d8576b"
            ],
            [
             0.6666666666666666,
             "#ed7953"
            ],
            [
             0.7777777777777778,
             "#fb9f3a"
            ],
            [
             0.8888888888888888,
             "#fdca26"
            ],
            [
             1,
             "#f0f921"
            ]
           ],
           "sequentialminus": [
            [
             0,
             "#0d0887"
            ],
            [
             0.1111111111111111,
             "#46039f"
            ],
            [
             0.2222222222222222,
             "#7201a8"
            ],
            [
             0.3333333333333333,
             "#9c179e"
            ],
            [
             0.4444444444444444,
             "#bd3786"
            ],
            [
             0.5555555555555556,
             "#d8576b"
            ],
            [
             0.6666666666666666,
             "#ed7953"
            ],
            [
             0.7777777777777778,
             "#fb9f3a"
            ],
            [
             0.8888888888888888,
             "#fdca26"
            ],
            [
             1,
             "#f0f921"
            ]
           ]
          },
          "colorway": [
           "#636efa",
           "#EF553B",
           "#00cc96",
           "#ab63fa",
           "#FFA15A",
           "#19d3f3",
           "#FF6692",
           "#B6E880",
           "#FF97FF",
           "#FECB52"
          ],
          "font": {
           "color": "#f2f5fa"
          },
          "geo": {
           "bgcolor": "rgb(17,17,17)",
           "lakecolor": "rgb(17,17,17)",
           "landcolor": "rgb(17,17,17)",
           "showlakes": true,
           "showland": true,
           "subunitcolor": "#506784"
          },
          "hoverlabel": {
           "align": "left"
          },
          "hovermode": "closest",
          "mapbox": {
           "style": "dark"
          },
          "paper_bgcolor": "rgb(17,17,17)",
          "plot_bgcolor": "rgb(17,17,17)",
          "polar": {
           "angularaxis": {
            "gridcolor": "#506784",
            "linecolor": "#506784",
            "ticks": ""
           },
           "bgcolor": "rgb(17,17,17)",
           "radialaxis": {
            "gridcolor": "#506784",
            "linecolor": "#506784",
            "ticks": ""
           }
          },
          "scene": {
           "xaxis": {
            "backgroundcolor": "rgb(17,17,17)",
            "gridcolor": "#506784",
            "gridwidth": 2,
            "linecolor": "#506784",
            "showbackground": true,
            "ticks": "",
            "zerolinecolor": "#C8D4E3"
           },
           "yaxis": {
            "backgroundcolor": "rgb(17,17,17)",
            "gridcolor": "#506784",
            "gridwidth": 2,
            "linecolor": "#506784",
            "showbackground": true,
            "ticks": "",
            "zerolinecolor": "#C8D4E3"
           },
           "zaxis": {
            "backgroundcolor": "rgb(17,17,17)",
            "gridcolor": "#506784",
            "gridwidth": 2,
            "linecolor": "#506784",
            "showbackground": true,
            "ticks": "",
            "zerolinecolor": "#C8D4E3"
           }
          },
          "shapedefaults": {
           "line": {
            "color": "#f2f5fa"
           }
          },
          "sliderdefaults": {
           "bgcolor": "#C8D4E3",
           "bordercolor": "rgb(17,17,17)",
           "borderwidth": 1,
           "tickwidth": 0
          },
          "ternary": {
           "aaxis": {
            "gridcolor": "#506784",
            "linecolor": "#506784",
            "ticks": ""
           },
           "baxis": {
            "gridcolor": "#506784",
            "linecolor": "#506784",
            "ticks": ""
           },
           "bgcolor": "rgb(17,17,17)",
           "caxis": {
            "gridcolor": "#506784",
            "linecolor": "#506784",
            "ticks": ""
           }
          },
          "title": {
           "x": 0.05
          },
          "updatemenudefaults": {
           "bgcolor": "#506784",
           "borderwidth": 0
          },
          "xaxis": {
           "automargin": true,
           "gridcolor": "#283442",
           "linecolor": "#506784",
           "ticks": "",
           "title": {
            "standoff": 15
           },
           "zerolinecolor": "#283442",
           "zerolinewidth": 2
          },
          "yaxis": {
           "automargin": true,
           "gridcolor": "#283442",
           "linecolor": "#506784",
           "ticks": "",
           "title": {
            "standoff": 15
           },
           "zerolinecolor": "#283442",
           "zerolinewidth": 2
          }
         }
        },
        "width": 1600,
        "xaxis": {
         "anchor": "y",
         "domain": [
          0,
          1
         ],
         "title": {
          "text": "X"
         }
        },
        "yaxis": {
         "anchor": "x",
         "domain": [
          0,
          1
         ],
         "title": {
          "text": "Y"
         }
        }
       }
      }
     },
     "metadata": {},
     "output_type": "display_data"
    }
   ],
   "source": [
    "cc.show(interactive=True)"
   ]
  },
  {
   "cell_type": "code",
   "execution_count": null,
   "metadata": {},
   "outputs": [],
   "source": []
  }
 ],
 "metadata": {
  "kernelspec": {
   "display_name": ".venv",
   "language": "python",
   "name": "python3"
  },
  "language_info": {
   "codemirror_mode": {
    "name": "ipython",
    "version": 3
   },
   "file_extension": ".py",
   "mimetype": "text/x-python",
   "name": "python",
   "nbconvert_exporter": "python",
   "pygments_lexer": "ipython3",
   "version": "3.10.15"
  }
 },
 "nbformat": 4,
 "nbformat_minor": 2
}
